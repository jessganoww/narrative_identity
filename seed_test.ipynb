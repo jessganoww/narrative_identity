{
 "cells": [
  {
   "cell_type": "code",
   "execution_count": 112,
   "id": "bc3a9ff8-16bf-4659-8599-aaaabfd5e7b1",
   "metadata": {
    "tags": []
   },
   "outputs": [],
   "source": [
    "import pandas as pd"
   ]
  },
  {
   "cell_type": "code",
   "execution_count": 62,
   "id": "716ffad7-63c2-493c-8470-4599c11f9718",
   "metadata": {
    "tags": []
   },
   "outputs": [
    {
     "data": {
      "text/plain": [
       "['code 1: city of origin, code 2: childhood, code 3: freedom, code 4: bicycling',\n",
       " 'code 2: childhood, code 5: parenting, code 6: positive family relationships, code 7: children, code 8: happiness, code 9: contentment, code 10: pride',\n",
       " 'code 11: different expectations, code 12: societal expectations, code 13: gender roles, code 14: post-war america, code 15: spouse,',\n",
       " 'code 15: spouse, code 16: college, code 17: social programs, code 18: marriage, code 19: gratitude',\n",
       " 'code 16: college, code 5: parenting, code 8: happiness, code 9: contentment, code 7: children, code 20: sewing, code 21: canning, code 22: being active']"
      ]
     },
     "execution_count": 62,
     "metadata": {},
     "output_type": "execute_result"
    }
   ],
   "source": [
    "df = pd.read_csv(\"./transcripts/mrs-r-codes.csv\", header=None)\n",
    "data = df[0].tolist()\n",
    "data = [x.lower() for x in data]\n",
    "data[:5]"
   ]
  },
  {
   "cell_type": "code",
   "execution_count": 130,
   "id": "257bbc14-22b3-4dcc-a9b7-ce955f317ec6",
   "metadata": {
    "tags": []
   },
   "outputs": [],
   "source": [
    "transcript_codes = [x.split(\",\") for x in data]\n",
    "transcript_codes = [list(map(str.strip, x)) for x in transcript_codes]\n",
    "# transcript_codes[:3]"
   ]
  },
  {
   "cell_type": "code",
   "execution_count": 121,
   "id": "90d40ca1-659a-462f-85dc-b44ba0e5703e",
   "metadata": {
    "tags": []
   },
   "outputs": [],
   "source": [
    "def filter_codes(code: str):\n",
    "    code_list = [x for x in transcript_codes if code in x]\n",
    "    code_1d = [x for sublist in code_list for x in sublist if x]\n",
    "    return code_1d"
   ]
  },
  {
   "cell_type": "code",
   "execution_count": 126,
   "id": "3df91b36-19c5-47f4-8b0d-3b20ce994d8c",
   "metadata": {
    "tags": []
   },
   "outputs": [
    {
     "data": {
      "text/plain": [
       "code 15: spouse                          12\n",
       "code 18: marriage                         3\n",
       "code 6: positive family relationships     3\n",
       "code 32: social connections               2\n",
       "code 57: religion                         2\n",
       "code 13: gender roles                     2\n",
       "code 14: post-war america                 2\n",
       "code 58: home                             2\n",
       "code 17: social programs                  2\n",
       "code 25: aspirations                      2\n",
       "code 26: travel                           2\n",
       "code 5: parenting                         1\n",
       "code 59: aging                            1\n",
       "code 7: children                          1\n",
       "code 43: politics                         1\n",
       "code 8: happiness                         1\n",
       "code 9: contentment                       1\n",
       "code 46: ww2                              1\n",
       "code 10: pride                            1\n",
       "code 41: food                             1\n",
       "code 40: positive thinking                1\n",
       "code 37: work/job                         1\n",
       "code 11: different expectations           1\n",
       "code 30: outdoors                         1\n",
       "code 2: childhood                         1\n",
       "code 19: gratitude                        1\n",
       "code 16: college                          1\n",
       "code 12: societal expectations            1\n",
       "code: 13: gender roles                    1\n",
       "Name: count, dtype: int64"
      ]
     },
     "execution_count": 126,
     "metadata": {},
     "output_type": "execute_result"
    }
   ],
   "source": [
    "spouse_list = filter_codes(\"code 15: spouse\")\n",
    "spouse_df = pd.DataFrame(spouse_list)\n",
    "spouse_df.value_counts()"
   ]
  },
  {
   "cell_type": "code",
   "execution_count": 131,
   "id": "c394f486-a4fd-496b-88d8-be06d13c630c",
   "metadata": {
    "tags": []
   },
   "outputs": [
    {
     "data": {
      "text/plain": [
       "code 41: food                     14\n",
       "code 46: ww2                       3\n",
       "code 32: social connections        2\n",
       "code 12: societal expecations      1\n",
       "code 40: positive thinking         1\n",
       "code 54: the depression            1\n",
       "code 52: gardening                 1\n",
       "code 49: cultural appreciation     1\n",
       "code 42: worry                     1\n",
       "code 39: covid                     1\n",
       "code 15: spouse                    1\n",
       "code 37: work/jobs                 1\n",
       "code 30: outdoors                  1\n",
       "code 28: imparting wisdom          1\n",
       "code 27: adventurous spirit        1\n",
       "code 26: travel                    1\n",
       "code 17: social programs           1\n",
       "code 59: aging                     1\n",
       "Name: count, dtype: int64"
      ]
     },
     "execution_count": 131,
     "metadata": {},
     "output_type": "execute_result"
    }
   ],
   "source": [
    "food_list = filter_codes(\"code 41: food\")\n",
    "food_df = pd.DataFrame(food_list)\n",
    "food_df.value_counts()"
   ]
  },
  {
   "cell_type": "code",
   "execution_count": 125,
   "id": "bb557d3b-8b7d-4f3a-aaaa-e977f4ce5faa",
   "metadata": {
    "tags": []
   },
   "outputs": [
    {
     "data": {
      "text/plain": [
       "code 17: social programs     9\n",
       "code 54: the depression      3\n",
       "code 15: spouse              2\n",
       "code 43: politics            2\n",
       "code 14: post-war america    1\n",
       "code 16: college             1\n",
       "code 18: marriage            1\n",
       "code 19: gratitude           1\n",
       "code 28: imparting wisdom    1\n",
       "code 34: teaching            1\n",
       "code 36: intuition           1\n",
       "code 37: work/job            1\n",
       "code 37: workjobs            1\n",
       "code 41: food                1\n",
       "code 55: hard times          1\n",
       "code 5: parenting            1\n",
       "Name: count, dtype: int64"
      ]
     },
     "execution_count": 125,
     "metadata": {},
     "output_type": "execute_result"
    }
   ],
   "source": [
    "social_programs_list = filter_codes(\"code 17: social programs\")\n",
    "social_programs_df = pd.DataFrame(social_programs_list)\n",
    "social_programs_df.value_counts()"
   ]
  },
  {
   "cell_type": "code",
   "execution_count": 127,
   "id": "38b46e49-8e8c-449b-a74b-4e925689998b",
   "metadata": {
    "tags": []
   },
   "outputs": [
    {
     "data": {
      "text/plain": [
       "code 26: travel                9\n",
       "code 27: adventurous spirit    3\n",
       "code 15: spouse                2\n",
       "code 22: being active          2\n",
       "code 9: contentment            2\n",
       "code 8: happiness              2\n",
       "code 2: childhood              2\n",
       "code 7: children               2\n",
       "code 5: parenting              2\n",
       "code 46: ww2                   2\n",
       "code 45: excitement            1\n",
       "code 57: religion              1\n",
       "code 53: fathers               1\n",
       "code 47: intolerance           1\n",
       "code 40: positive thinking     1\n",
       "code 41: food                  1\n",
       "code 18: marriage              1\n",
       "code 37: work/job              1\n",
       "code 34: teaching              1\n",
       "code 32: social connections    1\n",
       "code 3                         1\n",
       "code 28: imparting wisdom      1\n",
       "code 25: aspirations           1\n",
       "freedom                        1\n",
       "Name: count, dtype: int64"
      ]
     },
     "execution_count": 127,
     "metadata": {},
     "output_type": "execute_result"
    }
   ],
   "source": [
    "travel_list = filter_codes(\"code 26: travel\")\n",
    "travel_df = pd.DataFrame(travel_list)\n",
    "travel_df.value_counts()"
   ]
  },
  {
   "cell_type": "code",
   "execution_count": 128,
   "id": "5e5e07ad-259e-4565-8364-92dff99f82a0",
   "metadata": {
    "tags": []
   },
   "outputs": [
    {
     "data": {
      "text/plain": [
       "code 32: social connections                    9\n",
       "code 40: positive thinking                     3\n",
       "code 15: spouse                                2\n",
       "code 7: children                               2\n",
       "code 5: parenting                              2\n",
       "code 58: home                                  2\n",
       "code 41: food                                  2\n",
       "code 38: friends                               2\n",
       "code 30: outdoors                              2\n",
       "code 28: imparting wisdom                      2\n",
       "code 2: childhood                              2\n",
       "code 42: worry                                 1\n",
       "code 26: travel                                1\n",
       "code 59: aging                                 1\n",
       "code 56: mothers                               1\n",
       "code 53: fathers                               1\n",
       "code 50: knitting                              1\n",
       "code 33: lived experience                      1\n",
       "code 34: teaching                              1\n",
       "code 31: negative view of video games/ tech    1\n",
       "code 3: freedom                                1\n",
       "code 39: covid                                 1\n",
       "code 25: aspirations                           1\n",
       "code 37: work/job                              1\n",
       "code 36: intuition                             1\n",
       "code 35: learning                              1\n",
       "code 8: happiness                              1\n",
       "Name: count, dtype: int64"
      ]
     },
     "execution_count": 128,
     "metadata": {},
     "output_type": "execute_result"
    }
   ],
   "source": [
    "social_connections_list = filter_codes(\"code 32: social connections\")\n",
    "social_connections_df = pd.DataFrame(social_connections_list)\n",
    "social_connections_df.value_counts()"
   ]
  }
 ],
 "metadata": {
  "kernelspec": {
   "display_name": "Python 3 (ipykernel)",
   "language": "python",
   "name": "python3"
  },
  "language_info": {
   "codemirror_mode": {
    "name": "ipython",
    "version": 3
   },
   "file_extension": ".py",
   "mimetype": "text/x-python",
   "name": "python",
   "nbconvert_exporter": "python",
   "pygments_lexer": "ipython3",
   "version": "3.9.16"
  }
 },
 "nbformat": 4,
 "nbformat_minor": 5
}
