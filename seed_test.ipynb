{
 "cells": [
  {
   "cell_type": "code",
   "execution_count": 26,
   "id": "bc3a9ff8-16bf-4659-8599-aaaabfd5e7b1",
   "metadata": {
    "tags": [],
    "ExecuteTime": {
     "start_time": "2023-05-24T12:19:27.473971Z",
     "end_time": "2023-05-24T12:19:27.478813Z"
    }
   },
   "outputs": [],
   "source": [
    "import pandas as pd\n",
    "pd.set_option('display.max_colwidth', None)"
   ]
  },
  {
   "cell_type": "code",
   "execution_count": 27,
   "outputs": [
    {
     "data": {
      "text/plain": "                                                                                                                                                                                                                                                                                                                                                                                                                                                                                                                                                                                                                                                                               Transcript   \n1                                                                     Mrs. R: First of all, I still have a strong voice at the age of 90, so a lot of people on the phone don't think I'm 90, but this year I am 90 and I have lived in Santa Clara Valley, which is now called Silicon Valley, oh, most of my life. It's a wonderful place to live. Wonderful weather. Close to the ocean. So that's where I grew up and it was a, I grew up in a town of Santa Clara, which was right next to San Jose, and it was a town of 5,000 people at the time. Very low key, very nice place to grow up. It was able to ride my bicycle all over the place. Had a lot of freedom. So that's me.  \\\n3  Mrs. R: You know something, I don't think I would take you up on that. Cause you know, life is a real mixture and there's wonderful, and there's some things you don't wanna live agains. So, um, I think my childhood was very, very happy. I had a happy life so, I really don't know that I'd wanna live any of my years again. They were, I had wonderful times raising our children. We decided to have a large family and so we ended up with six daughters and four sons and they're all alive and doing well today. Very proud of them. And, uh, our son, Toby, is living at Pittsburgh and he has a daughter named Taylor who is doing this podcast. So that's where I'm at.    \n5                                                                                                                                                                                                                                                                                  Mrs. R: If you could speak to your younger self, what advice would you give? Hmm. Well, I don't, it was really interesting. When I was growing up, there were three choices for women. To work as a job, a secretary, nurse, or teacher. And none of those appealed to me at my young age. And so when I met my husband to be, he had gotten out of the service. Second World War was over and he had.   \n6                                                                                                                                                                                                             Mrs. R: Something called the GI Bill, which was a wonderful bill that they put through Congress, which allowed any service man to go to college for free. For free. It was wonderful. So he, what he did is he came out here and he ended up going to Santa Clara University and he only had had two years before the war was ended, but they let him stay for four years and he got his education and we got married during that time and that was a really good decision.   \n7                                                                                                                                                                                                                                                                                                                     Mrs. R: I went to college for one year, and then I was a mom and I really loved being a mom. So we had numerous children and they were all very active doing things, making things, being active. Boys all had paper routes and had a little bit of money that way, and the girls did a lot of babysitting and a lot of sewing, and a lot of helping canning fruit.   \n\n                                                                                                                                              Codes  \n1                                                                        code 1: city of origin,code 2: childhood,code 3: freedom,code 4: bicycling  \n3   code 2: childhood,code 5: parenting,code 6: positive family relationships,code 7: children,code 8: happiness,code 9: contentment,code 10: pride  \n5                    code 11: different expectations,code 12: societal expectations,code 13: gender roles,code 14: post-war america,code 15: spouse  \n6                                                    code 15: spouse,code 16: college,code 17: social programs,code 18: marriage,code 19: gratitude  \n7  code 16: college,code 5: parenting,code 8: happiness,code 9: contentment,code 7: children,code 20: sewing,code 21: canning,code 22: being active  ",
      "text/html": "<div>\n<style scoped>\n    .dataframe tbody tr th:only-of-type {\n        vertical-align: middle;\n    }\n\n    .dataframe tbody tr th {\n        vertical-align: top;\n    }\n\n    .dataframe thead th {\n        text-align: right;\n    }\n</style>\n<table border=\"1\" class=\"dataframe\">\n  <thead>\n    <tr style=\"text-align: right;\">\n      <th></th>\n      <th>Transcript</th>\n      <th>Codes</th>\n    </tr>\n  </thead>\n  <tbody>\n    <tr>\n      <th>1</th>\n      <td>Mrs. R: First of all, I still have a strong voice at the age of 90, so a lot of people on the phone don't think I'm 90, but this year I am 90 and I have lived in Santa Clara Valley, which is now called Silicon Valley, oh, most of my life. It's a wonderful place to live. Wonderful weather. Close to the ocean. So that's where I grew up and it was a, I grew up in a town of Santa Clara, which was right next to San Jose, and it was a town of 5,000 people at the time. Very low key, very nice place to grow up. It was able to ride my bicycle all over the place. Had a lot of freedom. So that's me.</td>\n      <td>code 1: city of origin,code 2: childhood,code 3: freedom,code 4: bicycling</td>\n    </tr>\n    <tr>\n      <th>3</th>\n      <td>Mrs. R: You know something, I don't think I would take you up on that. Cause you know, life is a real mixture and there's wonderful, and there's some things you don't wanna live agains. So, um, I think my childhood was very, very happy. I had a happy life so, I really don't know that I'd wanna live any of my years again. They were, I had wonderful times raising our children. We decided to have a large family and so we ended up with six daughters and four sons and they're all alive and doing well today. Very proud of them. And, uh, our son, Toby, is living at Pittsburgh and he has a daughter named Taylor who is doing this podcast. So that's where I'm at.</td>\n      <td>code 2: childhood,code 5: parenting,code 6: positive family relationships,code 7: children,code 8: happiness,code 9: contentment,code 10: pride</td>\n    </tr>\n    <tr>\n      <th>5</th>\n      <td>Mrs. R: If you could speak to your younger self, what advice would you give? Hmm. Well, I don't, it was really interesting. When I was growing up, there were three choices for women. To work as a job, a secretary, nurse, or teacher. And none of those appealed to me at my young age. And so when I met my husband to be, he had gotten out of the service. Second World War was over and he had.</td>\n      <td>code 11: different expectations,code 12: societal expectations,code 13: gender roles,code 14: post-war america,code 15: spouse</td>\n    </tr>\n    <tr>\n      <th>6</th>\n      <td>Mrs. R: Something called the GI Bill, which was a wonderful bill that they put through Congress, which allowed any service man to go to college for free. For free. It was wonderful. So he, what he did is he came out here and he ended up going to Santa Clara University and he only had had two years before the war was ended, but they let him stay for four years and he got his education and we got married during that time and that was a really good decision.</td>\n      <td>code 15: spouse,code 16: college,code 17: social programs,code 18: marriage,code 19: gratitude</td>\n    </tr>\n    <tr>\n      <th>7</th>\n      <td>Mrs. R: I went to college for one year, and then I was a mom and I really loved being a mom. So we had numerous children and they were all very active doing things, making things, being active. Boys all had paper routes and had a little bit of money that way, and the girls did a lot of babysitting and a lot of sewing, and a lot of helping canning fruit.</td>\n      <td>code 16: college,code 5: parenting,code 8: happiness,code 9: contentment,code 7: children,code 20: sewing,code 21: canning,code 22: being active</td>\n    </tr>\n  </tbody>\n</table>\n</div>"
     },
     "execution_count": 27,
     "metadata": {},
     "output_type": "execute_result"
    }
   ],
   "source": [
    "df = pd.read_csv(\"./transcripts/mrs-r.csv\").dropna()\n",
    "\n",
    "df[\"Codes\"] = df[\"Codes\"].str.lower()\n",
    "df[\"Codes\"] = df[\"Codes\"].str.replace(r\",\\s+\", \",\", regex=True)\n",
    "df[\"Codes\"] = df[\"Codes\"].str.rstrip(\",\")\n",
    "\n",
    "df.head()"
   ],
   "metadata": {
    "collapsed": false,
    "ExecuteTime": {
     "start_time": "2023-05-24T12:19:37.924359Z",
     "end_time": "2023-05-24T12:19:37.935410Z"
    }
   }
  },
  {
   "cell_type": "code",
   "execution_count": 20,
   "outputs": [],
   "source": [
    "def filter_codes(code: str):\n",
    "    code_df = df[df[\"Codes\"].str.contains(code)]\n",
    "    codes = code_df[\"Codes\"].str.split(\",\")\n",
    "    codes = list(codes.explode(\"Codes\"))\n",
    "    return codes"
   ],
   "metadata": {
    "collapsed": false,
    "ExecuteTime": {
     "start_time": "2023-05-24T12:18:54.356625Z",
     "end_time": "2023-05-24T12:18:54.363218Z"
    }
   }
  },
  {
   "cell_type": "code",
   "execution_count": 21,
   "outputs": [
    {
     "data": {
      "text/plain": "code 15: spouse                          12\ncode 18: marriage                         3\ncode 6: positive family relationships     3\ncode 32: social connections               2\ncode 57: religion                         2\ncode 13: gender roles                     2\ncode 14: post-war america                 2\ncode 58: home                             2\ncode 17: social programs                  2\ncode 25: aspirations                      2\ncode 26: travel                           2\ncode 5: parenting                         1\ncode 59: aging                            1\ncode 7: children                          1\ncode 43: politics                         1\ncode 8: happiness                         1\ncode 9: contentment                       1\ncode 46: ww2                              1\ncode 10: pride                            1\ncode 41: food                             1\ncode 40: positive thinking                1\ncode 37: work/job                         1\ncode 11: different expectations           1\ncode 30: outdoors                         1\ncode 2: childhood                         1\ncode 19: gratitude                        1\ncode 16: college                          1\ncode 12: societal expectations            1\ncode: 13: gender roles                    1\nName: count, dtype: int64"
     },
     "execution_count": 21,
     "metadata": {},
     "output_type": "execute_result"
    }
   ],
   "source": [
    "spouse_list = filter_codes(\"code 15: spouse\")\n",
    "spouse_df = pd.DataFrame(data=spouse_list)\n",
    "spouse_df.value_counts()"
   ],
   "metadata": {
    "collapsed": false,
    "ExecuteTime": {
     "start_time": "2023-05-24T12:18:54.832673Z",
     "end_time": "2023-05-24T12:18:54.836340Z"
    }
   }
  },
  {
   "cell_type": "code",
   "execution_count": 22,
   "id": "c394f486-a4fd-496b-88d8-be06d13c630c",
   "metadata": {
    "tags": [],
    "ExecuteTime": {
     "start_time": "2023-05-24T12:18:56.040335Z",
     "end_time": "2023-05-24T12:18:56.045526Z"
    }
   },
   "outputs": [
    {
     "data": {
      "text/plain": "code 41: food                     14\ncode 46: ww2                       3\ncode 32: social connections        2\ncode 49: cultural appreciation     2\ncode 12: societal expecations      1\ncode 59: aging                     1\ncode 54: the depression            1\ncode 52: gardening                 1\ncode 42: worry                     1\ncode 40                            1\ncode 15: spouse                    1\ncode 39: covid                     1\ncode 37: work/jobs                 1\ncode 30: outdoors                  1\ncode 28: imparting wisdom          1\ncode 17: social programs           1\npositive thinking                  1\nName: count, dtype: int64"
     },
     "execution_count": 22,
     "metadata": {},
     "output_type": "execute_result"
    }
   ],
   "source": [
    "food_list = filter_codes(\"code 41: food\")\n",
    "food_df = pd.DataFrame(food_list)\n",
    "food_df.value_counts()"
   ]
  },
  {
   "cell_type": "code",
   "execution_count": 23,
   "id": "bb557d3b-8b7d-4f3a-aaaa-e977f4ce5faa",
   "metadata": {
    "tags": [],
    "ExecuteTime": {
     "start_time": "2023-05-24T12:18:57.546929Z",
     "end_time": "2023-05-24T12:18:57.551459Z"
    }
   },
   "outputs": [
    {
     "data": {
      "text/plain": "code 17: social programs     9\ncode 54: the depression      3\ncode 15: spouse              2\ncode 43: politics            2\ncode 14: post-war america    1\ncode 16: college             1\ncode 18: marriage            1\ncode 19: gratitude           1\ncode 28: imparting wisdom    1\ncode 34: teaching            1\ncode 36: intuition           1\ncode 37: work/job            1\ncode 37: workjobs            1\ncode 41: food                1\ncode 55: hard times          1\ncode 5: parenting            1\nName: count, dtype: int64"
     },
     "execution_count": 23,
     "metadata": {},
     "output_type": "execute_result"
    }
   ],
   "source": [
    "social_programs_list = filter_codes(\"code 17: social programs\")\n",
    "social_programs_df = pd.DataFrame(social_programs_list)\n",
    "social_programs_df.value_counts()"
   ]
  },
  {
   "cell_type": "code",
   "execution_count": 24,
   "id": "38b46e49-8e8c-449b-a74b-4e925689998b",
   "metadata": {
    "tags": [],
    "ExecuteTime": {
     "start_time": "2023-05-24T12:18:58.301950Z",
     "end_time": "2023-05-24T12:18:58.310365Z"
    }
   },
   "outputs": [
    {
     "data": {
      "text/plain": "code 26: travel                9\ncode 27: adventurous spirit    3\ncode 15: spouse                2\ncode 46: ww2                   2\ncode 9: contentment            2\ncode 8: happiness              2\ncode 7: children               2\ncode 5: parenting              2\ncode 53: fathers               2\nfreedom                        2\ncode 3                         2\ncode 2: childhood              2\ncode 22: being active          2\ncode 34: teaching              1\ncode 18: marriage              1\ncode 40: positive thinking     1\ncode 45: excitement            1\ncode 32: social connections    1\ncode 47: intolerance           1\ncode 57: religion              1\ncode 28: imparting wisdom      1\ncode 25: aspirations           1\ncode 37: work/job              1\nName: count, dtype: int64"
     },
     "execution_count": 24,
     "metadata": {},
     "output_type": "execute_result"
    }
   ],
   "source": [
    "travel_list = filter_codes(\"code 26: travel\")\n",
    "travel_df = pd.DataFrame(travel_list)\n",
    "travel_df.value_counts()"
   ]
  },
  {
   "cell_type": "code",
   "execution_count": 17,
   "id": "5e5e07ad-259e-4565-8364-92dff99f82a0",
   "metadata": {
    "tags": [],
    "ExecuteTime": {
     "start_time": "2023-05-24T12:18:25.740727Z",
     "end_time": "2023-05-24T12:18:25.750869Z"
    }
   },
   "outputs": [
    {
     "data": {
      "text/plain": "code 32: social connections                    9\ncode 15: spouse                                2\ncode 38: friends                               2\ncode 58: home                                  2\ncode 35: learning                              2\ncode 41: food                                  2\ncode 5: parenting                              2\ncode 40: positive thinking                     2\ncode 7: children                               2\ncode 30: outdoors                              2\ncode 2: childhood                              2\ncode 28: imparting wisdom                      2\ncode 56: mothers                               1\ncode 8: happiness                              1\ncode 53: fathers                               1\ncode 50: knitting                              1\ncode 42: worry                                 1\ncode 59: aging                                 1\ncode 39: covid                                 1\ncode 40                                        1\ncode 3: freedom                                1\ncode 25: aspirations                           1\ncode 37: work/job                              1\ncode 36: intuitioncode 36: intuition           1\ncode 34: teaching                              1\ncode 33: lived experience                      1\ncode 31: negative view of video games/ tech    1\ncode 26: travel                                1\npositive thinking                              1\nName: count, dtype: int64"
     },
     "execution_count": 17,
     "metadata": {},
     "output_type": "execute_result"
    }
   ],
   "source": [
    "social_connections_list = filter_codes(\"code 32: social connections\")\n",
    "social_connections_df = pd.DataFrame(social_connections_list)\n",
    "social_connections_df.value_counts()"
   ]
  }
 ],
 "metadata": {
  "kernelspec": {
   "display_name": "Python 3 (ipykernel)",
   "language": "python",
   "name": "python3"
  },
  "language_info": {
   "codemirror_mode": {
    "name": "ipython",
    "version": 3
   },
   "file_extension": ".py",
   "mimetype": "text/x-python",
   "name": "python",
   "nbconvert_exporter": "python",
   "pygments_lexer": "ipython3",
   "version": "3.9.16"
  }
 },
 "nbformat": 4,
 "nbformat_minor": 5
}
