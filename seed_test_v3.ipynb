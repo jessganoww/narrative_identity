{
 "cells": [
  {
   "cell_type": "code",
   "execution_count": 2,
   "metadata": {
    "collapsed": true,
    "ExecuteTime": {
     "start_time": "2023-05-16T16:34:46.130206Z",
     "end_time": "2023-05-16T16:35:19.234360Z"
    }
   },
   "outputs": [],
   "source": [
    "import pandas as pd\n",
    "import gensim.downloader\n",
    "\n",
    "pd.set_option('display.max_colwidth', None)\n",
    "w2v = gensim.downloader.load('word2vec-google-news-300')"
   ]
  },
  {
   "cell_type": "code",
   "execution_count": 12,
   "outputs": [],
   "source": [
    "df = pd.read_csv('transcripts/mrs-r-codes.csv')\n",
    "\n",
    "df[\"Codes\"] = df[\"Codes\"].str.lower()\n",
    "df[\"Codes\"] = df[\"Codes\"].str.replace(r\",\\s+\", \",\", regex=True)\n",
    "df[\"Codes\"] = df[\"Codes\"].str.replace(r\"code [0-9]+: \", \"\", regex=True)\n",
    "df[\"Codes\"] = df[\"Codes\"].str.strip(\",\")\n"
   ],
   "metadata": {
    "collapsed": false,
    "ExecuteTime": {
     "start_time": "2023-05-16T16:47:05.381580Z",
     "end_time": "2023-05-16T16:47:05.390076Z"
    }
   }
  },
  {
   "cell_type": "code",
   "execution_count": 18,
   "outputs": [],
   "source": [
    "def filter_codes(code: str):\n",
    "    code_df = df[df[\"Codes\"].str.contains(code)]\n",
    "    codes = code_df[\"Codes\"].str.split(\",\")\n",
    "    codes = list(set(codes.explode(\"Codes\")))\n",
    "\n",
    "    return codes\n",
    "\n",
    "def rank_by_similarity(code: str, code_list: list):\n",
    "    code_dict = {}\n",
    "\n",
    "    for c in code_list:\n",
    "        try:\n",
    "            score = w2v.similarity(code, c)\n",
    "        except KeyError:\n",
    "            score = 0\n",
    "\n",
    "        code_dict[c] = score\n",
    "\n",
    "    code_ranked = pd.DataFrame(code_dict.items(), columns=[\"Code\", \"Similarity Score\"])\n",
    "    code_ranked.sort_values(\"Similarity Score\", ascending=False, inplace=True)\n",
    "\n",
    "    return code_ranked\n"
   ],
   "metadata": {
    "collapsed": false,
    "ExecuteTime": {
     "start_time": "2023-05-16T16:54:06.255300Z",
     "end_time": "2023-05-16T16:54:06.269713Z"
    }
   }
  },
  {
   "cell_type": "code",
   "execution_count": 19,
   "outputs": [
    {
     "data": {
      "text/plain": "           Code  Similarity Score\n14       spouse          1.000000\n19     marriage          0.449706\n8      children          0.342192\n22    parenting          0.340154\n10    happiness          0.278704\n28         home          0.245488\n4   contentment          0.238908\n26      college          0.208411\n18     religion          0.199689\n3     childhood          0.182481",
      "text/html": "<div>\n<style scoped>\n    .dataframe tbody tr th:only-of-type {\n        vertical-align: middle;\n    }\n\n    .dataframe tbody tr th {\n        vertical-align: top;\n    }\n\n    .dataframe thead th {\n        text-align: right;\n    }\n</style>\n<table border=\"1\" class=\"dataframe\">\n  <thead>\n    <tr style=\"text-align: right;\">\n      <th></th>\n      <th>Code</th>\n      <th>Similarity Score</th>\n    </tr>\n  </thead>\n  <tbody>\n    <tr>\n      <th>14</th>\n      <td>spouse</td>\n      <td>1.000000</td>\n    </tr>\n    <tr>\n      <th>19</th>\n      <td>marriage</td>\n      <td>0.449706</td>\n    </tr>\n    <tr>\n      <th>8</th>\n      <td>children</td>\n      <td>0.342192</td>\n    </tr>\n    <tr>\n      <th>22</th>\n      <td>parenting</td>\n      <td>0.340154</td>\n    </tr>\n    <tr>\n      <th>10</th>\n      <td>happiness</td>\n      <td>0.278704</td>\n    </tr>\n    <tr>\n      <th>28</th>\n      <td>home</td>\n      <td>0.245488</td>\n    </tr>\n    <tr>\n      <th>4</th>\n      <td>contentment</td>\n      <td>0.238908</td>\n    </tr>\n    <tr>\n      <th>26</th>\n      <td>college</td>\n      <td>0.208411</td>\n    </tr>\n    <tr>\n      <th>18</th>\n      <td>religion</td>\n      <td>0.199689</td>\n    </tr>\n    <tr>\n      <th>3</th>\n      <td>childhood</td>\n      <td>0.182481</td>\n    </tr>\n  </tbody>\n</table>\n</div>"
     },
     "execution_count": 19,
     "metadata": {},
     "output_type": "execute_result"
    }
   ],
   "source": [
    "spouse_codes = filter_codes(\"spouse\")\n",
    "spouse_ranked = rank_by_similarity(\"spouse\", spouse_codes)\n",
    "spouse_ranked[:10]\n"
   ],
   "metadata": {
    "collapsed": false,
    "ExecuteTime": {
     "start_time": "2023-05-16T16:54:07.275271Z",
     "end_time": "2023-05-16T16:54:07.284520Z"
    }
   }
  },
  {
   "cell_type": "code",
   "execution_count": 20,
   "outputs": [
    {
     "data": {
      "text/plain": "                     Code  Similarity Score\n6                    food          1.000000\n3               gardening          0.273421\n2                outdoors          0.217245\n7                  travel          0.182939\n8                   worry          0.160577\n10                  aging          0.072066\n4                     ww2          0.062056\n11                 spouse          0.035875\n0       positive thinking          0.000000\n13  cultural appreciation          0.000000",
      "text/html": "<div>\n<style scoped>\n    .dataframe tbody tr th:only-of-type {\n        vertical-align: middle;\n    }\n\n    .dataframe tbody tr th {\n        vertical-align: top;\n    }\n\n    .dataframe thead th {\n        text-align: right;\n    }\n</style>\n<table border=\"1\" class=\"dataframe\">\n  <thead>\n    <tr style=\"text-align: right;\">\n      <th></th>\n      <th>Code</th>\n      <th>Similarity Score</th>\n    </tr>\n  </thead>\n  <tbody>\n    <tr>\n      <th>6</th>\n      <td>food</td>\n      <td>1.000000</td>\n    </tr>\n    <tr>\n      <th>3</th>\n      <td>gardening</td>\n      <td>0.273421</td>\n    </tr>\n    <tr>\n      <th>2</th>\n      <td>outdoors</td>\n      <td>0.217245</td>\n    </tr>\n    <tr>\n      <th>7</th>\n      <td>travel</td>\n      <td>0.182939</td>\n    </tr>\n    <tr>\n      <th>8</th>\n      <td>worry</td>\n      <td>0.160577</td>\n    </tr>\n    <tr>\n      <th>10</th>\n      <td>aging</td>\n      <td>0.072066</td>\n    </tr>\n    <tr>\n      <th>4</th>\n      <td>ww2</td>\n      <td>0.062056</td>\n    </tr>\n    <tr>\n      <th>11</th>\n      <td>spouse</td>\n      <td>0.035875</td>\n    </tr>\n    <tr>\n      <th>0</th>\n      <td>positive thinking</td>\n      <td>0.000000</td>\n    </tr>\n    <tr>\n      <th>13</th>\n      <td>cultural appreciation</td>\n      <td>0.000000</td>\n    </tr>\n  </tbody>\n</table>\n</div>"
     },
     "execution_count": 20,
     "metadata": {},
     "output_type": "execute_result"
    }
   ],
   "source": [
    "food_codes = filter_codes(\"food\")\n",
    "food_ranked = rank_by_similarity(\"food\", food_codes)\n",
    "food_ranked[:10]"
   ],
   "metadata": {
    "collapsed": false,
    "ExecuteTime": {
     "start_time": "2023-05-16T16:55:18.231661Z",
     "end_time": "2023-05-16T16:55:18.240276Z"
    }
   }
  },
  {
   "cell_type": "code",
   "execution_count": 21,
   "outputs": [
    {
     "data": {
      "text/plain": "               Code  Similarity Score\n0         parenting                 0\n1          marriage                 0\n2          teaching                 0\n3              food                 0\n4         intuition                 0\n5          politics                 0\n6  post-war america                 0\n7          workjobs                 0\n8            spouse                 0\n9           college                 0",
      "text/html": "<div>\n<style scoped>\n    .dataframe tbody tr th:only-of-type {\n        vertical-align: middle;\n    }\n\n    .dataframe tbody tr th {\n        vertical-align: top;\n    }\n\n    .dataframe thead th {\n        text-align: right;\n    }\n</style>\n<table border=\"1\" class=\"dataframe\">\n  <thead>\n    <tr style=\"text-align: right;\">\n      <th></th>\n      <th>Code</th>\n      <th>Similarity Score</th>\n    </tr>\n  </thead>\n  <tbody>\n    <tr>\n      <th>0</th>\n      <td>parenting</td>\n      <td>0</td>\n    </tr>\n    <tr>\n      <th>1</th>\n      <td>marriage</td>\n      <td>0</td>\n    </tr>\n    <tr>\n      <th>2</th>\n      <td>teaching</td>\n      <td>0</td>\n    </tr>\n    <tr>\n      <th>3</th>\n      <td>food</td>\n      <td>0</td>\n    </tr>\n    <tr>\n      <th>4</th>\n      <td>intuition</td>\n      <td>0</td>\n    </tr>\n    <tr>\n      <th>5</th>\n      <td>politics</td>\n      <td>0</td>\n    </tr>\n    <tr>\n      <th>6</th>\n      <td>post-war america</td>\n      <td>0</td>\n    </tr>\n    <tr>\n      <th>7</th>\n      <td>workjobs</td>\n      <td>0</td>\n    </tr>\n    <tr>\n      <th>8</th>\n      <td>spouse</td>\n      <td>0</td>\n    </tr>\n    <tr>\n      <th>9</th>\n      <td>college</td>\n      <td>0</td>\n    </tr>\n  </tbody>\n</table>\n</div>"
     },
     "execution_count": 21,
     "metadata": {},
     "output_type": "execute_result"
    }
   ],
   "source": [
    "social_programs_codes = filter_codes(\"social programs\")\n",
    "social_programs_ranked = rank_by_similarity(\"social programs\", social_programs_codes)\n",
    "social_programs_ranked[:10]"
   ],
   "metadata": {
    "collapsed": false,
    "ExecuteTime": {
     "start_time": "2023-05-16T16:56:54.785746Z",
     "end_time": "2023-05-16T16:56:54.788157Z"
    }
   }
  },
  {
   "cell_type": "code",
   "execution_count": 23,
   "outputs": [
    {
     "data": {
      "text/plain": "           Code  Similarity Score\n6        travel          1.000000\n12         food          0.182939\n7       freedom          0.158407\n16     religion          0.108290\n3      teaching          0.105806\n11    happiness          0.103377\n15  aspirations          0.098571\n8      children          0.091953\n19    parenting          0.091603\n2     childhood          0.089115",
      "text/html": "<div>\n<style scoped>\n    .dataframe tbody tr th:only-of-type {\n        vertical-align: middle;\n    }\n\n    .dataframe tbody tr th {\n        vertical-align: top;\n    }\n\n    .dataframe thead th {\n        text-align: right;\n    }\n</style>\n<table border=\"1\" class=\"dataframe\">\n  <thead>\n    <tr style=\"text-align: right;\">\n      <th></th>\n      <th>Code</th>\n      <th>Similarity Score</th>\n    </tr>\n  </thead>\n  <tbody>\n    <tr>\n      <th>6</th>\n      <td>travel</td>\n      <td>1.000000</td>\n    </tr>\n    <tr>\n      <th>12</th>\n      <td>food</td>\n      <td>0.182939</td>\n    </tr>\n    <tr>\n      <th>7</th>\n      <td>freedom</td>\n      <td>0.158407</td>\n    </tr>\n    <tr>\n      <th>16</th>\n      <td>religion</td>\n      <td>0.108290</td>\n    </tr>\n    <tr>\n      <th>3</th>\n      <td>teaching</td>\n      <td>0.105806</td>\n    </tr>\n    <tr>\n      <th>11</th>\n      <td>happiness</td>\n      <td>0.103377</td>\n    </tr>\n    <tr>\n      <th>15</th>\n      <td>aspirations</td>\n      <td>0.098571</td>\n    </tr>\n    <tr>\n      <th>8</th>\n      <td>children</td>\n      <td>0.091953</td>\n    </tr>\n    <tr>\n      <th>19</th>\n      <td>parenting</td>\n      <td>0.091603</td>\n    </tr>\n    <tr>\n      <th>2</th>\n      <td>childhood</td>\n      <td>0.089115</td>\n    </tr>\n  </tbody>\n</table>\n</div>"
     },
     "execution_count": 23,
     "metadata": {},
     "output_type": "execute_result"
    }
   ],
   "source": [
    "travel_codes = filter_codes(\"travel\")\n",
    "travel_ranked = rank_by_similarity(\"travel\", travel_codes)\n",
    "travel_ranked[:10]"
   ],
   "metadata": {
    "collapsed": false,
    "ExecuteTime": {
     "start_time": "2023-05-16T16:57:48.107229Z",
     "end_time": "2023-05-16T16:57:48.114375Z"
    }
   }
  },
  {
   "cell_type": "code",
   "execution_count": 24,
   "outputs": [
    {
     "data": {
      "text/plain": "               Code  Similarity Score\n0         parenting                 0\n1          marriage                 0\n2          teaching                 0\n3              food                 0\n4         intuition                 0\n5          politics                 0\n6  post-war america                 0\n7          workjobs                 0\n8            spouse                 0\n9           college                 0",
      "text/html": "<div>\n<style scoped>\n    .dataframe tbody tr th:only-of-type {\n        vertical-align: middle;\n    }\n\n    .dataframe tbody tr th {\n        vertical-align: top;\n    }\n\n    .dataframe thead th {\n        text-align: right;\n    }\n</style>\n<table border=\"1\" class=\"dataframe\">\n  <thead>\n    <tr style=\"text-align: right;\">\n      <th></th>\n      <th>Code</th>\n      <th>Similarity Score</th>\n    </tr>\n  </thead>\n  <tbody>\n    <tr>\n      <th>0</th>\n      <td>parenting</td>\n      <td>0</td>\n    </tr>\n    <tr>\n      <th>1</th>\n      <td>marriage</td>\n      <td>0</td>\n    </tr>\n    <tr>\n      <th>2</th>\n      <td>teaching</td>\n      <td>0</td>\n    </tr>\n    <tr>\n      <th>3</th>\n      <td>food</td>\n      <td>0</td>\n    </tr>\n    <tr>\n      <th>4</th>\n      <td>intuition</td>\n      <td>0</td>\n    </tr>\n    <tr>\n      <th>5</th>\n      <td>politics</td>\n      <td>0</td>\n    </tr>\n    <tr>\n      <th>6</th>\n      <td>post-war america</td>\n      <td>0</td>\n    </tr>\n    <tr>\n      <th>7</th>\n      <td>workjobs</td>\n      <td>0</td>\n    </tr>\n    <tr>\n      <th>8</th>\n      <td>spouse</td>\n      <td>0</td>\n    </tr>\n    <tr>\n      <th>9</th>\n      <td>college</td>\n      <td>0</td>\n    </tr>\n  </tbody>\n</table>\n</div>"
     },
     "execution_count": 24,
     "metadata": {},
     "output_type": "execute_result"
    }
   ],
   "source": [
    "social_connections_codes = filter_codes(\"social conenctions\")\n",
    "social_connections_ranked = rank_by_similarity(\"social connections\", social_connections_codes)\n",
    "social_programs_ranked[:10]"
   ],
   "metadata": {
    "collapsed": false,
    "ExecuteTime": {
     "start_time": "2023-05-16T16:58:58.934331Z",
     "end_time": "2023-05-16T16:58:58.945917Z"
    }
   }
  },
  {
   "cell_type": "code",
   "execution_count": null,
   "outputs": [],
   "source": [],
   "metadata": {
    "collapsed": false
   }
  }
 ],
 "metadata": {
  "kernelspec": {
   "display_name": "Python 3",
   "language": "python",
   "name": "python3"
  },
  "language_info": {
   "codemirror_mode": {
    "name": "ipython",
    "version": 2
   },
   "file_extension": ".py",
   "mimetype": "text/x-python",
   "name": "python",
   "nbconvert_exporter": "python",
   "pygments_lexer": "ipython2",
   "version": "2.7.6"
  }
 },
 "nbformat": 4,
 "nbformat_minor": 0
}
