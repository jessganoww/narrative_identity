{
 "cells": [
  {
   "cell_type": "code",
   "execution_count": 1,
   "id": "4b2008c7-bde8-41d5-9638-4de6c4f4b461",
   "metadata": {
    "ExecuteTime": {
     "start_time": "2023-05-31T20:59:40.348153Z",
     "end_time": "2023-05-31T20:59:40.626838Z"
    }
   },
   "outputs": [],
   "source": [
    "import pandas as pd\n",
    "pd.set_option('display.max_colwidth', None)"
   ]
  },
  {
   "cell_type": "code",
   "execution_count": 2,
   "id": "3511d556-b9a2-4576-82f8-b66adcda7f39",
   "metadata": {
    "tags": [],
    "ExecuteTime": {
     "start_time": "2023-05-31T20:59:40.629592Z",
     "end_time": "2023-05-31T20:59:40.636376Z"
    }
   },
   "outputs": [],
   "source": [
    "df = pd.read_csv(\"../transcripts/mrs-r-codes.csv\")\n",
    "\n",
    "df[\"Codes\"] = df[\"Codes\"].str.lower()\n",
    "df[\"Codes\"] = df[\"Codes\"].str.replace(r\",\\s+\", \",\", regex=True)\n",
    "df[\"Codes\"] = df[\"Codes\"].str.rstrip(\",\")\n",
    "\n",
    "data = df[\"Codes\"].to_list()\n",
    "\n",
    "weights = [1/len(x.split(\",\")) for x in data]\n",
    "df[\"Weights\"] = weights"
   ]
  },
  {
   "cell_type": "code",
   "execution_count": 7,
   "id": "0973cd00-c734-450b-a7ff-62b1c7621a39",
   "metadata": {
    "tags": [],
    "ExecuteTime": {
     "start_time": "2023-05-31T21:03:51.544643Z",
     "end_time": "2023-05-31T21:03:51.549136Z"
    }
   },
   "outputs": [],
   "source": [
    "def filter_codes(code: str):\n",
    "    code_df = df[df[\"Codes\"].str.contains(code)]\n",
    "    codes = code_df[\"Codes\"].str.split(\",\")\n",
    "    codes = list(set(codes.explode(\"Codes\")))\n",
    "\n",
    "    return codes\n",
    "\n",
    "# TODO separate filter_codes logic\n",
    "def rank_codes(code: str):\n",
    "    code_df = df[df[\"Codes\"].str.contains(code)]\n",
    "    codes = code_df[\"Codes\"].str.split(\",\")\n",
    "    codes = list(set(codes.explode(\"Codes\")))\n",
    "\n",
    "    code_dict = {}\n",
    "    \n",
    "    for c in codes:\n",
    "        code_weight = code_df[code_df[\"Codes\"].str.contains(c)][\"Weights\"].sum()\n",
    "        code_dict[c] = code_weight\n",
    "    \n",
    "    code_ranked = pd.DataFrame(code_dict.items(), columns=[\"Code\", \"Weights Sum\"])\n",
    "    code_ranked.sort_values(by=\"Weights Sum\", ascending=False, inplace=True)\n",
    "    \n",
    "    return code_ranked"
   ]
  },
  {
   "cell_type": "code",
   "execution_count": 8,
   "id": "f9dc6a51-74b8-47d5-93d0-62fd6228fd40",
   "metadata": {
    "tags": [],
    "ExecuteTime": {
     "start_time": "2023-05-31T21:03:52.470328Z",
     "end_time": "2023-05-31T21:03:52.473992Z"
    }
   },
   "outputs": [
    {
     "data": {
      "text/plain": "                                     Code  Weights Sum\n9                         code 15: spouse     2.966667\n4                       code 18: marriage     0.700000\n15  code 6: positive family relationships     0.700000\n14                      code 57: religion     0.500000\n25                   code 25: aspirations     0.500000\n5                           code 41: food     0.500000\n21                        code 26: travel     0.500000\n13               code 17: social programs     0.450000\n3                   code 13: gender roles     0.450000\n6               code 14: post-war america     0.450000",
      "text/html": "<div>\n<style scoped>\n    .dataframe tbody tr th:only-of-type {\n        vertical-align: middle;\n    }\n\n    .dataframe tbody tr th {\n        vertical-align: top;\n    }\n\n    .dataframe thead th {\n        text-align: right;\n    }\n</style>\n<table border=\"1\" class=\"dataframe\">\n  <thead>\n    <tr style=\"text-align: right;\">\n      <th></th>\n      <th>Code</th>\n      <th>Weights Sum</th>\n    </tr>\n  </thead>\n  <tbody>\n    <tr>\n      <th>9</th>\n      <td>code 15: spouse</td>\n      <td>2.966667</td>\n    </tr>\n    <tr>\n      <th>4</th>\n      <td>code 18: marriage</td>\n      <td>0.700000</td>\n    </tr>\n    <tr>\n      <th>15</th>\n      <td>code 6: positive family relationships</td>\n      <td>0.700000</td>\n    </tr>\n    <tr>\n      <th>14</th>\n      <td>code 57: religion</td>\n      <td>0.500000</td>\n    </tr>\n    <tr>\n      <th>25</th>\n      <td>code 25: aspirations</td>\n      <td>0.500000</td>\n    </tr>\n    <tr>\n      <th>5</th>\n      <td>code 41: food</td>\n      <td>0.500000</td>\n    </tr>\n    <tr>\n      <th>21</th>\n      <td>code 26: travel</td>\n      <td>0.500000</td>\n    </tr>\n    <tr>\n      <th>13</th>\n      <td>code 17: social programs</td>\n      <td>0.450000</td>\n    </tr>\n    <tr>\n      <th>3</th>\n      <td>code 13: gender roles</td>\n      <td>0.450000</td>\n    </tr>\n    <tr>\n      <th>6</th>\n      <td>code 14: post-war america</td>\n      <td>0.450000</td>\n    </tr>\n  </tbody>\n</table>\n</div>"
     },
     "execution_count": 8,
     "metadata": {},
     "output_type": "execute_result"
    }
   ],
   "source": [
    "spouse_codes = filter_codes(\"code 15: spouse\")\n",
    "spouse_ranked = rank_codes(\"code 15: spouse\")\n",
    "spouse_ranked[:10]"
   ]
  },
  {
   "cell_type": "code",
   "execution_count": 17,
   "id": "53d965e8-a5f5-49bd-ac7c-022bea3afeb6",
   "metadata": {
    "tags": [],
    "ExecuteTime": {
     "start_time": "2023-05-24T12:37:02.259875Z",
     "end_time": "2023-05-24T12:37:02.275807Z"
    }
   },
   "outputs": [
    {
     "data": {
      "text/plain": "                              Code  Weights Sum\n17                   code 41: food     7.416667\n2                     code 46: ww2     1.250000\n10     code 32: social connections     0.666667\n5                  code 15: spouse     0.500000\n9   code 49: cultural appreciation     0.500000\n3                   code 59: aging     0.500000\n7               code 52: gardening     0.333333\n12                 code 26: travel     0.333333\n13     code 27: adventurous spirit     0.333333\n15               code 30: outdoors     0.333333",
      "text/html": "<div>\n<style scoped>\n    .dataframe tbody tr th:only-of-type {\n        vertical-align: middle;\n    }\n\n    .dataframe tbody tr th {\n        vertical-align: top;\n    }\n\n    .dataframe thead th {\n        text-align: right;\n    }\n</style>\n<table border=\"1\" class=\"dataframe\">\n  <thead>\n    <tr style=\"text-align: right;\">\n      <th></th>\n      <th>Code</th>\n      <th>Weights Sum</th>\n    </tr>\n  </thead>\n  <tbody>\n    <tr>\n      <th>17</th>\n      <td>code 41: food</td>\n      <td>7.416667</td>\n    </tr>\n    <tr>\n      <th>2</th>\n      <td>code 46: ww2</td>\n      <td>1.250000</td>\n    </tr>\n    <tr>\n      <th>10</th>\n      <td>code 32: social connections</td>\n      <td>0.666667</td>\n    </tr>\n    <tr>\n      <th>5</th>\n      <td>code 15: spouse</td>\n      <td>0.500000</td>\n    </tr>\n    <tr>\n      <th>9</th>\n      <td>code 49: cultural appreciation</td>\n      <td>0.500000</td>\n    </tr>\n    <tr>\n      <th>3</th>\n      <td>code 59: aging</td>\n      <td>0.500000</td>\n    </tr>\n    <tr>\n      <th>7</th>\n      <td>code 52: gardening</td>\n      <td>0.333333</td>\n    </tr>\n    <tr>\n      <th>12</th>\n      <td>code 26: travel</td>\n      <td>0.333333</td>\n    </tr>\n    <tr>\n      <th>13</th>\n      <td>code 27: adventurous spirit</td>\n      <td>0.333333</td>\n    </tr>\n    <tr>\n      <th>15</th>\n      <td>code 30: outdoors</td>\n      <td>0.333333</td>\n    </tr>\n  </tbody>\n</table>\n</div>"
     },
     "execution_count": 17,
     "metadata": {},
     "output_type": "execute_result"
    }
   ],
   "source": [
    "food_ranked = rank_codes(\"code 41: food\")\n",
    "food_ranked[:10]"
   ]
  },
  {
   "cell_type": "code",
   "execution_count": 8,
   "id": "f7bc06a3-7582-491f-8de7-3d08223ac7e4",
   "metadata": {
    "tags": [],
    "ExecuteTime": {
     "start_time": "2023-05-24T12:35:23.871886Z",
     "end_time": "2023-05-24T12:35:23.886350Z"
    }
   },
   "outputs": [
    {
     "data": {
      "text/plain": "                         Code  Weights Sum\n14   code 17: social programs     4.116667\n1     code 54: the depression     1.166667\n7           code 43: politics     0.583333\n2             code 15: spouse     0.450000\n5           code 37: workjobs     0.333333\n8         code 55: hard times     0.333333\n15              code 41: food     0.333333\n0   code 14: post-war america     0.250000\n9          code 19: gratitude     0.200000\n10          code 18: marriage     0.200000",
      "text/html": "<div>\n<style scoped>\n    .dataframe tbody tr th:only-of-type {\n        vertical-align: middle;\n    }\n\n    .dataframe tbody tr th {\n        vertical-align: top;\n    }\n\n    .dataframe thead th {\n        text-align: right;\n    }\n</style>\n<table border=\"1\" class=\"dataframe\">\n  <thead>\n    <tr style=\"text-align: right;\">\n      <th></th>\n      <th>Code</th>\n      <th>Weights Sum</th>\n    </tr>\n  </thead>\n  <tbody>\n    <tr>\n      <th>14</th>\n      <td>code 17: social programs</td>\n      <td>4.116667</td>\n    </tr>\n    <tr>\n      <th>1</th>\n      <td>code 54: the depression</td>\n      <td>1.166667</td>\n    </tr>\n    <tr>\n      <th>7</th>\n      <td>code 43: politics</td>\n      <td>0.583333</td>\n    </tr>\n    <tr>\n      <th>2</th>\n      <td>code 15: spouse</td>\n      <td>0.450000</td>\n    </tr>\n    <tr>\n      <th>5</th>\n      <td>code 37: workjobs</td>\n      <td>0.333333</td>\n    </tr>\n    <tr>\n      <th>8</th>\n      <td>code 55: hard times</td>\n      <td>0.333333</td>\n    </tr>\n    <tr>\n      <th>15</th>\n      <td>code 41: food</td>\n      <td>0.333333</td>\n    </tr>\n    <tr>\n      <th>0</th>\n      <td>code 14: post-war america</td>\n      <td>0.250000</td>\n    </tr>\n    <tr>\n      <th>9</th>\n      <td>code 19: gratitude</td>\n      <td>0.200000</td>\n    </tr>\n    <tr>\n      <th>10</th>\n      <td>code 18: marriage</td>\n      <td>0.200000</td>\n    </tr>\n  </tbody>\n</table>\n</div>"
     },
     "execution_count": 8,
     "metadata": {},
     "output_type": "execute_result"
    }
   ],
   "source": [
    "social_programs_ranked = rank_codes(\"code 17: social programs\")\n",
    "social_programs_ranked[:10]"
   ]
  },
  {
   "cell_type": "code",
   "execution_count": 9,
   "id": "c4091214-4ab8-4bb4-9979-0b59828dd0b9",
   "metadata": {
    "tags": [],
    "ExecuteTime": {
     "start_time": "2023-05-24T12:35:25.923764Z",
     "end_time": "2023-05-24T12:35:25.928953Z"
    }
   },
   "outputs": [
    {
     "data": {
      "text/plain": "                           Code  Weights Sum\n9               code 26: travel     2.144444\n11                       code 3     0.894444\n16  code 27: adventurous spirit     0.644444\n4             code 2: childhood     0.500000\n7                  code 46: ww2     0.500000\n1               code 15: spouse     0.500000\n21  code 32: social connections     0.333333\n5                 code 41: food     0.333333\n6    code 40: positive thinking     0.333333\n12             code 7: children     0.277778",
      "text/html": "<div>\n<style scoped>\n    .dataframe tbody tr th:only-of-type {\n        vertical-align: middle;\n    }\n\n    .dataframe tbody tr th {\n        vertical-align: top;\n    }\n\n    .dataframe thead th {\n        text-align: right;\n    }\n</style>\n<table border=\"1\" class=\"dataframe\">\n  <thead>\n    <tr style=\"text-align: right;\">\n      <th></th>\n      <th>Code</th>\n      <th>Weights Sum</th>\n    </tr>\n  </thead>\n  <tbody>\n    <tr>\n      <th>9</th>\n      <td>code 26: travel</td>\n      <td>2.144444</td>\n    </tr>\n    <tr>\n      <th>11</th>\n      <td>code 3</td>\n      <td>0.894444</td>\n    </tr>\n    <tr>\n      <th>16</th>\n      <td>code 27: adventurous spirit</td>\n      <td>0.644444</td>\n    </tr>\n    <tr>\n      <th>4</th>\n      <td>code 2: childhood</td>\n      <td>0.500000</td>\n    </tr>\n    <tr>\n      <th>7</th>\n      <td>code 46: ww2</td>\n      <td>0.500000</td>\n    </tr>\n    <tr>\n      <th>1</th>\n      <td>code 15: spouse</td>\n      <td>0.500000</td>\n    </tr>\n    <tr>\n      <th>21</th>\n      <td>code 32: social connections</td>\n      <td>0.333333</td>\n    </tr>\n    <tr>\n      <th>5</th>\n      <td>code 41: food</td>\n      <td>0.333333</td>\n    </tr>\n    <tr>\n      <th>6</th>\n      <td>code 40: positive thinking</td>\n      <td>0.333333</td>\n    </tr>\n    <tr>\n      <th>12</th>\n      <td>code 7: children</td>\n      <td>0.277778</td>\n    </tr>\n  </tbody>\n</table>\n</div>"
     },
     "execution_count": 9,
     "metadata": {},
     "output_type": "execute_result"
    }
   ],
   "source": [
    "# coding error code 3\n",
    "travel_ranked = rank_codes(\"code 26: travel\")\n",
    "travel_ranked[:10]"
   ]
  },
  {
   "cell_type": "code",
   "execution_count": 10,
   "id": "f20221c5-b27c-4faf-9c69-99b863bc95fd",
   "metadata": {
    "tags": [],
    "ExecuteTime": {
     "start_time": "2023-05-24T12:35:27.217578Z",
     "end_time": "2023-05-24T12:35:27.236724Z"
    }
   },
   "outputs": [
    {
     "data": {
      "text/plain": "                           Code  Weights Sum\n25  code 32: social connections     2.128571\n8    code 40: positive thinking     0.700000\n7                 code 41: food     0.666667\n19                code 58: home     0.366667\n1               code 15: spouse     0.366667\n2             code 50: knitting     0.333333\n11              code 26: travel     0.333333\n18            code 8: happiness     0.333333\n5             code 30: outdoors     0.309524\n6             code 2: childhood     0.309524",
      "text/html": "<div>\n<style scoped>\n    .dataframe tbody tr th:only-of-type {\n        vertical-align: middle;\n    }\n\n    .dataframe tbody tr th {\n        vertical-align: top;\n    }\n\n    .dataframe thead th {\n        text-align: right;\n    }\n</style>\n<table border=\"1\" class=\"dataframe\">\n  <thead>\n    <tr style=\"text-align: right;\">\n      <th></th>\n      <th>Code</th>\n      <th>Weights Sum</th>\n    </tr>\n  </thead>\n  <tbody>\n    <tr>\n      <th>25</th>\n      <td>code 32: social connections</td>\n      <td>2.128571</td>\n    </tr>\n    <tr>\n      <th>8</th>\n      <td>code 40: positive thinking</td>\n      <td>0.700000</td>\n    </tr>\n    <tr>\n      <th>7</th>\n      <td>code 41: food</td>\n      <td>0.666667</td>\n    </tr>\n    <tr>\n      <th>19</th>\n      <td>code 58: home</td>\n      <td>0.366667</td>\n    </tr>\n    <tr>\n      <th>1</th>\n      <td>code 15: spouse</td>\n      <td>0.366667</td>\n    </tr>\n    <tr>\n      <th>2</th>\n      <td>code 50: knitting</td>\n      <td>0.333333</td>\n    </tr>\n    <tr>\n      <th>11</th>\n      <td>code 26: travel</td>\n      <td>0.333333</td>\n    </tr>\n    <tr>\n      <th>18</th>\n      <td>code 8: happiness</td>\n      <td>0.333333</td>\n    </tr>\n    <tr>\n      <th>5</th>\n      <td>code 30: outdoors</td>\n      <td>0.309524</td>\n    </tr>\n    <tr>\n      <th>6</th>\n      <td>code 2: childhood</td>\n      <td>0.309524</td>\n    </tr>\n  </tbody>\n</table>\n</div>"
     },
     "execution_count": 10,
     "metadata": {},
     "output_type": "execute_result"
    }
   ],
   "source": [
    "social_connections_ranked = rank_codes(\"code 32: social connections\")\n",
    "social_connections_ranked[:10]"
   ]
  }
 ],
 "metadata": {
  "kernelspec": {
   "display_name": "Python 3 (ipykernel)",
   "language": "python",
   "name": "python3"
  },
  "language_info": {
   "codemirror_mode": {
    "name": "ipython",
    "version": 3
   },
   "file_extension": ".py",
   "mimetype": "text/x-python",
   "name": "python",
   "nbconvert_exporter": "python",
   "pygments_lexer": "ipython3",
   "version": "3.9.16"
  }
 },
 "nbformat": 4,
 "nbformat_minor": 5
}
