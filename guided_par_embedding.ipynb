{
 "cells": [
  {
   "cell_type": "code",
   "execution_count": 3,
   "metadata": {
    "collapsed": true,
    "ExecuteTime": {
     "start_time": "2023-05-25T08:41:16.666872Z",
     "end_time": "2023-05-25T08:41:16.677023Z"
    }
   },
   "outputs": [],
   "source": [
    "import numpy as np\n",
    "import pandas as pd\n",
    "import contractions\n",
    "import re\n",
    "import matplotlib.pyplot as plt\n",
    "import seaborn as sns\n",
    "\n",
    "from sentence_transformers import SentenceTransformer\n",
    "from umap import UMAP\n",
    "from hdbscan import HDBSCAN\n",
    "from sklearn.feature_extraction.text import CountVectorizer\n",
    "\n",
    "from bertopic import BERTopic\n",
    "from bertopic.vectorizers import ClassTfidfTransformer\n",
    "\n",
    "pd.set_option('display.max_colwidth', None)"
   ]
  },
  {
   "cell_type": "code",
   "execution_count": 4,
   "outputs": [
    {
     "data": {
      "text/plain": "                                                                                                                                                                                                                                                                                                                                                                                                                                                                                                                                                                                                                                                                                         Transcript   \n1                                                                                  First of all, I still have a strong voice at the age of 90, so a lot of people on the phone do not think I am 90, but this year I am 90 and I have lived in Santa Clara Valley, which is now called Silicon Valley, oh, most of my life. It is a wonderful place to live. Wonderful weather. Close to the ocean. So that is where I grew up and it was a, I grew up in a town of Santa Clara, which was right next to San Jose, and it was a town of 5,000 people at the time. Very low key, very nice place to grow up. It was able to ride my bicycle all over the place. Had a lot of freedom. So that is me.  \\\n3  You know something, I do not think I would take you up on that. Because you know, life is a real mixture and there is wonderful, and there is some things you do not want to live agains. So, um, I think my childhood was very, very happy. I had a happy life so, I really do not know that I would want to live any of my years again. They were, I had wonderful times raising our children. We decided to have a large family and so we ended up with six daughters and four sons and they are all alive and doing well today. Very proud of them. And, uh, our son, Toby, is living at Pittsburgh and he has a daughter named Taylor who is doing this podcast. So that is where I am at.    \n5                                                                                                                                                                                                                                                                                                   If you could speak to your younger self, what advice would you give? Hmm. Well, I do not, it was really interesting. When I was growing up, there were three choices for women. To work as a job, a secretary, nurse, or teacher. And none of those appealed to me at my young age. And so when I met my husband to be, he had gotten out of the service. Second World War was over and he had.   \n6                                                                                                                                                                                                                               Something called the GI Bill, which was a wonderful bill that they put through Congress, which allowed any service man to go to college for free. For free. It was wonderful. So he, what he did is he came out here and he ended up going to Santa Clara University and he only had had two years before the war was ended, but they let him stay for four years and he got his education and we got married during that time and that was a really good decision.   \n7                                                                                                                                                                                                                                                                                                                                       I went to college for one year, and then I was a mom and I really loved being a mom. So we had numerous children and they were all very active doing things, making things, being active. Boys all had paper routes and had a little bit of money that way, and the girls did a lot of babysitting and a lot of sewing, and a lot of helping canning fruit.   \n\n                                                                                                                                                     Codes  \n1                                                                            Code 1: City of origin, Code 2: Childhood, Code 3: Freedom, Code 4: Bicycling  \n3    Code 2: Childhood, Code 5: Parenting, Code 6: Positive family relationships, Code 7: Children, Code 8: Happiness, Code 9: Contentment, Code 10: Pride  \n5                      Code 11: Different expectations, Code 12: Societal expectations, Code 13: Gender roles, Code 14: Post-war America, Code 15: Spouse,  \n6                                                       Code 15: Spouse, Code 16: College, Code 17: Social programs, Code 18: Marriage, Code 19: Gratitude  \n7  Code 16: College, Code 5: Parenting, Code 8: Happiness, Code 9: Contentment, Code 7: Children, Code 20: Sewing, Code 21: Canning, Code 22: Being active  ",
      "text/html": "<div>\n<style scoped>\n    .dataframe tbody tr th:only-of-type {\n        vertical-align: middle;\n    }\n\n    .dataframe tbody tr th {\n        vertical-align: top;\n    }\n\n    .dataframe thead th {\n        text-align: right;\n    }\n</style>\n<table border=\"1\" class=\"dataframe\">\n  <thead>\n    <tr style=\"text-align: right;\">\n      <th></th>\n      <th>Transcript</th>\n      <th>Codes</th>\n    </tr>\n  </thead>\n  <tbody>\n    <tr>\n      <th>1</th>\n      <td>First of all, I still have a strong voice at the age of 90, so a lot of people on the phone do not think I am 90, but this year I am 90 and I have lived in Santa Clara Valley, which is now called Silicon Valley, oh, most of my life. It is a wonderful place to live. Wonderful weather. Close to the ocean. So that is where I grew up and it was a, I grew up in a town of Santa Clara, which was right next to San Jose, and it was a town of 5,000 people at the time. Very low key, very nice place to grow up. It was able to ride my bicycle all over the place. Had a lot of freedom. So that is me.</td>\n      <td>Code 1: City of origin, Code 2: Childhood, Code 3: Freedom, Code 4: Bicycling</td>\n    </tr>\n    <tr>\n      <th>3</th>\n      <td>You know something, I do not think I would take you up on that. Because you know, life is a real mixture and there is wonderful, and there is some things you do not want to live agains. So, um, I think my childhood was very, very happy. I had a happy life so, I really do not know that I would want to live any of my years again. They were, I had wonderful times raising our children. We decided to have a large family and so we ended up with six daughters and four sons and they are all alive and doing well today. Very proud of them. And, uh, our son, Toby, is living at Pittsburgh and he has a daughter named Taylor who is doing this podcast. So that is where I am at.</td>\n      <td>Code 2: Childhood, Code 5: Parenting, Code 6: Positive family relationships, Code 7: Children, Code 8: Happiness, Code 9: Contentment, Code 10: Pride</td>\n    </tr>\n    <tr>\n      <th>5</th>\n      <td>If you could speak to your younger self, what advice would you give? Hmm. Well, I do not, it was really interesting. When I was growing up, there were three choices for women. To work as a job, a secretary, nurse, or teacher. And none of those appealed to me at my young age. And so when I met my husband to be, he had gotten out of the service. Second World War was over and he had.</td>\n      <td>Code 11: Different expectations, Code 12: Societal expectations, Code 13: Gender roles, Code 14: Post-war America, Code 15: Spouse,</td>\n    </tr>\n    <tr>\n      <th>6</th>\n      <td>Something called the GI Bill, which was a wonderful bill that they put through Congress, which allowed any service man to go to college for free. For free. It was wonderful. So he, what he did is he came out here and he ended up going to Santa Clara University and he only had had two years before the war was ended, but they let him stay for four years and he got his education and we got married during that time and that was a really good decision.</td>\n      <td>Code 15: Spouse, Code 16: College, Code 17: Social programs, Code 18: Marriage, Code 19: Gratitude</td>\n    </tr>\n    <tr>\n      <th>7</th>\n      <td>I went to college for one year, and then I was a mom and I really loved being a mom. So we had numerous children and they were all very active doing things, making things, being active. Boys all had paper routes and had a little bit of money that way, and the girls did a lot of babysitting and a lot of sewing, and a lot of helping canning fruit.</td>\n      <td>Code 16: College, Code 5: Parenting, Code 8: Happiness, Code 9: Contentment, Code 7: Children, Code 20: Sewing, Code 21: Canning, Code 22: Being active</td>\n    </tr>\n  </tbody>\n</table>\n</div>"
     },
     "execution_count": 4,
     "metadata": {},
     "output_type": "execute_result"
    }
   ],
   "source": [
    "p1_df = pd.read_csv(\"./transcripts/mrs-r.csv\")\n",
    "p1_df.drop(p1_df[p1_df[\"Transcript\"].str.startswith(\"Taylor: \")].index, inplace=True)\n",
    "\n",
    "p1_df[\"Transcript\"] = p1_df[\"Transcript\"].apply(lambda x: re.sub(\"Mrs\\.?\\s+R\\s*:\\s*\", \"\", x))\n",
    "p1_df[\"Transcript\"] = p1_df[\"Transcript\"].apply(lambda x: contractions.fix(x))\n",
    "\n",
    "p1_df.head()"
   ],
   "metadata": {
    "collapsed": false,
    "ExecuteTime": {
     "start_time": "2023-05-25T08:41:17.622126Z",
     "end_time": "2023-05-25T08:41:17.642044Z"
    }
   }
  },
  {
   "cell_type": "code",
   "execution_count": 5,
   "outputs": [],
   "source": [
    "# 1 document =  1 paragraph\n",
    "docs = p1_df[\"Transcript\"].to_list()\n",
    "\n",
    "# Create embeddings\n",
    "embedding_model = SentenceTransformer(\"all-mpnet-base-v2\")\n",
    "embeddings = embedding_model.encode(docs)\n",
    "\n",
    "# Dimensionality reduction\n",
    "umap_model = UMAP(n_neighbors=5, n_components=2, metric=\"cosine\", random_state=42)\n",
    "reduced_embeddings = umap_model.fit_transform(embeddings)\n",
    "\n",
    "# Document clustering\n",
    "hdbscan_model = HDBSCAN(min_cluster_size=5, metric=\"euclidean\", prediction_data=True)\n",
    "\n",
    "# Clustered documents tokenization\n",
    "cv_model = CountVectorizer(stop_words=\"english\")\n",
    "\n",
    "# Topic representation\n",
    "ctfidf_model = ClassTfidfTransformer()"
   ],
   "metadata": {
    "collapsed": false,
    "ExecuteTime": {
     "start_time": "2023-05-25T08:41:18.613493Z",
     "end_time": "2023-05-25T08:41:25.348379Z"
    }
   }
  },
  {
   "cell_type": "code",
   "execution_count": 6,
   "outputs": [
    {
     "data": {
      "text/plain": "<Figure size 700x500 with 1 Axes>",
      "image/png": "[encoded data removed]"
     },
     "metadata": {},
     "output_type": "display_data"
    }
   ],
   "source": [
    "# Plot documents in latent space\n",
    "fig, ax = plt.subplots(figsize=(7, 5))\n",
    "ax.scatter(reduced_embeddings[:,0], reduced_embeddings[:,1], alpha=0.5)\n",
    "plt.show()"
   ],
   "metadata": {
    "collapsed": false,
    "ExecuteTime": {
     "start_time": "2023-05-25T08:41:27.462922Z",
     "end_time": "2023-05-25T08:41:27.610173Z"
    }
   }
  },
  {
   "cell_type": "code",
   "execution_count": 8,
   "outputs": [
    {
     "data": {
      "application/vnd.plotly.v1+json": {
       "data": [
        {
         "hoverinfo": "text",
         "hovertext": [
          "Something called the GI Bill, which was a wonderful bill that they put through Congress, which allowed any service man to go to college for free. For free. It was wonderful. So he, what he did is he came out here and he ended up going to Santa Clara University and he only had had two years before the war was ended, but they let him stay for four years and he got his education and we got married during that time and that was a really good decision.",
          "So that was fun. So that was a, a very, very happy day for me and I really lucked out. One of the most important things now I realize in, in having a partner is to have a real partner. And my husband, I have been married to him now for over 70 years, and he never ever said to me when I asked him to help me, that is woman's work.",
          "Well, I think the computer industry, there is good things about it, but there is a lot about it that I do not like. I do not, I do not like Facebook. I will not have any part of Facebook and because people do not, young people especially do not know how to manage it. They tell too many of their secrets that they let people frighten them and get them depressed. You know, that was not the intention to start. ",
          "Still, I do not know if you have heard about it, but there is something in the forties was called the CCC conservation corps. And we had a president called President Franklin Delenor Roosevelt, and in my mind, in my husband's mind, we think he is a wonderful man. He is behind a whole social security program and thank goodness we have social security.",
          "And my husband's brother Bob was a Catholic priest, so he was there at our wedding. And then we had, we had a reception in the afternoon and that was fun. And then my parents had purchased a piece of land over along the ocean in Santa Cruz and they had beginning of a house there, so that is where we were,  for the first few days of our honeymoon.",
          "What actually happened to me, I, when I started working, I told my husband, I am taking out a savings account at the bank just for my money, because when I get enough of it, I am going to take you on a trip. So when I got enough of it, I took him to Austria, where his relatives were from, so I was able to make my dream come true.",
          "And so I think our home attitude and how we lived was slower pace and. There was a, maybe some racial injustice, but I do not know. On the whole, I think people got along pretty well. I do not think there was a lot of of crime. There was also, there was always crime, but not overtly like there are in the big cities, the world.",
          null
         ],
         "marker": {
          "color": "#CFD8DC",
          "opacity": 0.5,
          "size": 5
         },
         "mode": "markers+text",
         "name": "other",
         "showlegend": false,
         "x": [
          3.839881658554077,
          8.411712646484375,
          10.461421966552734,
          3.9937801361083984,
          7.930751323699951,
          9.102837562561035,
          5.830132007598877,
          7.0815019607543945
         ],
         "y": [
          4.751562118530273,
          9.452577590942383,
          8.113330841064453,
          4.959572792053223,
          8.913433074951172,
          9.962019920349121,
          8.782723426818848,
          7.847888469696045
         ],
         "type": "scattergl"
        },
        {
         "hoverinfo": "text",
         "hovertext": [
          "You know something, I do not think I would take you up on that. Because you know, life is a real mixture and there is wonderful, and there is some things you do not want to live agains. So, um, I think my childhood was very, very happy. I had a happy life so, I really do not know that I would want to live any of my years again. They were, I had wonderful times raising our children. We decided to have a large family and so we ended up with six daughters and four sons and they are all alive and doing well today. Very proud of them. And, uh, our son, Toby, is living at Pittsburgh and he has a daughter named Taylor who is doing this podcast. So that is where I am at. ",
          "Taylor : Yeah. We do not like those scam callers",
          "If you could speak to your younger self, what advice would you give? Hmm. Well, I do not, it was really interesting. When I was growing up, there were three choices for women. To work as a job, a secretary, nurse, or teacher. And none of those appealed to me at my young age. And so when I met my husband to be, he had gotten out of the service. Second World War was over and he had.",
          "Well, I always wanted to be an attorney. And the funny thing is that when I met my husband and I went back, he was from Illinois and I went back and met his family. His oldest brother was an attorney who was born on my birthday. So , I guess he became the attorney and I did not. But uh, no, I. I am glad I did not become an attorney.",
          "Now I think the parents have a big responsibility to not allow their children to be on, on games. A, you know, certain amount of time a day, fine, but not for, not constantly. Because you need, you need to get to know People and talk to people and interact. You need a lot of different things in this world. If you go to college and you learn everything from a book and you have not learned from experience, uh, it just does not work. Uh, you have to have the experience of interaction with people and doing things plus the book learning, and then you are a rounded.",
          "Well, you are a wonderful, wonderful granddaughter and I am very proud of what you are doing, and I cannot see what you are going to do in the next years.",
          "All, all kinds of things that they did in the countryside. Probably fixed bridges and fixed roads that they made work. You have to do that when you have trouble. We are having the same situation now, so we are going to pray that things change. ",
          "So I talked to my lady that was in charge of the adult education and then we talked about it and she looked at me after a while and she said, I can. Make you a full fledged teacher in one subject. So in that conversation I was able to switch from $5 an hour to 17.50 an hour, and it was all because I listened to my gut and my life changed so radically.",
          "And I have a special book that I just love called The Four Agreements. I would really suggest you read the Four Agreements. It is a very simple way of looking at life and every, every day I think about one of the agreements about how it is affecting me and how I can interact with other people with more kindness and listening. You got to learn to listen.",
          "I went to college for one year, and then I was a mom and I really loved being a mom. So we had numerous children and they were all very active doing things, making things, being active. Boys all had paper routes and had a little bit of money that way, and the girls did a lot of babysitting and a lot of sewing, and a lot of helping canning fruit.",
          "Well, my dad. I had a friend that came over and they built me a playhouse in the backyard. And the most fun, I had a neighbor across the street, Patty Jackson, and she and I, my mother would give me her old, uh, curtain for the living room. And we would put on hats and we would get, we would put on old high heels and we would just walk around the block, all dressed up.",
          "Like right now when the virus we are going through. I have noticed that there is so much fear. I, I do not mean to say that I am not afraid. I do not, I do not want to get the virus, but I do not want it to ruin my life. Every day when I get up to worry, worry, worry. I do not think that is what we can do. Whenever I start worrying too much, I know it is time to make a pot of soup so I can share soup with a neighbor. You know? We just have to not, not worry. That is not the message. ",
          "Well, I think in some ways you know that we know things too quickly and I think it can make people who are worried type of people, I think it makes them very upset.",
          "I do not do that. He helped me with everything. We just did everything together. And looking back, it was just a miracle that I found a man who had that kind of a good, positive attitude. He was from a large family, he liked. Having a large family, so we ended up having a large family, and now I have a lot of my daughters and my sons. They are wonderful, wonderful people, and they have grown up to be very responsible and very proud of them. ",
          "Yep, very very important. It makes you ready for be to be a salesman if you have that interview. All kinds of things start out when you are young and you develop them.",
          "Well, I like to make things. Right now I am knitting and I find that when it is cold or when you cannot go outside, it is nice to have something, has some handwork, something, whatever you like to do at embroidery or knit or.",
          "I feel for the younger generation, very much that they are too attached to the, to their, the games and all the things they do inside. There is not enough recreation outside. Uh, when our family grew up on the street, there was, oh, maybe like 20 kids and playing outside in the, playing baseball and having, just playing, plain fun.",
          "I, I would have liked to learn all those things, but it is a very stressful life and I do not know, I think I enjoyed what I did better. And in those days anyway, there was a lot of different things that we did with our children and they learned all kinds of things. They, I had them Involved in traveling and all kinds of things and camping and just doing all kinds of things, going to the beach.",
          "Anyway, what happened was they knew during depression that lot of people were wandering around because they had, things were so bad, there were not any jobs. It was really horrible and people were starving. So what they did is they set up camp and then they would go into the little town with the, the trains would stop, and this was after the hobos.",
          "Read or write or anything to fill the cracks in the day. And it is really been fun. I have gotten to know a lady from church that likes to knit also, we have been sharing different patterns and different things and having a lot of laughter. It is been fun. So I think it is very, it is tranquilizing. You do not have to take tranquilizers or all kinds of pills when you do hand work because your mind just escapes the everyday life, the everyday world.",
          "But I was only, I had a sister. When I was nine years old, my mother had a little girl, my sister, and when she was three years old and I was 12 years old, I knit her a sweater, a little red sweater. I will never forget it, and I am so proud of that in my own heart. So I think the things we can create are just very, very important. Yes. ",
          "They maybe still call hobos, but they would take them off the train and they would say, come on, we are going to take you the camp and we are going to get, we are going to feed you and we are going to give you some clean clothes. New clothes. So they take them out to the camps and they let them have a shower. They, shave them. And one time I heard a recording similar to the one I am making here about, and a man was telling about he was the one that was rescued from one of these situations where he was hungry, so hungry, they did not know what he was going to do.",
          "Well, I am working very hard on not going to a facility. My husband and, I want to stay our home, and I think you  have to keep. Like thinking forward. You have to think forward and think happy thoughts and do things together with people, do things together. I like to write letters.",
          "Hmm. Good telephones. I think the telephone systems are horrible now, and then having all those brutal phone calls come through all the time. It is disgusting. I think a lot of their people that are in Congress do not know what to do about these kind of things, and so they just ignore them. And we got to to say, we have to suffer by having these bad phone calls come in and interrupt our day so many times.",
          "Well, I think that the last four years have been such a disaster that I think we are going to all work together for the future in a happier mode and get things done. Just simple things. Basically, people need jobs and they need to be cared about, and we, the bottom line is we have to care about each other. We cannot judge people. We have to work with them and try to bring out the best. People have a lot of good characteristics and we have to bring it out and help them get educated, but also help the good jobs. And I think it is going to happen. I really do. Because I think we are going to have a wonderful administration and a lot of people working for positive results. ",
          "He started riding the rails and he told me that he had ridden, at that time there were 48 states and he told me that he had been in 46 in the 48 states, and they would ride the rails and then when a freight train would stop, it was freight cars. When a freight train would stop, they would all get out, whoever was on the train, get out, they would find a tree or someplace they could get out of the shade, get in the shade.",
          "Well, actually, I somehow learned how important it was to listen to your gut or your spirit, whatever you want to call it, because there is some sort of a little situation inside your Body that your mind or your spirit that tells you what to do if you, if you tune into it.",
          "That is right. One was called the wpa, and even today, if you are driving along Country Roads, you will see, where is there is a little bridge You will see wpa. A lot of people do not know what that means but they are still around. All the things that they did. Now a lot of it needs to be redone because over time things do disintegrate.",
          "And if you do not follow that, it usually you have fallen a in a ditch along the way. You really need to listen to your spirit. Your spirit guides you beautifully, beautifully. And what happened to me when all my children got to school, I wanted to have a little job. . So I had a friend that worked for adult education here in Santa Clara Valley, and she told me how I could get a job as an aide.",
          "So I got a job as an aide with another teacher for $5 an hour and was not a lot of money, but it was quite a while ago and it was fun. So I did that two or three mornings a week, but I decided that I did not want to work with this teacher anymore. I listened to my gut. And I did not have to work, so I thought, why should I do something that I do not want to be doing with a person I do not want to be doing it with?",
          "I ended up teaching. I ended up teaching in a woman's jail for six years. I later ended up teaching seniors for six years and helping one of my sons go to college. But it really, if I could give one, one advice to everybody is listen to your gut or your spirit, whatever you want to call it. That is my message and it really changed my life.",
          "But I had, I wanted a big family because I was born in a family that was not big and I was bored. And my father, I do not know if you know what a hobo is. A hobo is somebody who rides the rails, rides the rails, and my father had a lot of adventures before the first World War. He was born in eighteen eighty nine, two years before the turn of Century, and so about probably about 1915.",
          "What was the biggest milestone? Mm-hmm. . I do not know. Let me think about that. Well, you know, a lot of the milestones are not milestones at the time. You do not think of it that way. And I think if your attitude is positive and open, I do not think the milestones look like milestones. You look back on them and they are milestones for, for sure.",
          "Yep. I had it happen to me one day and I fell for it till I woken and I turned it around, but it could happen to anybody. It is amazing how they con you. So anyway, you have to really be on your toes and realize that certain governmental offices, like the irs, et cetera, they will not call you on the phone if they want to get hold of you. They do it by mail. ",
          "Yes. Yes. Yes. And right now I understand, you know, there is a huge amount of people that are trying to call you up and scare you, and they tell you that the IRS wants to get, is going to get you in different things and they are, they are just doing all kinds of terrible, stealing money from people and just doing all sorts of evil things to kind people who are at home and who are not ready for being hacked and being tripped very bad.",
          "Well, I think that we are getting more open to changes in ideas, and I think that people, for instance, people who are gay or people who have different kinds of other things going on. We are, we do not judge them as like we did years ago, and I think that is very, very positive because I think whoever we are, that is who we are and we need to be all respected as God made us all certain ways and we have to just go, as they say, go of the flow. There is a lot of wonderful people, this world that are not just exactly like each other. We are all a little different.",
          "There is so many lonely people that lately I have been writing postcards to people telling them, pass them on to somebody else. You know, fun. Make plans. I hope someday I can still go to Yellowstone. I have not seen Yellowstone. I have seen a lot of the world, but not Yellowstone, but just you just have, have thoughts that are positive.",
          "And I would have taken airplane flights, but they were not available when I was that age. I was, I was born 1930, so just before the second World War started. In 1941 when Pearl Harbor was attacked, I was only 10 and it was, uh, that was really a change. Oh my goodness. Oh my goodness. It was a big change. There was so much, so much propaganda making us hate the Japanese for attacking Pearl Harbor.",
          "And so they, they traveled. They were not afraid of their world. It was my intention that my children would all be not afraid of the world. My father taught me not to be afraid of the world and enjoy it. And that is what I try to impart with our children.",
          "We had so much. It was, it was a delight. And after my husband and I got married, we took, we took that playhouse apart and took it over to where we had our first tract home in 1950 and we put it up and so our children were able to enjoy that playhouse also. So I think getting, having time to grow up and be kids is very, very important. Very, very important. We really have to work hard on letting children be children.",
          "Whatever, and then they would share their food and then sometimes they would go into town and try to see if they get rake leaves or do some work for people, make a meal. And so they could get a meal or something from the P, the homeowners, but they were not, they were good people. They were just, As we say, we are just moving around and enjoying things, and sometimes when things got real tough in depression later, some people would leave home just because it would make it easier on the parents to feed the younger children."
         ],
         "marker": {
          "opacity": 0.5,
          "size": 5
         },
         "mode": "markers+text",
         "name": "0_things_think_people",
         "text": [
          "",
          "",
          "",
          "",
          "",
          "",
          "",
          "",
          "",
          "",
          "",
          "",
          "",
          "",
          "",
          "",
          "",
          "",
          "",
          "",
          "",
          "",
          "",
          "",
          "",
          "",
          "",
          "",
          "",
          "",
          "",
          "",
          "",
          "",
          "",
          "",
          "",
          "",
          "",
          "",
          ""
         ],
         "textfont": {
          "size": 12
         },
         "x": [
          9.64113712310791,
          11.703838348388672,
          9.553549766540527,
          9.679651260375977,
          9.887755393981934,
          9.374741554260254,
          6.71289587020874,
          9.931665420532227,
          10.613945007324219,
          9.159128189086914,
          8.522628784179688,
          11.34731388092041,
          11.643078804016113,
          9.066082954406738,
          9.020074844360352,
          6.37162446975708,
          9.816641807556152,
          9.717916488647461,
          6.878302097320557,
          6.271653175354004,
          8.852725982666016,
          7.276939868927002,
          6.972226619720459,
          11.52140998840332,
          11.08840560913086,
          6.9551286697387695,
          10.413695335388184,
          11.271819114685059,
          10.183904647827148,
          9.601487159729004,
          9.974996566772461,
          7.280813217163086,
          9.20273494720459,
          11.933167457580566,
          11.809260368347168,
          11.14419174194336,
          6.766495227813721,
          7.370189666748047,
          10.742342948913574,
          8.93443775177002,
          7.180675983428955
         ],
         "y": [
          9.196112632751465,
          7.495039463043213,
          10.051929473876953,
          10.193085670471191,
          8.158478736877441,
          8.717556953430176,
          10.278882026672363,
          10.653221130371094,
          10.099298477172852,
          8.271831512451172,
          8.575016021728516,
          8.720770835876465,
          8.404960632324219,
          10.493589401245117,
          9.42398452758789,
          5.8324103355407715,
          8.075411796569824,
          9.225500106811523,
          10.244017601013184,
          5.789151668548584,
          8.872875213623047,
          10.123719215393066,
          6.254181385040283,
          7.313390731811523,
          8.214147567749023,
          9.766520500183105,
          10.273881912231445,
          7.181674480438232,
          10.52036190032959,
          10.849128723144531,
          10.431105613708496,
          10.011835098266602,
          8.865198135375977,
          7.786020755767822,
          7.911938667297363,
          8.289878845214844,
          6.094094753265381,
          9.318634033203125,
          9.009499549865723,
          8.572121620178223,
          10.271711349487305
         ],
         "type": "scattergl"
        },
        {
         "hoverinfo": "text",
         "hovertext": [
          "That is an interesting question. I. That is interesting. I, I took a train trip I remember from San Jose to Los Angeles when I was 10, just before Pearl Harbor that year, and that was very exciting.",
          "Every, so many people I talked to were making sourdough bread. In fact, a couple came over yesterday and brought me some of the couple slices of her bread. Oh, is it delicious. So it is, it takes a lot of energy to make sourdough, cuz you have to time it. Boy was delicious. So making, making food is fun. ",
          "We had enough, but we, it was ration and sugar, things like that. But the men who were fighting the war, they were given all kinds of meat that make them be more aggressive. So when they got back from the war, there were a lot of jobs. And they had plenty of money and they wanted meat, meat, meat. And that is when the big meat obsession started in America.",
          "It was really a bad time as far as, you know, turning on hate onto each. It was bad, but a good thing happened in our downtown San Jose. About that time, I do not know exactly what it was, there was a, a group of Chinese people that lived down there. And anyway, some of the Europeans came in one night and burned them all out, and it was a terrible shock. And also a German man gave the Chinese people a few acres to start a new community. Just a few, a few miles away. Which was incredibly wonderful. And after a while there was a lot of Chinese people there and then slowly they kind of moved in different places in San Jose. And so after the second World War, the Japanese people settled in the same area mostly.",
          "Polenta and lots of pastas and salads. Lots of fun things. Yeah, that sounds good. Yep. My husband's 95 and he still has his hair, I said, thank me I did not feed you stuff that make your hair fall out. ",
          "I love tapioca, pudding. It is really good. I like it. Yeah, good for you too. You know, tapioca is from a root, and it was in Asia, I think, and you could not get it much during the second World War. So what was the other question? ",
          "Oh, I never even, oh, I thought for sure. I was born in 1930 and I used to think about Uh, the turn of the century and I thought I was 70 years old. Oh my goodness. No, I will be dead by then. So being alive now at 90 is a big shock, but luckily I am in pretty good shape. You get tired. That is the one only thing about being 90. You do get tired, but just try to eat a lot of vegetables and fruit and grains and stay away from the meat, that is my advice. ",
          "Hmm. Legal. I have to think about that one for a while.When you have cities that are, that are not, uh, overpopulated, people get along better than they do. They, they have made tests with, uh, with animals and they have found that there is a lot more aggression when you have too many people, or in that case, animals taking over a certain amount of space. So by living in Santa Clara and also going to Santa Jose of high school, we were not, uh, overcrowded.",
          "The thing is that during the second world, The people who created food, they started planage and they had a big plan when the war was over. They had all these things that they made, which they called food and it put it in boxes, but it really was not food anymore. But people got conned and people started getting, what happened was during the war, We had rationing as far as meat.",
          "So then it became Japan-town. So even today in San Jose, we have a wonderful Japan town and so I love to take people there cuz it is like, it is like going to San Francisco, but we do not have to drive 50 miles away. So I love if you ever come to San Jose, go to Japan Town and have lunch or dinner. It is really fun.",
          "First of all, I still have a strong voice at the age of 90, so a lot of people on the phone do not think I am 90, but this year I am 90 and I have lived in Santa Clara Valley, which is now called Silicon Valley, oh, most of my life. It is a wonderful place to live. Wonderful weather. Close to the ocean. So that is where I grew up and it was a, I grew up in a town of Santa Clara, which was right next to San Jose, and it was a town of 5,000 people at the time. Very low key, very nice place to grow up. It was able to ride my bicycle all over the place. Had a lot of freedom. So that is me.",
          "We live in a valley that had lots and lots of wonderful fruit. Apricots, pears, plumbs prunes. So everybody was kind of involved with the fruit industry. It is a wonderful place to grow up. ",
          "Uh, have, repeat that question. Oh, comfort food. Yes. A comfort food. Well, you know what? I love tapioca pudding and I have not made it for a long time. And, and you put later on, at the end of it, you fold in the egg whites and so it is kindy, it is wonderful. ",
          "And that is why now we have so many sick people because of they, they are so unbalanced and they are the way they eat. There is a lot of information out now about how to eat. And you can find it if you look for it. Because it is, it is getting stronger and stronger. Because we have to get well, we have to take care of ourselves. So I am actually now a vegetarian and I really enjoy all kinds of good things",
          "Well, like I said, I think it is fun to garden. I think it is fun sometimes in the year that too, you can walk and enjoy. Enjoy the scenery. We have lots of beautiful flowers here in California and I think it is wonderful to cook and bake right now during this virus we are having, having. ",
          "He said. He said, I will never forget that day in my life when they took us to the camp and we showered and we got clean clothes and I had the most wonderful breakfast. I had all the bacon and eggs and toast and coffee I ever wanted. He said it changed my whole life. So Franklin Roosevelt set up this conservation  corp and",
          "My wedding, well, we were married pretty close after the second World War, uh, it stopped. So things were, there was not a lot of. bridal Things and things to buy first. Because when you have a war, then changing the transition, it is almost like an earthquake. I mean, it takes a long time to ever have everything settled down. So anyway, we were Catholic and we, they started having, they called nuptual masses, which meant it was a mass in which, which a celebration during which you were married.",
          "So I am actually now a vegetarian and I really enjoy all kinds of good things That is right. That is right. Oh, I love polenta. I have a wonderful recipe for polenta. I think it is fun to find, I call them peasant recipes. It is what the peasants used to eat real simple food like soups and"
         ],
         "marker": {
          "opacity": 0.5,
          "size": 5
         },
         "mode": "markers+text",
         "name": "1_people_food_wonderful",
         "text": [
          "",
          "",
          "",
          "",
          "",
          "",
          "",
          "",
          "",
          "",
          "",
          "",
          "",
          "",
          "",
          "",
          "",
          ""
         ],
         "textfont": {
          "size": 12
         },
         "x": [
          7.066039562225342,
          5.9808220863342285,
          4.41256046295166,
          5.92881965637207,
          5.049975872039795,
          5.202694892883301,
          5.735848426818848,
          5.6494646072387695,
          4.375922203063965,
          5.976116180419922,
          5.762506008148193,
          5.900658130645752,
          5.298238754272461,
          4.652745246887207,
          6.160470485687256,
          4.066739082336426,
          8.071762084960938,
          4.877893447875977
         ],
         "y": [
          9.200827598571777,
          5.872237205505371,
          5.493097305297852,
          8.711371421813965,
          6.41648006439209,
          5.863630771636963,
          7.041451454162598,
          8.46221923828125,
          5.44924259185791,
          8.236677169799805,
          8.007661819458008,
          7.754341125488281,
          5.920653343200684,
          5.6875152587890625,
          6.207883834838867,
          5.127527713775635,
          9.146794319152832,
          6.056689262390137
         ],
         "type": "scattergl"
        }
       ],
       "layout": {
        "template": {
         "data": {
          "barpolar": [
           {
            "marker": {
             "line": {
              "color": "white",
              "width": 0.5
             },
             "pattern": {
              "fillmode": "overlay",
              "size": 10,
              "solidity": 0.2
             }
            },
            "type": "barpolar"
           }
          ],
          "bar": [
           {
            "error_x": {
             "color": "rgb(36,36,36)"
            },
            "error_y": {
             "color": "rgb(36,36,36)"
            },
            "marker": {
             "line": {
              "color": "white",
              "width": 0.5
             },
             "pattern": {
              "fillmode": "overlay",
              "size": 10,
              "solidity": 0.2
             }
            },
            "type": "bar"
           }
          ],
          "carpet": [
           {
            "aaxis": {
             "endlinecolor": "rgb(36,36,36)",
             "gridcolor": "white",
             "linecolor": "white",
             "minorgridcolor": "white",
             "startlinecolor": "rgb(36,36,36)"
            },
            "baxis": {
             "endlinecolor": "rgb(36,36,36)",
             "gridcolor": "white",
             "linecolor": "white",
             "minorgridcolor": "white",
             "startlinecolor": "rgb(36,36,36)"
            },
            "type": "carpet"
           }
          ],
          "choropleth": [
           {
            "colorbar": {
             "outlinewidth": 1,
             "tickcolor": "rgb(36,36,36)",
             "ticks": "outside"
            },
            "type": "choropleth"
           }
          ],
          "contourcarpet": [
           {
            "colorbar": {
             "outlinewidth": 1,
             "tickcolor": "rgb(36,36,36)",
             "ticks": "outside"
            },
            "type": "contourcarpet"
           }
          ],
          "contour": [
           {
            "colorbar": {
             "outlinewidth": 1,
             "tickcolor": "rgb(36,36,36)",
             "ticks": "outside"
            },
            "colorscale": [
             [
              0.0,
              "#440154"
             ],
             [
              0.1111111111111111,
              "#482878"
             ],
             [
              0.2222222222222222,
              "#3e4989"
             ],
             [
              0.3333333333333333,
              "#31688e"
             ],
             [
              0.4444444444444444,
              "#26828e"
             ],
             [
              0.5555555555555556,
              "#1f9e89"
             ],
             [
              0.6666666666666666,
              "#35b779"
             ],
             [
              0.7777777777777778,
              "#6ece58"
             ],
             [
              0.8888888888888888,
              "#b5de2b"
             ],
             [
              1.0,
              "#fde725"
             ]
            ],
            "type": "contour"
           }
          ],
          "heatmapgl": [
           {
            "colorbar": {
             "outlinewidth": 1,
             "tickcolor": "rgb(36,36,36)",
             "ticks": "outside"
            },
            "colorscale": [
             [
              0.0,
              "#440154"
             ],
             [
              0.1111111111111111,
              "#482878"
             ],
             [
              0.2222222222222222,
              "#3e4989"
             ],
             [
              0.3333333333333333,
              "#31688e"
             ],
             [
              0.4444444444444444,
              "#26828e"
             ],
             [
              0.5555555555555556,
              "#1f9e89"
             ],
             [
              0.6666666666666666,
              "#35b779"
             ],
             [
              0.7777777777777778,
              "#6ece58"
             ],
             [
              0.8888888888888888,
              "#b5de2b"
             ],
             [
              1.0,
              "#fde725"
             ]
            ],
            "type": "heatmapgl"
           }
          ],
          "heatmap": [
           {
            "colorbar": {
             "outlinewidth": 1,
             "tickcolor": "rgb(36,36,36)",
             "ticks": "outside"
            },
            "colorscale": [
             [
              0.0,
              "#440154"
             ],
             [
              0.1111111111111111,
              "#482878"
             ],
             [
              0.2222222222222222,
              "#3e4989"
             ],
             [
              0.3333333333333333,
              "#31688e"
             ],
             [
              0.4444444444444444,
              "#26828e"
             ],
             [
              0.5555555555555556,
              "#1f9e89"
             ],
             [
              0.6666666666666666,
              "#35b779"
             ],
             [
              0.7777777777777778,
              "#6ece58"
             ],
             [
              0.8888888888888888,
              "#b5de2b"
             ],
             [
              1.0,
              "#fde725"
             ]
            ],
            "type": "heatmap"
           }
          ],
          "histogram2dcontour": [
           {
            "colorbar": {
             "outlinewidth": 1,
             "tickcolor": "rgb(36,36,36)",
             "ticks": "outside"
            },
            "colorscale": [
             [
              0.0,
              "#440154"
             ],
             [
              0.1111111111111111,
              "#482878"
             ],
             [
              0.2222222222222222,
              "#3e4989"
             ],
             [
              0.3333333333333333,
              "#31688e"
             ],
             [
              0.4444444444444444,
              "#26828e"
             ],
             [
              0.5555555555555556,
              "#1f9e89"
             ],
             [
              0.6666666666666666,
              "#35b779"
             ],
             [
              0.7777777777777778,
              "#6ece58"
             ],
             [
              0.8888888888888888,
              "#b5de2b"
             ],
             [
              1.0,
              "#fde725"
             ]
            ],
            "type": "histogram2dcontour"
           }
          ],
          "histogram2d": [
           {
            "colorbar": {
             "outlinewidth": 1,
             "tickcolor": "rgb(36,36,36)",
             "ticks": "outside"
            },
            "colorscale": [
             [
              0.0,
              "#440154"
             ],
             [
              0.1111111111111111,
              "#482878"
             ],
             [
              0.2222222222222222,
              "#3e4989"
             ],
             [
              0.3333333333333333,
              "#31688e"
             ],
             [
              0.4444444444444444,
              "#26828e"
             ],
             [
              0.5555555555555556,
              "#1f9e89"
             ],
             [
              0.6666666666666666,
              "#35b779"
             ],
             [
              0.7777777777777778,
              "#6ece58"
             ],
             [
              0.8888888888888888,
              "#b5de2b"
             ],
             [
              1.0,
              "#fde725"
             ]
            ],
            "type": "histogram2d"
           }
          ],
          "histogram": [
           {
            "marker": {
             "line": {
              "color": "white",
              "width": 0.6
             }
            },
            "type": "histogram"
           }
          ],
          "mesh3d": [
           {
            "colorbar": {
             "outlinewidth": 1,
             "tickcolor": "rgb(36,36,36)",
             "ticks": "outside"
            },
            "type": "mesh3d"
           }
          ],
          "parcoords": [
           {
            "line": {
             "colorbar": {
              "outlinewidth": 1,
              "tickcolor": "rgb(36,36,36)",
              "ticks": "outside"
             }
            },
            "type": "parcoords"
           }
          ],
          "pie": [
           {
            "automargin": true,
            "type": "pie"
           }
          ],
          "scatter3d": [
           {
            "line": {
             "colorbar": {
              "outlinewidth": 1,
              "tickcolor": "rgb(36,36,36)",
              "ticks": "outside"
             }
            },
            "marker": {
             "colorbar": {
              "outlinewidth": 1,
              "tickcolor": "rgb(36,36,36)",
              "ticks": "outside"
             }
            },
            "type": "scatter3d"
           }
          ],
          "scattercarpet": [
           {
            "marker": {
             "colorbar": {
              "outlinewidth": 1,
              "tickcolor": "rgb(36,36,36)",
              "ticks": "outside"
             }
            },
            "type": "scattercarpet"
           }
          ],
          "scattergeo": [
           {
            "marker": {
             "colorbar": {
              "outlinewidth": 1,
              "tickcolor": "rgb(36,36,36)",
              "ticks": "outside"
             }
            },
            "type": "scattergeo"
           }
          ],
          "scattergl": [
           {
            "marker": {
             "colorbar": {
              "outlinewidth": 1,
              "tickcolor": "rgb(36,36,36)",
              "ticks": "outside"
             }
            },
            "type": "scattergl"
           }
          ],
          "scattermapbox": [
           {
            "marker": {
             "colorbar": {
              "outlinewidth": 1,
              "tickcolor": "rgb(36,36,36)",
              "ticks": "outside"
             }
            },
            "type": "scattermapbox"
           }
          ],
          "scatterpolargl": [
           {
            "marker": {
             "colorbar": {
              "outlinewidth": 1,
              "tickcolor": "rgb(36,36,36)",
              "ticks": "outside"
             }
            },
            "type": "scatterpolargl"
           }
          ],
          "scatterpolar": [
           {
            "marker": {
             "colorbar": {
              "outlinewidth": 1,
              "tickcolor": "rgb(36,36,36)",
              "ticks": "outside"
             }
            },
            "type": "scatterpolar"
           }
          ],
          "scatter": [
           {
            "fillpattern": {
             "fillmode": "overlay",
             "size": 10,
             "solidity": 0.2
            },
            "type": "scatter"
           }
          ],
          "scatterternary": [
           {
            "marker": {
             "colorbar": {
              "outlinewidth": 1,
              "tickcolor": "rgb(36,36,36)",
              "ticks": "outside"
             }
            },
            "type": "scatterternary"
           }
          ],
          "surface": [
           {
            "colorbar": {
             "outlinewidth": 1,
             "tickcolor": "rgb(36,36,36)",
             "ticks": "outside"
            },
            "colorscale": [
             [
              0.0,
              "#440154"
             ],
             [
              0.1111111111111111,
              "#482878"
             ],
             [
              0.2222222222222222,
              "#3e4989"
             ],
             [
              0.3333333333333333,
              "#31688e"
             ],
             [
              0.4444444444444444,
              "#26828e"
             ],
             [
              0.5555555555555556,
              "#1f9e89"
             ],
             [
              0.6666666666666666,
              "#35b779"
             ],
             [
              0.7777777777777778,
              "#6ece58"
             ],
             [
              0.8888888888888888,
              "#b5de2b"
             ],
             [
              1.0,
              "#fde725"
             ]
            ],
            "type": "surface"
           }
          ],
          "table": [
           {
            "cells": {
             "fill": {
              "color": "rgb(237,237,237)"
             },
             "line": {
              "color": "white"
             }
            },
            "header": {
             "fill": {
              "color": "rgb(217,217,217)"
             },
             "line": {
              "color": "white"
             }
            },
            "type": "table"
           }
          ]
         },
         "layout": {
          "annotationdefaults": {
           "arrowhead": 0,
           "arrowwidth": 1
          },
          "autotypenumbers": "strict",
          "coloraxis": {
           "colorbar": {
            "outlinewidth": 1,
            "tickcolor": "rgb(36,36,36)",
            "ticks": "outside"
           }
          },
          "colorscale": {
           "diverging": [
            [
             0.0,
             "rgb(103,0,31)"
            ],
            [
             0.1,
             "rgb(178,24,43)"
            ],
            [
             0.2,
             "rgb(214,96,77)"
            ],
            [
             0.3,
             "rgb(244,165,130)"
            ],
            [
             0.4,
             "rgb(253,219,199)"
            ],
            [
             0.5,
             "rgb(247,247,247)"
            ],
            [
             0.6,
             "rgb(209,229,240)"
            ],
            [
             0.7,
             "rgb(146,197,222)"
            ],
            [
             0.8,
             "rgb(67,147,195)"
            ],
            [
             0.9,
             "rgb(33,102,172)"
            ],
            [
             1.0,
             "rgb(5,48,97)"
            ]
           ],
           "sequential": [
            [
             0.0,
             "#440154"
            ],
            [
             0.1111111111111111,
             "#482878"
            ],
            [
             0.2222222222222222,
             "#3e4989"
            ],
            [
             0.3333333333333333,
             "#31688e"
            ],
            [
             0.4444444444444444,
             "#26828e"
            ],
            [
             0.5555555555555556,
             "#1f9e89"
            ],
            [
             0.6666666666666666,
             "#35b779"
            ],
            [
             0.7777777777777778,
             "#6ece58"
            ],
            [
             0.8888888888888888,
             "#b5de2b"
            ],
            [
             1.0,
             "#fde725"
            ]
           ],
           "sequentialminus": [
            [
             0.0,
             "#440154"
            ],
            [
             0.1111111111111111,
             "#482878"
            ],
            [
             0.2222222222222222,
             "#3e4989"
            ],
            [
             0.3333333333333333,
             "#31688e"
            ],
            [
             0.4444444444444444,
             "#26828e"
            ],
            [
             0.5555555555555556,
             "#1f9e89"
            ],
            [
             0.6666666666666666,
             "#35b779"
            ],
            [
             0.7777777777777778,
             "#6ece58"
            ],
            [
             0.8888888888888888,
             "#b5de2b"
            ],
            [
             1.0,
             "#fde725"
            ]
           ]
          },
          "colorway": [
           "#1F77B4",
           "#FF7F0E",
           "#2CA02C",
           "#D62728",
           "#9467BD",
           "#8C564B",
           "#E377C2",
           "#7F7F7F",
           "#BCBD22",
           "#17BECF"
          ],
          "font": {
           "color": "rgb(36,36,36)"
          },
          "geo": {
           "bgcolor": "white",
           "lakecolor": "white",
           "landcolor": "white",
           "showlakes": true,
           "showland": true,
           "subunitcolor": "white"
          },
          "hoverlabel": {
           "align": "left"
          },
          "hovermode": "closest",
          "mapbox": {
           "style": "light"
          },
          "paper_bgcolor": "white",
          "plot_bgcolor": "white",
          "polar": {
           "angularaxis": {
            "gridcolor": "rgb(232,232,232)",
            "linecolor": "rgb(36,36,36)",
            "showgrid": false,
            "showline": true,
            "ticks": "outside"
           },
           "bgcolor": "white",
           "radialaxis": {
            "gridcolor": "rgb(232,232,232)",
            "linecolor": "rgb(36,36,36)",
            "showgrid": false,
            "showline": true,
            "ticks": "outside"
           }
          },
          "scene": {
           "xaxis": {
            "backgroundcolor": "white",
            "gridcolor": "rgb(232,232,232)",
            "gridwidth": 2,
            "linecolor": "rgb(36,36,36)",
            "showbackground": true,
            "showgrid": false,
            "showline": true,
            "ticks": "outside",
            "zeroline": false,
            "zerolinecolor": "rgb(36,36,36)"
           },
           "yaxis": {
            "backgroundcolor": "white",
            "gridcolor": "rgb(232,232,232)",
            "gridwidth": 2,
            "linecolor": "rgb(36,36,36)",
            "showbackground": true,
            "showgrid": false,
            "showline": true,
            "ticks": "outside",
            "zeroline": false,
            "zerolinecolor": "rgb(36,36,36)"
           },
           "zaxis": {
            "backgroundcolor": "white",
            "gridcolor": "rgb(232,232,232)",
            "gridwidth": 2,
            "linecolor": "rgb(36,36,36)",
            "showbackground": true,
            "showgrid": false,
            "showline": true,
            "ticks": "outside",
            "zeroline": false,
            "zerolinecolor": "rgb(36,36,36)"
           }
          },
          "shapedefaults": {
           "fillcolor": "black",
           "line": {
            "width": 0
           },
           "opacity": 0.3
          },
          "ternary": {
           "aaxis": {
            "gridcolor": "rgb(232,232,232)",
            "linecolor": "rgb(36,36,36)",
            "showgrid": false,
            "showline": true,
            "ticks": "outside"
           },
           "baxis": {
            "gridcolor": "rgb(232,232,232)",
            "linecolor": "rgb(36,36,36)",
            "showgrid": false,
            "showline": true,
            "ticks": "outside"
           },
           "bgcolor": "white",
           "caxis": {
            "gridcolor": "rgb(232,232,232)",
            "linecolor": "rgb(36,36,36)",
            "showgrid": false,
            "showline": true,
            "ticks": "outside"
           }
          },
          "title": {
           "x": 0.05
          },
          "xaxis": {
           "automargin": true,
           "gridcolor": "rgb(232,232,232)",
           "linecolor": "rgb(36,36,36)",
           "showgrid": false,
           "showline": true,
           "ticks": "outside",
           "title": {
            "standoff": 15
           },
           "zeroline": false,
           "zerolinecolor": "rgb(36,36,36)"
          },
          "yaxis": {
           "automargin": true,
           "gridcolor": "rgb(232,232,232)",
           "linecolor": "rgb(36,36,36)",
           "showgrid": false,
           "showline": true,
           "ticks": "outside",
           "title": {
            "standoff": 15
           },
           "zeroline": false,
           "zerolinecolor": "rgb(36,36,36)"
          }
         }
        },
        "shapes": [
         {
          "line": {
           "color": "#CFD8DC",
           "width": 2
          },
          "type": "line",
          "x0": 8.493520992994307,
          "x1": 8.493520992994307,
          "y0": 4.038827800750733,
          "y1": 12.476498031616211
         },
         {
          "line": {
           "color": "#9E9E9E",
           "width": 2
          },
          "type": "line",
          "x0": 3.2638994097709655,
          "x1": 13.72314257621765,
          "y0": 8.257662916183472,
          "y1": 8.257662916183472
         }
        ],
        "annotations": [
         {
          "showarrow": false,
          "text": "D1",
          "x": 3.2638994097709655,
          "y": 8.257662916183472,
          "yshift": 10
         },
         {
          "showarrow": false,
          "text": "D2",
          "x": 8.493520992994307,
          "xshift": 10,
          "y": 12.476498031616211
         }
        ],
        "title": {
         "font": {
          "size": 22,
          "color": "Black"
         },
         "text": "<b>Documents and Topics</b>",
         "x": 0.5,
         "xanchor": "center",
         "yanchor": "top"
        },
        "width": 1200,
        "height": 750,
        "xaxis": {
         "visible": false
        },
        "yaxis": {
         "visible": false
        }
       },
       "config": {
        "plotlyServerURL": "https://plot.ly"
       }
      },
      "text/html": "<div>                            <div id=\"e305353c-5ff6-4e33-b44e-ca0aef651f20\" class=\"plotly-graph-div\" style=\"height:750px; width:1200px;\"></div>            <script type=\"text/javascript\">                require([\"plotly\"], function(Plotly) {                    window.PLOTLYENV=window.PLOTLYENV || {};                                    if (document.getElementById(\"e305353c-5ff6-4e33-b44e-ca0aef651f20\")) {                    Plotly.newPlot(                        \"e305353c-5ff6-4e33-b44e-ca0aef651f20\",                        [{\"hoverinfo\":\"text\",\"hovertext\":[\"Something called the GI Bill, which was a wonderful bill that they put through Congress, which allowed any service man to go to college for free. For free. It was wonderful. So he, what he did is he came out here and he ended up going to Santa Clara University and he only had had two years before the war was ended, but they let him stay for four years and he got his education and we got married during that time and that was a really good decision.\",\"So that was fun. So that was a, a very, very happy day for me and I really lucked out. One of the most important things now I realize in, in having a partner is to have a real partner. And my husband, I have been married to him now for over 70 years, and he never ever said to me when I asked him to help me, that is woman's work.\",\"Well, I think the computer industry, there is good things about it, but there is a lot about it that I do not like. I do not, I do not like Facebook. I will not have any part of Facebook and because people do not, young people especially do not know how to manage it. They tell too many of their secrets that they let people frighten them and get them depressed. You know, that was not the intention to start. \",\"Still, I do not know if you have heard about it, but there is something in the forties was called the CCC conservation corps. And we had a president called President Franklin Delenor Roosevelt, and in my mind, in my husband's mind, we think he is a wonderful man. He is behind a whole social security program and thank goodness we have social security.\",\"And my husband's brother Bob was a Catholic priest, so he was there at our wedding. And then we had, we had a reception in the afternoon and that was fun. And then my parents had purchased a piece of land over along the ocean in Santa Cruz and they had beginning of a house there, so that is where we were,  for the first few days of our honeymoon.\",\"What actually happened to me, I, when I started working, I told my husband, I am taking out a savings account at the bank just for my money, because when I get enough of it, I am going to take you on a trip. So when I got enough of it, I took him to Austria, where his relatives were from, so I was able to make my dream come true.\",\"And so I think our home attitude and how we lived was slower pace and. There was a, maybe some racial injustice, but I do not know. On the whole, I think people got along pretty well. I do not think there was a lot of of crime. There was also, there was always crime, but not overtly like there are in the big cities, the world.\",null],\"marker\":{\"color\":\"#CFD8DC\",\"opacity\":0.5,\"size\":5},\"mode\":\"markers+text\",\"name\":\"other\",\"showlegend\":false,\"x\":[3.839881658554077,8.411712646484375,10.461421966552734,3.9937801361083984,7.930751323699951,9.102837562561035,5.830132007598877,7.0815019607543945],\"y\":[4.751562118530273,9.452577590942383,8.113330841064453,4.959572792053223,8.913433074951172,9.962019920349121,8.782723426818848,7.847888469696045],\"type\":\"scattergl\"},{\"hoverinfo\":\"text\",\"hovertext\":[\"You know something, I do not think I would take you up on that. Because you know, life is a real mixture and there is wonderful, and there is some things you do not want to live agains. So, um, I think my childhood was very, very happy. I had a happy life so, I really do not know that I would want to live any of my years again. They were, I had wonderful times raising our children. We decided to have a large family and so we ended up with six daughters and four sons and they are all alive and doing well today. Very proud of them. And, uh, our son, Toby, is living at Pittsburgh and he has a daughter named Taylor who is doing this podcast. So that is where I am at. \",\"Taylor : Yeah. We do not like those scam callers\",\"If you could speak to your younger self, what advice would you give? Hmm. Well, I do not, it was really interesting. When I was growing up, there were three choices for women. To work as a job, a secretary, nurse, or teacher. And none of those appealed to me at my young age. And so when I met my husband to be, he had gotten out of the service. Second World War was over and he had.\",\"Well, I always wanted to be an attorney. And the funny thing is that when I met my husband and I went back, he was from Illinois and I went back and met his family. His oldest brother was an attorney who was born on my birthday. So , I guess he became the attorney and I did not. But uh, no, I. I am glad I did not become an attorney.\",\"Now I think the parents have a big responsibility to not allow their children to be on, on games. A, you know, certain amount of time a day, fine, but not for, not constantly. Because you need, you need to get to know People and talk to people and interact. You need a lot of different things in this world. If you go to college and you learn everything from a book and you have not learned from experience, uh, it just does not work. Uh, you have to have the experience of interaction with people and doing things plus the book learning, and then you are a rounded.\",\"Well, you are a wonderful, wonderful granddaughter and I am very proud of what you are doing, and I cannot see what you are going to do in the next years.\",\"All, all kinds of things that they did in the countryside. Probably fixed bridges and fixed roads that they made work. You have to do that when you have trouble. We are having the same situation now, so we are going to pray that things change. \",\"So I talked to my lady that was in charge of the adult education and then we talked about it and she looked at me after a while and she said, I can. Make you a full fledged teacher in one subject. So in that conversation I was able to switch from $5 an hour to 17.50 an hour, and it was all because I listened to my gut and my life changed so radically.\",\"And I have a special book that I just love called The Four Agreements. I would really suggest you read the Four Agreements. It is a very simple way of looking at life and every, every day I think about one of the agreements about how it is affecting me and how I can interact with other people with more kindness and listening. You got to learn to listen.\",\"I went to college for one year, and then I was a mom and I really loved being a mom. So we had numerous children and they were all very active doing things, making things, being active. Boys all had paper routes and had a little bit of money that way, and the girls did a lot of babysitting and a lot of sewing, and a lot of helping canning fruit.\",\"Well, my dad. I had a friend that came over and they built me a playhouse in the backyard. And the most fun, I had a neighbor across the street, Patty Jackson, and she and I, my mother would give me her old, uh, curtain for the living room. And we would put on hats and we would get, we would put on old high heels and we would just walk around the block, all dressed up.\",\"Like right now when the virus we are going through. I have noticed that there is so much fear. I, I do not mean to say that I am not afraid. I do not, I do not want to get the virus, but I do not want it to ruin my life. Every day when I get up to worry, worry, worry. I do not think that is what we can do. Whenever I start worrying too much, I know it is time to make a pot of soup so I can share soup with a neighbor. You know? We just have to not, not worry. That is not the message. \",\"Well, I think in some ways you know that we know things too quickly and I think it can make people who are worried type of people, I think it makes them very upset.\",\"I do not do that. He helped me with everything. We just did everything together. And looking back, it was just a miracle that I found a man who had that kind of a good, positive attitude. He was from a large family, he liked. Having a large family, so we ended up having a large family, and now I have a lot of my daughters and my sons. They are wonderful, wonderful people, and they have grown up to be very responsible and very proud of them. \",\"Yep, very very important. It makes you ready for be to be a salesman if you have that interview. All kinds of things start out when you are young and you develop them.\",\"Well, I like to make things. Right now I am knitting and I find that when it is cold or when you cannot go outside, it is nice to have something, has some handwork, something, whatever you like to do at embroidery or knit or.\",\"I feel for the younger generation, very much that they are too attached to the, to their, the games and all the things they do inside. There is not enough recreation outside. Uh, when our family grew up on the street, there was, oh, maybe like 20 kids and playing outside in the, playing baseball and having, just playing, plain fun.\",\"I, I would have liked to learn all those things, but it is a very stressful life and I do not know, I think I enjoyed what I did better. And in those days anyway, there was a lot of different things that we did with our children and they learned all kinds of things. They, I had them Involved in traveling and all kinds of things and camping and just doing all kinds of things, going to the beach.\",\"Anyway, what happened was they knew during depression that lot of people were wandering around because they had, things were so bad, there were not any jobs. It was really horrible and people were starving. So what they did is they set up camp and then they would go into the little town with the, the trains would stop, and this was after the hobos.\",\"Read or write or anything to fill the cracks in the day. And it is really been fun. I have gotten to know a lady from church that likes to knit also, we have been sharing different patterns and different things and having a lot of laughter. It is been fun. So I think it is very, it is tranquilizing. You do not have to take tranquilizers or all kinds of pills when you do hand work because your mind just escapes the everyday life, the everyday world.\",\"But I was only, I had a sister. When I was nine years old, my mother had a little girl, my sister, and when she was three years old and I was 12 years old, I knit her a sweater, a little red sweater. I will never forget it, and I am so proud of that in my own heart. So I think the things we can create are just very, very important. Yes. \",\"They maybe still call hobos, but they would take them off the train and they would say, come on, we are going to take you the camp and we are going to get, we are going to feed you and we are going to give you some clean clothes. New clothes. So they take them out to the camps and they let them have a shower. They, shave them. And one time I heard a recording similar to the one I am making here about, and a man was telling about he was the one that was rescued from one of these situations where he was hungry, so hungry, they did not know what he was going to do.\",\"Well, I am working very hard on not going to a facility. My husband and, I want to stay our home, and I think you  have to keep. Like thinking forward. You have to think forward and think happy thoughts and do things together with people, do things together. I like to write letters.\",\"Hmm. Good telephones. I think the telephone systems are horrible now, and then having all those brutal phone calls come through all the time. It is disgusting. I think a lot of their people that are in Congress do not know what to do about these kind of things, and so they just ignore them. And we got to to say, we have to suffer by having these bad phone calls come in and interrupt our day so many times.\",\"Well, I think that the last four years have been such a disaster that I think we are going to all work together for the future in a happier mode and get things done. Just simple things. Basically, people need jobs and they need to be cared about, and we, the bottom line is we have to care about each other. We cannot judge people. We have to work with them and try to bring out the best. People have a lot of good characteristics and we have to bring it out and help them get educated, but also help the good jobs. And I think it is going to happen. I really do. Because I think we are going to have a wonderful administration and a lot of people working for positive results. \",\"He started riding the rails and he told me that he had ridden, at that time there were 48 states and he told me that he had been in 46 in the 48 states, and they would ride the rails and then when a freight train would stop, it was freight cars. When a freight train would stop, they would all get out, whoever was on the train, get out, they would find a tree or someplace they could get out of the shade, get in the shade.\",\"Well, actually, I somehow learned how important it was to listen to your gut or your spirit, whatever you want to call it, because there is some sort of a little situation inside your Body that your mind or your spirit that tells you what to do if you, if you tune into it.\",\"That is right. One was called the wpa, and even today, if you are driving along Country Roads, you will see, where is there is a little bridge You will see wpa. A lot of people do not know what that means but they are still around. All the things that they did. Now a lot of it needs to be redone because over time things do disintegrate.\",\"And if you do not follow that, it usually you have fallen a in a ditch along the way. You really need to listen to your spirit. Your spirit guides you beautifully, beautifully. And what happened to me when all my children got to school, I wanted to have a little job. . So I had a friend that worked for adult education here in Santa Clara Valley, and she told me how I could get a job as an aide.\",\"So I got a job as an aide with another teacher for $5 an hour and was not a lot of money, but it was quite a while ago and it was fun. So I did that two or three mornings a week, but I decided that I did not want to work with this teacher anymore. I listened to my gut. And I did not have to work, so I thought, why should I do something that I do not want to be doing with a person I do not want to be doing it with?\",\"I ended up teaching. I ended up teaching in a woman's jail for six years. I later ended up teaching seniors for six years and helping one of my sons go to college. But it really, if I could give one, one advice to everybody is listen to your gut or your spirit, whatever you want to call it. That is my message and it really changed my life.\",\"But I had, I wanted a big family because I was born in a family that was not big and I was bored. And my father, I do not know if you know what a hobo is. A hobo is somebody who rides the rails, rides the rails, and my father had a lot of adventures before the first World War. He was born in eighteen eighty nine, two years before the turn of Century, and so about probably about 1915.\",\"What was the biggest milestone? Mm-hmm. . I do not know. Let me think about that. Well, you know, a lot of the milestones are not milestones at the time. You do not think of it that way. And I think if your attitude is positive and open, I do not think the milestones look like milestones. You look back on them and they are milestones for, for sure.\",\"Yep. I had it happen to me one day and I fell for it till I woken and I turned it around, but it could happen to anybody. It is amazing how they con you. So anyway, you have to really be on your toes and realize that certain governmental offices, like the irs, et cetera, they will not call you on the phone if they want to get hold of you. They do it by mail. \",\"Yes. Yes. Yes. And right now I understand, you know, there is a huge amount of people that are trying to call you up and scare you, and they tell you that the IRS wants to get, is going to get you in different things and they are, they are just doing all kinds of terrible, stealing money from people and just doing all sorts of evil things to kind people who are at home and who are not ready for being hacked and being tripped very bad.\",\"Well, I think that we are getting more open to changes in ideas, and I think that people, for instance, people who are gay or people who have different kinds of other things going on. We are, we do not judge them as like we did years ago, and I think that is very, very positive because I think whoever we are, that is who we are and we need to be all respected as God made us all certain ways and we have to just go, as they say, go of the flow. There is a lot of wonderful people, this world that are not just exactly like each other. We are all a little different.\",\"There is so many lonely people that lately I have been writing postcards to people telling them, pass them on to somebody else. You know, fun. Make plans. I hope someday I can still go to Yellowstone. I have not seen Yellowstone. I have seen a lot of the world, but not Yellowstone, but just you just have, have thoughts that are positive.\",\"And I would have taken airplane flights, but they were not available when I was that age. I was, I was born 1930, so just before the second World War started. In 1941 when Pearl Harbor was attacked, I was only 10 and it was, uh, that was really a change. Oh my goodness. Oh my goodness. It was a big change. There was so much, so much propaganda making us hate the Japanese for attacking Pearl Harbor.\",\"And so they, they traveled. They were not afraid of their world. It was my intention that my children would all be not afraid of the world. My father taught me not to be afraid of the world and enjoy it. And that is what I try to impart with our children.\",\"We had so much. It was, it was a delight. And after my husband and I got married, we took, we took that playhouse apart and took it over to where we had our first tract home in 1950 and we put it up and so our children were able to enjoy that playhouse also. So I think getting, having time to grow up and be kids is very, very important. Very, very important. We really have to work hard on letting children be children.\",\"Whatever, and then they would share their food and then sometimes they would go into town and try to see if they get rake leaves or do some work for people, make a meal. And so they could get a meal or something from the P, the homeowners, but they were not, they were good people. They were just, As we say, we are just moving around and enjoying things, and sometimes when things got real tough in depression later, some people would leave home just because it would make it easier on the parents to feed the younger children.\"],\"marker\":{\"opacity\":0.5,\"size\":5},\"mode\":\"markers+text\",\"name\":\"0_things_think_people\",\"text\":[\"\",\"\",\"\",\"\",\"\",\"\",\"\",\"\",\"\",\"\",\"\",\"\",\"\",\"\",\"\",\"\",\"\",\"\",\"\",\"\",\"\",\"\",\"\",\"\",\"\",\"\",\"\",\"\",\"\",\"\",\"\",\"\",\"\",\"\",\"\",\"\",\"\",\"\",\"\",\"\",\"\"],\"textfont\":{\"size\":12},\"x\":[9.64113712310791,11.703838348388672,9.553549766540527,9.679651260375977,9.887755393981934,9.374741554260254,6.71289587020874,9.931665420532227,10.613945007324219,9.159128189086914,8.522628784179688,11.34731388092041,11.643078804016113,9.066082954406738,9.020074844360352,6.37162446975708,9.816641807556152,9.717916488647461,6.878302097320557,6.271653175354004,8.852725982666016,7.276939868927002,6.972226619720459,11.52140998840332,11.08840560913086,6.9551286697387695,10.413695335388184,11.271819114685059,10.183904647827148,9.601487159729004,9.974996566772461,7.280813217163086,9.20273494720459,11.933167457580566,11.809260368347168,11.14419174194336,6.766495227813721,7.370189666748047,10.742342948913574,8.93443775177002,7.180675983428955],\"y\":[9.196112632751465,7.495039463043213,10.051929473876953,10.193085670471191,8.158478736877441,8.717556953430176,10.278882026672363,10.653221130371094,10.099298477172852,8.271831512451172,8.575016021728516,8.720770835876465,8.404960632324219,10.493589401245117,9.42398452758789,5.8324103355407715,8.075411796569824,9.225500106811523,10.244017601013184,5.789151668548584,8.872875213623047,10.123719215393066,6.254181385040283,7.313390731811523,8.214147567749023,9.766520500183105,10.273881912231445,7.181674480438232,10.52036190032959,10.849128723144531,10.431105613708496,10.011835098266602,8.865198135375977,7.786020755767822,7.911938667297363,8.289878845214844,6.094094753265381,9.318634033203125,9.009499549865723,8.572121620178223,10.271711349487305],\"type\":\"scattergl\"},{\"hoverinfo\":\"text\",\"hovertext\":[\"That is an interesting question. I. That is interesting. I, I took a train trip I remember from San Jose to Los Angeles when I was 10, just before Pearl Harbor that year, and that was very exciting.\",\"Every, so many people I talked to were making sourdough bread. In fact, a couple came over yesterday and brought me some of the couple slices of her bread. Oh, is it delicious. So it is, it takes a lot of energy to make sourdough, cuz you have to time it. Boy was delicious. So making, making food is fun. \",\"We had enough, but we, it was ration and sugar, things like that. But the men who were fighting the war, they were given all kinds of meat that make them be more aggressive. So when they got back from the war, there were a lot of jobs. And they had plenty of money and they wanted meat, meat, meat. And that is when the big meat obsession started in America.\",\"It was really a bad time as far as, you know, turning on hate onto each. It was bad, but a good thing happened in our downtown San Jose. About that time, I do not know exactly what it was, there was a, a group of Chinese people that lived down there. And anyway, some of the Europeans came in one night and burned them all out, and it was a terrible shock. And also a German man gave the Chinese people a few acres to start a new community. Just a few, a few miles away. Which was incredibly wonderful. And after a while there was a lot of Chinese people there and then slowly they kind of moved in different places in San Jose. And so after the second World War, the Japanese people settled in the same area mostly.\",\"Polenta and lots of pastas and salads. Lots of fun things. Yeah, that sounds good. Yep. My husband's 95 and he still has his hair, I said, thank me I did not feed you stuff that make your hair fall out. \",\"I love tapioca, pudding. It is really good. I like it. Yeah, good for you too. You know, tapioca is from a root, and it was in Asia, I think, and you could not get it much during the second World War. So what was the other question? \",\"Oh, I never even, oh, I thought for sure. I was born in 1930 and I used to think about Uh, the turn of the century and I thought I was 70 years old. Oh my goodness. No, I will be dead by then. So being alive now at 90 is a big shock, but luckily I am in pretty good shape. You get tired. That is the one only thing about being 90. You do get tired, but just try to eat a lot of vegetables and fruit and grains and stay away from the meat, that is my advice. \",\"Hmm. Legal. I have to think about that one for a while.When you have cities that are, that are not, uh, overpopulated, people get along better than they do. They, they have made tests with, uh, with animals and they have found that there is a lot more aggression when you have too many people, or in that case, animals taking over a certain amount of space. So by living in Santa Clara and also going to Santa Jose of high school, we were not, uh, overcrowded.\",\"The thing is that during the second world, The people who created food, they started planage and they had a big plan when the war was over. They had all these things that they made, which they called food and it put it in boxes, but it really was not food anymore. But people got conned and people started getting, what happened was during the war, We had rationing as far as meat.\",\"So then it became Japan-town. So even today in San Jose, we have a wonderful Japan town and so I love to take people there cuz it is like, it is like going to San Francisco, but we do not have to drive 50 miles away. So I love if you ever come to San Jose, go to Japan Town and have lunch or dinner. It is really fun.\",\"First of all, I still have a strong voice at the age of 90, so a lot of people on the phone do not think I am 90, but this year I am 90 and I have lived in Santa Clara Valley, which is now called Silicon Valley, oh, most of my life. It is a wonderful place to live. Wonderful weather. Close to the ocean. So that is where I grew up and it was a, I grew up in a town of Santa Clara, which was right next to San Jose, and it was a town of 5,000 people at the time. Very low key, very nice place to grow up. It was able to ride my bicycle all over the place. Had a lot of freedom. So that is me.\",\"We live in a valley that had lots and lots of wonderful fruit. Apricots, pears, plumbs prunes. So everybody was kind of involved with the fruit industry. It is a wonderful place to grow up. \",\"Uh, have, repeat that question. Oh, comfort food. Yes. A comfort food. Well, you know what? I love tapioca pudding and I have not made it for a long time. And, and you put later on, at the end of it, you fold in the egg whites and so it is kindy, it is wonderful. \",\"And that is why now we have so many sick people because of they, they are so unbalanced and they are the way they eat. There is a lot of information out now about how to eat. And you can find it if you look for it. Because it is, it is getting stronger and stronger. Because we have to get well, we have to take care of ourselves. So I am actually now a vegetarian and I really enjoy all kinds of good things\",\"Well, like I said, I think it is fun to garden. I think it is fun sometimes in the year that too, you can walk and enjoy. Enjoy the scenery. We have lots of beautiful flowers here in California and I think it is wonderful to cook and bake right now during this virus we are having, having. \",\"He said. He said, I will never forget that day in my life when they took us to the camp and we showered and we got clean clothes and I had the most wonderful breakfast. I had all the bacon and eggs and toast and coffee I ever wanted. He said it changed my whole life. So Franklin Roosevelt set up this conservation  corp and\",\"My wedding, well, we were married pretty close after the second World War, uh, it stopped. So things were, there was not a lot of. bridal Things and things to buy first. Because when you have a war, then changing the transition, it is almost like an earthquake. I mean, it takes a long time to ever have everything settled down. So anyway, we were Catholic and we, they started having, they called nuptual masses, which meant it was a mass in which, which a celebration during which you were married.\",\"So I am actually now a vegetarian and I really enjoy all kinds of good things That is right. That is right. Oh, I love polenta. I have a wonderful recipe for polenta. I think it is fun to find, I call them peasant recipes. It is what the peasants used to eat real simple food like soups and\"],\"marker\":{\"opacity\":0.5,\"size\":5},\"mode\":\"markers+text\",\"name\":\"1_people_food_wonderful\",\"text\":[\"\",\"\",\"\",\"\",\"\",\"\",\"\",\"\",\"\",\"\",\"\",\"\",\"\",\"\",\"\",\"\",\"\",\"\"],\"textfont\":{\"size\":12},\"x\":[7.066039562225342,5.9808220863342285,4.41256046295166,5.92881965637207,5.049975872039795,5.202694892883301,5.735848426818848,5.6494646072387695,4.375922203063965,5.976116180419922,5.762506008148193,5.900658130645752,5.298238754272461,4.652745246887207,6.160470485687256,4.066739082336426,8.071762084960938,4.877893447875977],\"y\":[9.200827598571777,5.872237205505371,5.493097305297852,8.711371421813965,6.41648006439209,5.863630771636963,7.041451454162598,8.46221923828125,5.44924259185791,8.236677169799805,8.007661819458008,7.754341125488281,5.920653343200684,5.6875152587890625,6.207883834838867,5.127527713775635,9.146794319152832,6.056689262390137],\"type\":\"scattergl\"}],                        {\"template\":{\"data\":{\"barpolar\":[{\"marker\":{\"line\":{\"color\":\"white\",\"width\":0.5},\"pattern\":{\"fillmode\":\"overlay\",\"size\":10,\"solidity\":0.2}},\"type\":\"barpolar\"}],\"bar\":[{\"error_x\":{\"color\":\"rgb(36,36,36)\"},\"error_y\":{\"color\":\"rgb(36,36,36)\"},\"marker\":{\"line\":{\"color\":\"white\",\"width\":0.5},\"pattern\":{\"fillmode\":\"overlay\",\"size\":10,\"solidity\":0.2}},\"type\":\"bar\"}],\"carpet\":[{\"aaxis\":{\"endlinecolor\":\"rgb(36,36,36)\",\"gridcolor\":\"white\",\"linecolor\":\"white\",\"minorgridcolor\":\"white\",\"startlinecolor\":\"rgb(36,36,36)\"},\"baxis\":{\"endlinecolor\":\"rgb(36,36,36)\",\"gridcolor\":\"white\",\"linecolor\":\"white\",\"minorgridcolor\":\"white\",\"startlinecolor\":\"rgb(36,36,36)\"},\"type\":\"carpet\"}],\"choropleth\":[{\"colorbar\":{\"outlinewidth\":1,\"tickcolor\":\"rgb(36,36,36)\",\"ticks\":\"outside\"},\"type\":\"choropleth\"}],\"contourcarpet\":[{\"colorbar\":{\"outlinewidth\":1,\"tickcolor\":\"rgb(36,36,36)\",\"ticks\":\"outside\"},\"type\":\"contourcarpet\"}],\"contour\":[{\"colorbar\":{\"outlinewidth\":1,\"tickcolor\":\"rgb(36,36,36)\",\"ticks\":\"outside\"},\"colorscale\":[[0.0,\"#440154\"],[0.1111111111111111,\"#482878\"],[0.2222222222222222,\"#3e4989\"],[0.3333333333333333,\"#31688e\"],[0.4444444444444444,\"#26828e\"],[0.5555555555555556,\"#1f9e89\"],[0.6666666666666666,\"#35b779\"],[0.7777777777777778,\"#6ece58\"],[0.8888888888888888,\"#b5de2b\"],[1.0,\"#fde725\"]],\"type\":\"contour\"}],\"heatmapgl\":[{\"colorbar\":{\"outlinewidth\":1,\"tickcolor\":\"rgb(36,36,36)\",\"ticks\":\"outside\"},\"colorscale\":[[0.0,\"#440154\"],[0.1111111111111111,\"#482878\"],[0.2222222222222222,\"#3e4989\"],[0.3333333333333333,\"#31688e\"],[0.4444444444444444,\"#26828e\"],[0.5555555555555556,\"#1f9e89\"],[0.6666666666666666,\"#35b779\"],[0.7777777777777778,\"#6ece58\"],[0.8888888888888888,\"#b5de2b\"],[1.0,\"#fde725\"]],\"type\":\"heatmapgl\"}],\"heatmap\":[{\"colorbar\":{\"outlinewidth\":1,\"tickcolor\":\"rgb(36,36,36)\",\"ticks\":\"outside\"},\"colorscale\":[[0.0,\"#440154\"],[0.1111111111111111,\"#482878\"],[0.2222222222222222,\"#3e4989\"],[0.3333333333333333,\"#31688e\"],[0.4444444444444444,\"#26828e\"],[0.5555555555555556,\"#1f9e89\"],[0.6666666666666666,\"#35b779\"],[0.7777777777777778,\"#6ece58\"],[0.8888888888888888,\"#b5de2b\"],[1.0,\"#fde725\"]],\"type\":\"heatmap\"}],\"histogram2dcontour\":[{\"colorbar\":{\"outlinewidth\":1,\"tickcolor\":\"rgb(36,36,36)\",\"ticks\":\"outside\"},\"colorscale\":[[0.0,\"#440154\"],[0.1111111111111111,\"#482878\"],[0.2222222222222222,\"#3e4989\"],[0.3333333333333333,\"#31688e\"],[0.4444444444444444,\"#26828e\"],[0.5555555555555556,\"#1f9e89\"],[0.6666666666666666,\"#35b779\"],[0.7777777777777778,\"#6ece58\"],[0.8888888888888888,\"#b5de2b\"],[1.0,\"#fde725\"]],\"type\":\"histogram2dcontour\"}],\"histogram2d\":[{\"colorbar\":{\"outlinewidth\":1,\"tickcolor\":\"rgb(36,36,36)\",\"ticks\":\"outside\"},\"colorscale\":[[0.0,\"#440154\"],[0.1111111111111111,\"#482878\"],[0.2222222222222222,\"#3e4989\"],[0.3333333333333333,\"#31688e\"],[0.4444444444444444,\"#26828e\"],[0.5555555555555556,\"#1f9e89\"],[0.6666666666666666,\"#35b779\"],[0.7777777777777778,\"#6ece58\"],[0.8888888888888888,\"#b5de2b\"],[1.0,\"#fde725\"]],\"type\":\"histogram2d\"}],\"histogram\":[{\"marker\":{\"line\":{\"color\":\"white\",\"width\":0.6}},\"type\":\"histogram\"}],\"mesh3d\":[{\"colorbar\":{\"outlinewidth\":1,\"tickcolor\":\"rgb(36,36,36)\",\"ticks\":\"outside\"},\"type\":\"mesh3d\"}],\"parcoords\":[{\"line\":{\"colorbar\":{\"outlinewidth\":1,\"tickcolor\":\"rgb(36,36,36)\",\"ticks\":\"outside\"}},\"type\":\"parcoords\"}],\"pie\":[{\"automargin\":true,\"type\":\"pie\"}],\"scatter3d\":[{\"line\":{\"colorbar\":{\"outlinewidth\":1,\"tickcolor\":\"rgb(36,36,36)\",\"ticks\":\"outside\"}},\"marker\":{\"colorbar\":{\"outlinewidth\":1,\"tickcolor\":\"rgb(36,36,36)\",\"ticks\":\"outside\"}},\"type\":\"scatter3d\"}],\"scattercarpet\":[{\"marker\":{\"colorbar\":{\"outlinewidth\":1,\"tickcolor\":\"rgb(36,36,36)\",\"ticks\":\"outside\"}},\"type\":\"scattercarpet\"}],\"scattergeo\":[{\"marker\":{\"colorbar\":{\"outlinewidth\":1,\"tickcolor\":\"rgb(36,36,36)\",\"ticks\":\"outside\"}},\"type\":\"scattergeo\"}],\"scattergl\":[{\"marker\":{\"colorbar\":{\"outlinewidth\":1,\"tickcolor\":\"rgb(36,36,36)\",\"ticks\":\"outside\"}},\"type\":\"scattergl\"}],\"scattermapbox\":[{\"marker\":{\"colorbar\":{\"outlinewidth\":1,\"tickcolor\":\"rgb(36,36,36)\",\"ticks\":\"outside\"}},\"type\":\"scattermapbox\"}],\"scatterpolargl\":[{\"marker\":{\"colorbar\":{\"outlinewidth\":1,\"tickcolor\":\"rgb(36,36,36)\",\"ticks\":\"outside\"}},\"type\":\"scatterpolargl\"}],\"scatterpolar\":[{\"marker\":{\"colorbar\":{\"outlinewidth\":1,\"tickcolor\":\"rgb(36,36,36)\",\"ticks\":\"outside\"}},\"type\":\"scatterpolar\"}],\"scatter\":[{\"fillpattern\":{\"fillmode\":\"overlay\",\"size\":10,\"solidity\":0.2},\"type\":\"scatter\"}],\"scatterternary\":[{\"marker\":{\"colorbar\":{\"outlinewidth\":1,\"tickcolor\":\"rgb(36,36,36)\",\"ticks\":\"outside\"}},\"type\":\"scatterternary\"}],\"surface\":[{\"colorbar\":{\"outlinewidth\":1,\"tickcolor\":\"rgb(36,36,36)\",\"ticks\":\"outside\"},\"colorscale\":[[0.0,\"#440154\"],[0.1111111111111111,\"#482878\"],[0.2222222222222222,\"#3e4989\"],[0.3333333333333333,\"#31688e\"],[0.4444444444444444,\"#26828e\"],[0.5555555555555556,\"#1f9e89\"],[0.6666666666666666,\"#35b779\"],[0.7777777777777778,\"#6ece58\"],[0.8888888888888888,\"#b5de2b\"],[1.0,\"#fde725\"]],\"type\":\"surface\"}],\"table\":[{\"cells\":{\"fill\":{\"color\":\"rgb(237,237,237)\"},\"line\":{\"color\":\"white\"}},\"header\":{\"fill\":{\"color\":\"rgb(217,217,217)\"},\"line\":{\"color\":\"white\"}},\"type\":\"table\"}]},\"layout\":{\"annotationdefaults\":{\"arrowhead\":0,\"arrowwidth\":1},\"autotypenumbers\":\"strict\",\"coloraxis\":{\"colorbar\":{\"outlinewidth\":1,\"tickcolor\":\"rgb(36,36,36)\",\"ticks\":\"outside\"}},\"colorscale\":{\"diverging\":[[0.0,\"rgb(103,0,31)\"],[0.1,\"rgb(178,24,43)\"],[0.2,\"rgb(214,96,77)\"],[0.3,\"rgb(244,165,130)\"],[0.4,\"rgb(253,219,199)\"],[0.5,\"rgb(247,247,247)\"],[0.6,\"rgb(209,229,240)\"],[0.7,\"rgb(146,197,222)\"],[0.8,\"rgb(67,147,195)\"],[0.9,\"rgb(33,102,172)\"],[1.0,\"rgb(5,48,97)\"]],\"sequential\":[[0.0,\"#440154\"],[0.1111111111111111,\"#482878\"],[0.2222222222222222,\"#3e4989\"],[0.3333333333333333,\"#31688e\"],[0.4444444444444444,\"#26828e\"],[0.5555555555555556,\"#1f9e89\"],[0.6666666666666666,\"#35b779\"],[0.7777777777777778,\"#6ece58\"],[0.8888888888888888,\"#b5de2b\"],[1.0,\"#fde725\"]],\"sequentialminus\":[[0.0,\"#440154\"],[0.1111111111111111,\"#482878\"],[0.2222222222222222,\"#3e4989\"],[0.3333333333333333,\"#31688e\"],[0.4444444444444444,\"#26828e\"],[0.5555555555555556,\"#1f9e89\"],[0.6666666666666666,\"#35b779\"],[0.7777777777777778,\"#6ece58\"],[0.8888888888888888,\"#b5de2b\"],[1.0,\"#fde725\"]]},\"colorway\":[\"#1F77B4\",\"#FF7F0E\",\"#2CA02C\",\"#D62728\",\"#9467BD\",\"#8C564B\",\"#E377C2\",\"#7F7F7F\",\"#BCBD22\",\"#17BECF\"],\"font\":{\"color\":\"rgb(36,36,36)\"},\"geo\":{\"bgcolor\":\"white\",\"lakecolor\":\"white\",\"landcolor\":\"white\",\"showlakes\":true,\"showland\":true,\"subunitcolor\":\"white\"},\"hoverlabel\":{\"align\":\"left\"},\"hovermode\":\"closest\",\"mapbox\":{\"style\":\"light\"},\"paper_bgcolor\":\"white\",\"plot_bgcolor\":\"white\",\"polar\":{\"angularaxis\":{\"gridcolor\":\"rgb(232,232,232)\",\"linecolor\":\"rgb(36,36,36)\",\"showgrid\":false,\"showline\":true,\"ticks\":\"outside\"},\"bgcolor\":\"white\",\"radialaxis\":{\"gridcolor\":\"rgb(232,232,232)\",\"linecolor\":\"rgb(36,36,36)\",\"showgrid\":false,\"showline\":true,\"ticks\":\"outside\"}},\"scene\":{\"xaxis\":{\"backgroundcolor\":\"white\",\"gridcolor\":\"rgb(232,232,232)\",\"gridwidth\":2,\"linecolor\":\"rgb(36,36,36)\",\"showbackground\":true,\"showgrid\":false,\"showline\":true,\"ticks\":\"outside\",\"zeroline\":false,\"zerolinecolor\":\"rgb(36,36,36)\"},\"yaxis\":{\"backgroundcolor\":\"white\",\"gridcolor\":\"rgb(232,232,232)\",\"gridwidth\":2,\"linecolor\":\"rgb(36,36,36)\",\"showbackground\":true,\"showgrid\":false,\"showline\":true,\"ticks\":\"outside\",\"zeroline\":false,\"zerolinecolor\":\"rgb(36,36,36)\"},\"zaxis\":{\"backgroundcolor\":\"white\",\"gridcolor\":\"rgb(232,232,232)\",\"gridwidth\":2,\"linecolor\":\"rgb(36,36,36)\",\"showbackground\":true,\"showgrid\":false,\"showline\":true,\"ticks\":\"outside\",\"zeroline\":false,\"zerolinecolor\":\"rgb(36,36,36)\"}},\"shapedefaults\":{\"fillcolor\":\"black\",\"line\":{\"width\":0},\"opacity\":0.3},\"ternary\":{\"aaxis\":{\"gridcolor\":\"rgb(232,232,232)\",\"linecolor\":\"rgb(36,36,36)\",\"showgrid\":false,\"showline\":true,\"ticks\":\"outside\"},\"baxis\":{\"gridcolor\":\"rgb(232,232,232)\",\"linecolor\":\"rgb(36,36,36)\",\"showgrid\":false,\"showline\":true,\"ticks\":\"outside\"},\"bgcolor\":\"white\",\"caxis\":{\"gridcolor\":\"rgb(232,232,232)\",\"linecolor\":\"rgb(36,36,36)\",\"showgrid\":false,\"showline\":true,\"ticks\":\"outside\"}},\"title\":{\"x\":0.05},\"xaxis\":{\"automargin\":true,\"gridcolor\":\"rgb(232,232,232)\",\"linecolor\":\"rgb(36,36,36)\",\"showgrid\":false,\"showline\":true,\"ticks\":\"outside\",\"title\":{\"standoff\":15},\"zeroline\":false,\"zerolinecolor\":\"rgb(36,36,36)\"},\"yaxis\":{\"automargin\":true,\"gridcolor\":\"rgb(232,232,232)\",\"linecolor\":\"rgb(36,36,36)\",\"showgrid\":false,\"showline\":true,\"ticks\":\"outside\",\"title\":{\"standoff\":15},\"zeroline\":false,\"zerolinecolor\":\"rgb(36,36,36)\"}}},\"shapes\":[{\"line\":{\"color\":\"#CFD8DC\",\"width\":2},\"type\":\"line\",\"x0\":8.493520992994307,\"x1\":8.493520992994307,\"y0\":4.038827800750733,\"y1\":12.476498031616211},{\"line\":{\"color\":\"#9E9E9E\",\"width\":2},\"type\":\"line\",\"x0\":3.2638994097709655,\"x1\":13.72314257621765,\"y0\":8.257662916183472,\"y1\":8.257662916183472}],\"annotations\":[{\"showarrow\":false,\"text\":\"D1\",\"x\":3.2638994097709655,\"y\":8.257662916183472,\"yshift\":10},{\"showarrow\":false,\"text\":\"D2\",\"x\":8.493520992994307,\"xshift\":10,\"y\":12.476498031616211}],\"title\":{\"font\":{\"size\":22,\"color\":\"Black\"},\"text\":\"<b>Documents and Topics</b>\",\"x\":0.5,\"xanchor\":\"center\",\"yanchor\":\"top\"},\"width\":1200,\"height\":750,\"xaxis\":{\"visible\":false},\"yaxis\":{\"visible\":false}},                        {\"responsive\": true}                    ).then(function(){\n                            \nvar gd = document.getElementById('e305353c-5ff6-4e33-b44e-ca0aef651f20');\nvar x = new MutationObserver(function (mutations, observer) {{\n        var display = window.getComputedStyle(gd).display;\n        if (!display || display === 'none') {{\n            console.log([gd, 'removed!']);\n            Plotly.purge(gd);\n            observer.disconnect();\n        }}\n}});\n\n// Listen for the removal of the full notebook cells\nvar notebookContainer = gd.closest('#notebook-container');\nif (notebookContainer) {{\n    x.observe(notebookContainer, {childList: true});\n}}\n\n// Listen for the clearing of the current output cell\nvar outputEl = gd.closest('.output');\nif (outputEl) {{\n    x.observe(outputEl, {childList: true});\n}}\n\n                        })                };                });            </script>        </div>"
     },
     "metadata": {},
     "output_type": "display_data"
    }
   ],
   "source": [
    "seed_topics = [[\"spouse\", \"marriage\", \"children\"],\n",
    "               [\"food\", \"gardening\", \"outdoors\"],\n",
    "               [\"travel\", \"food\", \"freedom\"]]\n",
    "\n",
    "topic_model = BERTopic(umap_model=umap_model,\n",
    "                       hdbscan_model=hdbscan_model,\n",
    "                       vectorizer_model=cv_model,\n",
    "                       ctfidf_model=ctfidf_model,\n",
    "                       seed_topic_list=seed_topics,\n",
    "                       calculate_probabilities=True)\n",
    "\n",
    "topic, probs = topic_model.fit_transform(docs)\n",
    "\n",
    "topic_model.visualize_documents(docs, reduced_embeddings=reduced_embeddings, hide_annotations=True)"
   ],
   "metadata": {
    "collapsed": false,
    "ExecuteTime": {
     "start_time": "2023-05-25T08:43:53.337852Z",
     "end_time": "2023-05-25T08:43:54.754218Z"
    }
   }
  },
  {
   "cell_type": "code",
   "execution_count": 9,
   "outputs": [
    {
     "data": {
      "application/vnd.plotly.v1+json": {
       "data": [
        {
         "marker": {
          "color": "#D55E00"
         },
         "orientation": "h",
         "x": [
          0.04023616044341275,
          0.046528389887815144,
          0.047566915360137345,
          0.04828339253209531,
          0.05040089570336968,
          0.05661208044912863,
          0.06369631383764957,
          0.0673018847555512,
          0.07194699003775096,
          0.07754600492309328
         ],
         "y": [
          "want  ",
          "did  ",
          "going  ",
          "children  ",
          "lot  ",
          "know  ",
          "just  ",
          "people  ",
          "think  ",
          "things  "
         ],
         "type": "bar",
         "xaxis": "x",
         "yaxis": "y"
        },
        {
         "marker": {
          "color": "#0072B2"
         },
         "orientation": "h",
         "x": [
          0.0507871664743509,
          0.05311479008739728,
          0.05522789145241841,
          0.05996236744956645,
          0.05996236744956645,
          0.05996236744956645,
          0.06036341755802305,
          0.06497547165019417,
          0.06982460673538027,
          0.07092583239623472
         ],
         "y": [
          "good  ",
          "lot  ",
          "oh  ",
          "san  ",
          "jose  ",
          "meat  ",
          "war  ",
          "wonderful  ",
          "food  ",
          "people  "
         ],
         "type": "bar",
         "xaxis": "x2",
         "yaxis": "y2"
        }
       ],
       "layout": {
        "template": {
         "data": {
          "barpolar": [
           {
            "marker": {
             "line": {
              "color": "white",
              "width": 0.5
             },
             "pattern": {
              "fillmode": "overlay",
              "size": 10,
              "solidity": 0.2
             }
            },
            "type": "barpolar"
           }
          ],
          "bar": [
           {
            "error_x": {
             "color": "#2a3f5f"
            },
            "error_y": {
             "color": "#2a3f5f"
            },
            "marker": {
             "line": {
              "color": "white",
              "width": 0.5
             },
             "pattern": {
              "fillmode": "overlay",
              "size": 10,
              "solidity": 0.2
             }
            },
            "type": "bar"
           }
          ],
          "carpet": [
           {
            "aaxis": {
             "endlinecolor": "#2a3f5f",
             "gridcolor": "#C8D4E3",
             "linecolor": "#C8D4E3",
             "minorgridcolor": "#C8D4E3",
             "startlinecolor": "#2a3f5f"
            },
            "baxis": {
             "endlinecolor": "#2a3f5f",
             "gridcolor": "#C8D4E3",
             "linecolor": "#C8D4E3",
             "minorgridcolor": "#C8D4E3",
             "startlinecolor": "#2a3f5f"
            },
            "type": "carpet"
           }
          ],
          "choropleth": [
           {
            "colorbar": {
             "outlinewidth": 0,
             "ticks": ""
            },
            "type": "choropleth"
           }
          ],
          "contourcarpet": [
           {
            "colorbar": {
             "outlinewidth": 0,
             "ticks": ""
            },
            "type": "contourcarpet"
           }
          ],
          "contour": [
           {
            "colorbar": {
             "outlinewidth": 0,
             "ticks": ""
            },
            "colorscale": [
             [
              0.0,
              "#0d0887"
             ],
             [
              0.1111111111111111,
              "#46039f"
             ],
             [
              0.2222222222222222,
              "#7201a8"
             ],
             [
              0.3333333333333333,
              "#9c179e"
             ],
             [
              0.4444444444444444,
              "#bd3786"
             ],
             [
              0.5555555555555556,
              "#d8576b"
             ],
             [
              0.6666666666666666,
              "#ed7953"
             ],
             [
              0.7777777777777778,
              "#fb9f3a"
             ],
             [
              0.8888888888888888,
              "#fdca26"
             ],
             [
              1.0,
              "#f0f921"
             ]
            ],
            "type": "contour"
           }
          ],
          "heatmapgl": [
           {
            "colorbar": {
             "outlinewidth": 0,
             "ticks": ""
            },
            "colorscale": [
             [
              0.0,
              "#0d0887"
             ],
             [
              0.1111111111111111,
              "#46039f"
             ],
             [
              0.2222222222222222,
              "#7201a8"
             ],
             [
              0.3333333333333333,
              "#9c179e"
             ],
             [
              0.4444444444444444,
              "#bd3786"
             ],
             [
              0.5555555555555556,
              "#d8576b"
             ],
             [
              0.6666666666666666,
              "#ed7953"
             ],
             [
              0.7777777777777778,
              "#fb9f3a"
             ],
             [
              0.8888888888888888,
              "#fdca26"
             ],
             [
              1.0,
              "#f0f921"
             ]
            ],
            "type": "heatmapgl"
           }
          ],
          "heatmap": [
           {
            "colorbar": {
             "outlinewidth": 0,
             "ticks": ""
            },
            "colorscale": [
             [
              0.0,
              "#0d0887"
             ],
             [
              0.1111111111111111,
              "#46039f"
             ],
             [
              0.2222222222222222,
              "#7201a8"
             ],
             [
              0.3333333333333333,
              "#9c179e"
             ],
             [
              0.4444444444444444,
              "#bd3786"
             ],
             [
              0.5555555555555556,
              "#d8576b"
             ],
             [
              0.6666666666666666,
              "#ed7953"
             ],
             [
              0.7777777777777778,
              "#fb9f3a"
             ],
             [
              0.8888888888888888,
              "#fdca26"
             ],
             [
              1.0,
              "#f0f921"
             ]
            ],
            "type": "heatmap"
           }
          ],
          "histogram2dcontour": [
           {
            "colorbar": {
             "outlinewidth": 0,
             "ticks": ""
            },
            "colorscale": [
             [
              0.0,
              "#0d0887"
             ],
             [
              0.1111111111111111,
              "#46039f"
             ],
             [
              0.2222222222222222,
              "#7201a8"
             ],
             [
              0.3333333333333333,
              "#9c179e"
             ],
             [
              0.4444444444444444,
              "#bd3786"
             ],
             [
              0.5555555555555556,
              "#d8576b"
             ],
             [
              0.6666666666666666,
              "#ed7953"
             ],
             [
              0.7777777777777778,
              "#fb9f3a"
             ],
             [
              0.8888888888888888,
              "#fdca26"
             ],
             [
              1.0,
              "#f0f921"
             ]
            ],
            "type": "histogram2dcontour"
           }
          ],
          "histogram2d": [
           {
            "colorbar": {
             "outlinewidth": 0,
             "ticks": ""
            },
            "colorscale": [
             [
              0.0,
              "#0d0887"
             ],
             [
              0.1111111111111111,
              "#46039f"
             ],
             [
              0.2222222222222222,
              "#7201a8"
             ],
             [
              0.3333333333333333,
              "#9c179e"
             ],
             [
              0.4444444444444444,
              "#bd3786"
             ],
             [
              0.5555555555555556,
              "#d8576b"
             ],
             [
              0.6666666666666666,
              "#ed7953"
             ],
             [
              0.7777777777777778,
              "#fb9f3a"
             ],
             [
              0.8888888888888888,
              "#fdca26"
             ],
             [
              1.0,
              "#f0f921"
             ]
            ],
            "type": "histogram2d"
           }
          ],
          "histogram": [
           {
            "marker": {
             "pattern": {
              "fillmode": "overlay",
              "size": 10,
              "solidity": 0.2
             }
            },
            "type": "histogram"
           }
          ],
          "mesh3d": [
           {
            "colorbar": {
             "outlinewidth": 0,
             "ticks": ""
            },
            "type": "mesh3d"
           }
          ],
          "parcoords": [
           {
            "line": {
             "colorbar": {
              "outlinewidth": 0,
              "ticks": ""
             }
            },
            "type": "parcoords"
           }
          ],
          "pie": [
           {
            "automargin": true,
            "type": "pie"
           }
          ],
          "scatter3d": [
           {
            "line": {
             "colorbar": {
              "outlinewidth": 0,
              "ticks": ""
             }
            },
            "marker": {
             "colorbar": {
              "outlinewidth": 0,
              "ticks": ""
             }
            },
            "type": "scatter3d"
           }
          ],
          "scattercarpet": [
           {
            "marker": {
             "colorbar": {
              "outlinewidth": 0,
              "ticks": ""
             }
            },
            "type": "scattercarpet"
           }
          ],
          "scattergeo": [
           {
            "marker": {
             "colorbar": {
              "outlinewidth": 0,
              "ticks": ""
             }
            },
            "type": "scattergeo"
           }
          ],
          "scattergl": [
           {
            "marker": {
             "colorbar": {
              "outlinewidth": 0,
              "ticks": ""
             }
            },
            "type": "scattergl"
           }
          ],
          "scattermapbox": [
           {
            "marker": {
             "colorbar": {
              "outlinewidth": 0,
              "ticks": ""
             }
            },
            "type": "scattermapbox"
           }
          ],
          "scatterpolargl": [
           {
            "marker": {
             "colorbar": {
              "outlinewidth": 0,
              "ticks": ""
             }
            },
            "type": "scatterpolargl"
           }
          ],
          "scatterpolar": [
           {
            "marker": {
             "colorbar": {
              "outlinewidth": 0,
              "ticks": ""
             }
            },
            "type": "scatterpolar"
           }
          ],
          "scatter": [
           {
            "fillpattern": {
             "fillmode": "overlay",
             "size": 10,
             "solidity": 0.2
            },
            "type": "scatter"
           }
          ],
          "scatterternary": [
           {
            "marker": {
             "colorbar": {
              "outlinewidth": 0,
              "ticks": ""
             }
            },
            "type": "scatterternary"
           }
          ],
          "surface": [
           {
            "colorbar": {
             "outlinewidth": 0,
             "ticks": ""
            },
            "colorscale": [
             [
              0.0,
              "#0d0887"
             ],
             [
              0.1111111111111111,
              "#46039f"
             ],
             [
              0.2222222222222222,
              "#7201a8"
             ],
             [
              0.3333333333333333,
              "#9c179e"
             ],
             [
              0.4444444444444444,
              "#bd3786"
             ],
             [
              0.5555555555555556,
              "#d8576b"
             ],
             [
              0.6666666666666666,
              "#ed7953"
             ],
             [
              0.7777777777777778,
              "#fb9f3a"
             ],
             [
              0.8888888888888888,
              "#fdca26"
             ],
             [
              1.0,
              "#f0f921"
             ]
            ],
            "type": "surface"
           }
          ],
          "table": [
           {
            "cells": {
             "fill": {
              "color": "#EBF0F8"
             },
             "line": {
              "color": "white"
             }
            },
            "header": {
             "fill": {
              "color": "#C8D4E3"
             },
             "line": {
              "color": "white"
             }
            },
            "type": "table"
           }
          ]
         },
         "layout": {
          "annotationdefaults": {
           "arrowcolor": "#2a3f5f",
           "arrowhead": 0,
           "arrowwidth": 1
          },
          "autotypenumbers": "strict",
          "coloraxis": {
           "colorbar": {
            "outlinewidth": 0,
            "ticks": ""
           }
          },
          "colorscale": {
           "diverging": [
            [
             0,
             "#8e0152"
            ],
            [
             0.1,
             "#c51b7d"
            ],
            [
             0.2,
             "#de77ae"
            ],
            [
             0.3,
             "#f1b6da"
            ],
            [
             0.4,
             "#fde0ef"
            ],
            [
             0.5,
             "#f7f7f7"
            ],
            [
             0.6,
             "#e6f5d0"
            ],
            [
             0.7,
             "#b8e186"
            ],
            [
             0.8,
             "#7fbc41"
            ],
            [
             0.9,
             "#4d9221"
            ],
            [
             1,
             "#276419"
            ]
           ],
           "sequential": [
            [
             0.0,
             "#0d0887"
            ],
            [
             0.1111111111111111,
             "#46039f"
            ],
            [
             0.2222222222222222,
             "#7201a8"
            ],
            [
             0.3333333333333333,
             "#9c179e"
            ],
            [
             0.4444444444444444,
             "#bd3786"
            ],
            [
             0.5555555555555556,
             "#d8576b"
            ],
            [
             0.6666666666666666,
             "#ed7953"
            ],
            [
             0.7777777777777778,
             "#fb9f3a"
            ],
            [
             0.8888888888888888,
             "#fdca26"
            ],
            [
             1.0,
             "#f0f921"
            ]
           ],
           "sequentialminus": [
            [
             0.0,
             "#0d0887"
            ],
            [
             0.1111111111111111,
             "#46039f"
            ],
            [
             0.2222222222222222,
             "#7201a8"
            ],
            [
             0.3333333333333333,
             "#9c179e"
            ],
            [
             0.4444444444444444,
             "#bd3786"
            ],
            [
             0.5555555555555556,
             "#d8576b"
            ],
            [
             0.6666666666666666,
             "#ed7953"
            ],
            [
             0.7777777777777778,
             "#fb9f3a"
            ],
            [
             0.8888888888888888,
             "#fdca26"
            ],
            [
             1.0,
             "#f0f921"
            ]
           ]
          },
          "colorway": [
           "#636efa",
           "#EF553B",
           "#00cc96",
           "#ab63fa",
           "#FFA15A",
           "#19d3f3",
           "#FF6692",
           "#B6E880",
           "#FF97FF",
           "#FECB52"
          ],
          "font": {
           "color": "#2a3f5f"
          },
          "geo": {
           "bgcolor": "white",
           "lakecolor": "white",
           "landcolor": "white",
           "showlakes": true,
           "showland": true,
           "subunitcolor": "#C8D4E3"
          },
          "hoverlabel": {
           "align": "left"
          },
          "hovermode": "closest",
          "mapbox": {
           "style": "light"
          },
          "paper_bgcolor": "white",
          "plot_bgcolor": "white",
          "polar": {
           "angularaxis": {
            "gridcolor": "#EBF0F8",
            "linecolor": "#EBF0F8",
            "ticks": ""
           },
           "bgcolor": "white",
           "radialaxis": {
            "gridcolor": "#EBF0F8",
            "linecolor": "#EBF0F8",
            "ticks": ""
           }
          },
          "scene": {
           "xaxis": {
            "backgroundcolor": "white",
            "gridcolor": "#DFE8F3",
            "gridwidth": 2,
            "linecolor": "#EBF0F8",
            "showbackground": true,
            "ticks": "",
            "zerolinecolor": "#EBF0F8"
           },
           "yaxis": {
            "backgroundcolor": "white",
            "gridcolor": "#DFE8F3",
            "gridwidth": 2,
            "linecolor": "#EBF0F8",
            "showbackground": true,
            "ticks": "",
            "zerolinecolor": "#EBF0F8"
           },
           "zaxis": {
            "backgroundcolor": "white",
            "gridcolor": "#DFE8F3",
            "gridwidth": 2,
            "linecolor": "#EBF0F8",
            "showbackground": true,
            "ticks": "",
            "zerolinecolor": "#EBF0F8"
           }
          },
          "shapedefaults": {
           "line": {
            "color": "#2a3f5f"
           }
          },
          "ternary": {
           "aaxis": {
            "gridcolor": "#DFE8F3",
            "linecolor": "#A2B1C6",
            "ticks": ""
           },
           "baxis": {
            "gridcolor": "#DFE8F3",
            "linecolor": "#A2B1C6",
            "ticks": ""
           },
           "bgcolor": "white",
           "caxis": {
            "gridcolor": "#DFE8F3",
            "linecolor": "#A2B1C6",
            "ticks": ""
           }
          },
          "title": {
           "x": 0.05
          },
          "xaxis": {
           "automargin": true,
           "gridcolor": "#EBF0F8",
           "linecolor": "#EBF0F8",
           "ticks": "",
           "title": {
            "standoff": 15
           },
           "zerolinecolor": "#EBF0F8",
           "zerolinewidth": 2
          },
          "yaxis": {
           "automargin": true,
           "gridcolor": "#EBF0F8",
           "linecolor": "#EBF0F8",
           "ticks": "",
           "title": {
            "standoff": 15
           },
           "zerolinecolor": "#EBF0F8",
           "zerolinewidth": 2
          }
         }
        },
        "xaxis": {
         "anchor": "y",
         "domain": [
          0.0,
          0.175
         ],
         "showgrid": true
        },
        "yaxis": {
         "anchor": "x",
         "domain": [
          0.0,
          1.0
         ],
         "showgrid": true
        },
        "xaxis2": {
         "anchor": "y2",
         "domain": [
          0.275,
          0.45
         ],
         "showgrid": true
        },
        "yaxis2": {
         "anchor": "x2",
         "domain": [
          0.0,
          1.0
         ],
         "showgrid": true
        },
        "xaxis3": {
         "anchor": "y3",
         "domain": [
          0.55,
          0.7250000000000001
         ],
         "showgrid": true
        },
        "yaxis3": {
         "anchor": "x3",
         "domain": [
          0.0,
          1.0
         ],
         "showgrid": true
        },
        "xaxis4": {
         "anchor": "y4",
         "domain": [
          0.825,
          1.0
         ],
         "showgrid": true
        },
        "yaxis4": {
         "anchor": "x4",
         "domain": [
          0.0,
          1.0
         ],
         "showgrid": true
        },
        "annotations": [
         {
          "font": {
           "size": 16
          },
          "showarrow": false,
          "text": "Topic 0",
          "x": 0.0875,
          "xanchor": "center",
          "xref": "paper",
          "y": 1.0,
          "yanchor": "bottom",
          "yref": "paper"
         },
         {
          "font": {
           "size": 16
          },
          "showarrow": false,
          "text": "Topic 1",
          "x": 0.36250000000000004,
          "xanchor": "center",
          "xref": "paper",
          "y": 1.0,
          "yanchor": "bottom",
          "yref": "paper"
         }
        ],
        "title": {
         "font": {
          "size": 22,
          "color": "Black"
         },
         "text": "Topic Word Scores",
         "x": 0.5,
         "xanchor": "center",
         "yanchor": "top"
        },
        "hoverlabel": {
         "font": {
          "size": 16,
          "family": "Rockwell"
         },
         "bgcolor": "white"
        },
        "showlegend": false,
        "width": 1300,
        "height": 390.0
       },
       "config": {
        "plotlyServerURL": "https://plot.ly"
       }
      },
      "text/html": "<div>                            <div id=\"e96b8b92-d91b-400c-a7a4-032eb456afd0\" class=\"plotly-graph-div\" style=\"height:390.0px; width:1300px;\"></div>            <script type=\"text/javascript\">                require([\"plotly\"], function(Plotly) {                    window.PLOTLYENV=window.PLOTLYENV || {};                                    if (document.getElementById(\"e96b8b92-d91b-400c-a7a4-032eb456afd0\")) {                    Plotly.newPlot(                        \"e96b8b92-d91b-400c-a7a4-032eb456afd0\",                        [{\"marker\":{\"color\":\"#D55E00\"},\"orientation\":\"h\",\"x\":[0.04023616044341275,0.046528389887815144,0.047566915360137345,0.04828339253209531,0.05040089570336968,0.05661208044912863,0.06369631383764957,0.0673018847555512,0.07194699003775096,0.07754600492309328],\"y\":[\"want  \",\"did  \",\"going  \",\"children  \",\"lot  \",\"know  \",\"just  \",\"people  \",\"think  \",\"things  \"],\"type\":\"bar\",\"xaxis\":\"x\",\"yaxis\":\"y\"},{\"marker\":{\"color\":\"#0072B2\"},\"orientation\":\"h\",\"x\":[0.0507871664743509,0.05311479008739728,0.05522789145241841,0.05996236744956645,0.05996236744956645,0.05996236744956645,0.06036341755802305,0.06497547165019417,0.06982460673538027,0.07092583239623472],\"y\":[\"good  \",\"lot  \",\"oh  \",\"san  \",\"jose  \",\"meat  \",\"war  \",\"wonderful  \",\"food  \",\"people  \"],\"type\":\"bar\",\"xaxis\":\"x2\",\"yaxis\":\"y2\"}],                        {\"template\":{\"data\":{\"barpolar\":[{\"marker\":{\"line\":{\"color\":\"white\",\"width\":0.5},\"pattern\":{\"fillmode\":\"overlay\",\"size\":10,\"solidity\":0.2}},\"type\":\"barpolar\"}],\"bar\":[{\"error_x\":{\"color\":\"#2a3f5f\"},\"error_y\":{\"color\":\"#2a3f5f\"},\"marker\":{\"line\":{\"color\":\"white\",\"width\":0.5},\"pattern\":{\"fillmode\":\"overlay\",\"size\":10,\"solidity\":0.2}},\"type\":\"bar\"}],\"carpet\":[{\"aaxis\":{\"endlinecolor\":\"#2a3f5f\",\"gridcolor\":\"#C8D4E3\",\"linecolor\":\"#C8D4E3\",\"minorgridcolor\":\"#C8D4E3\",\"startlinecolor\":\"#2a3f5f\"},\"baxis\":{\"endlinecolor\":\"#2a3f5f\",\"gridcolor\":\"#C8D4E3\",\"linecolor\":\"#C8D4E3\",\"minorgridcolor\":\"#C8D4E3\",\"startlinecolor\":\"#2a3f5f\"},\"type\":\"carpet\"}],\"choropleth\":[{\"colorbar\":{\"outlinewidth\":0,\"ticks\":\"\"},\"type\":\"choropleth\"}],\"contourcarpet\":[{\"colorbar\":{\"outlinewidth\":0,\"ticks\":\"\"},\"type\":\"contourcarpet\"}],\"contour\":[{\"colorbar\":{\"outlinewidth\":0,\"ticks\":\"\"},\"colorscale\":[[0.0,\"#0d0887\"],[0.1111111111111111,\"#46039f\"],[0.2222222222222222,\"#7201a8\"],[0.3333333333333333,\"#9c179e\"],[0.4444444444444444,\"#bd3786\"],[0.5555555555555556,\"#d8576b\"],[0.6666666666666666,\"#ed7953\"],[0.7777777777777778,\"#fb9f3a\"],[0.8888888888888888,\"#fdca26\"],[1.0,\"#f0f921\"]],\"type\":\"contour\"}],\"heatmapgl\":[{\"colorbar\":{\"outlinewidth\":0,\"ticks\":\"\"},\"colorscale\":[[0.0,\"#0d0887\"],[0.1111111111111111,\"#46039f\"],[0.2222222222222222,\"#7201a8\"],[0.3333333333333333,\"#9c179e\"],[0.4444444444444444,\"#bd3786\"],[0.5555555555555556,\"#d8576b\"],[0.6666666666666666,\"#ed7953\"],[0.7777777777777778,\"#fb9f3a\"],[0.8888888888888888,\"#fdca26\"],[1.0,\"#f0f921\"]],\"type\":\"heatmapgl\"}],\"heatmap\":[{\"colorbar\":{\"outlinewidth\":0,\"ticks\":\"\"},\"colorscale\":[[0.0,\"#0d0887\"],[0.1111111111111111,\"#46039f\"],[0.2222222222222222,\"#7201a8\"],[0.3333333333333333,\"#9c179e\"],[0.4444444444444444,\"#bd3786\"],[0.5555555555555556,\"#d8576b\"],[0.6666666666666666,\"#ed7953\"],[0.7777777777777778,\"#fb9f3a\"],[0.8888888888888888,\"#fdca26\"],[1.0,\"#f0f921\"]],\"type\":\"heatmap\"}],\"histogram2dcontour\":[{\"colorbar\":{\"outlinewidth\":0,\"ticks\":\"\"},\"colorscale\":[[0.0,\"#0d0887\"],[0.1111111111111111,\"#46039f\"],[0.2222222222222222,\"#7201a8\"],[0.3333333333333333,\"#9c179e\"],[0.4444444444444444,\"#bd3786\"],[0.5555555555555556,\"#d8576b\"],[0.6666666666666666,\"#ed7953\"],[0.7777777777777778,\"#fb9f3a\"],[0.8888888888888888,\"#fdca26\"],[1.0,\"#f0f921\"]],\"type\":\"histogram2dcontour\"}],\"histogram2d\":[{\"colorbar\":{\"outlinewidth\":0,\"ticks\":\"\"},\"colorscale\":[[0.0,\"#0d0887\"],[0.1111111111111111,\"#46039f\"],[0.2222222222222222,\"#7201a8\"],[0.3333333333333333,\"#9c179e\"],[0.4444444444444444,\"#bd3786\"],[0.5555555555555556,\"#d8576b\"],[0.6666666666666666,\"#ed7953\"],[0.7777777777777778,\"#fb9f3a\"],[0.8888888888888888,\"#fdca26\"],[1.0,\"#f0f921\"]],\"type\":\"histogram2d\"}],\"histogram\":[{\"marker\":{\"pattern\":{\"fillmode\":\"overlay\",\"size\":10,\"solidity\":0.2}},\"type\":\"histogram\"}],\"mesh3d\":[{\"colorbar\":{\"outlinewidth\":0,\"ticks\":\"\"},\"type\":\"mesh3d\"}],\"parcoords\":[{\"line\":{\"colorbar\":{\"outlinewidth\":0,\"ticks\":\"\"}},\"type\":\"parcoords\"}],\"pie\":[{\"automargin\":true,\"type\":\"pie\"}],\"scatter3d\":[{\"line\":{\"colorbar\":{\"outlinewidth\":0,\"ticks\":\"\"}},\"marker\":{\"colorbar\":{\"outlinewidth\":0,\"ticks\":\"\"}},\"type\":\"scatter3d\"}],\"scattercarpet\":[{\"marker\":{\"colorbar\":{\"outlinewidth\":0,\"ticks\":\"\"}},\"type\":\"scattercarpet\"}],\"scattergeo\":[{\"marker\":{\"colorbar\":{\"outlinewidth\":0,\"ticks\":\"\"}},\"type\":\"scattergeo\"}],\"scattergl\":[{\"marker\":{\"colorbar\":{\"outlinewidth\":0,\"ticks\":\"\"}},\"type\":\"scattergl\"}],\"scattermapbox\":[{\"marker\":{\"colorbar\":{\"outlinewidth\":0,\"ticks\":\"\"}},\"type\":\"scattermapbox\"}],\"scatterpolargl\":[{\"marker\":{\"colorbar\":{\"outlinewidth\":0,\"ticks\":\"\"}},\"type\":\"scatterpolargl\"}],\"scatterpolar\":[{\"marker\":{\"colorbar\":{\"outlinewidth\":0,\"ticks\":\"\"}},\"type\":\"scatterpolar\"}],\"scatter\":[{\"fillpattern\":{\"fillmode\":\"overlay\",\"size\":10,\"solidity\":0.2},\"type\":\"scatter\"}],\"scatterternary\":[{\"marker\":{\"colorbar\":{\"outlinewidth\":0,\"ticks\":\"\"}},\"type\":\"scatterternary\"}],\"surface\":[{\"colorbar\":{\"outlinewidth\":0,\"ticks\":\"\"},\"colorscale\":[[0.0,\"#0d0887\"],[0.1111111111111111,\"#46039f\"],[0.2222222222222222,\"#7201a8\"],[0.3333333333333333,\"#9c179e\"],[0.4444444444444444,\"#bd3786\"],[0.5555555555555556,\"#d8576b\"],[0.6666666666666666,\"#ed7953\"],[0.7777777777777778,\"#fb9f3a\"],[0.8888888888888888,\"#fdca26\"],[1.0,\"#f0f921\"]],\"type\":\"surface\"}],\"table\":[{\"cells\":{\"fill\":{\"color\":\"#EBF0F8\"},\"line\":{\"color\":\"white\"}},\"header\":{\"fill\":{\"color\":\"#C8D4E3\"},\"line\":{\"color\":\"white\"}},\"type\":\"table\"}]},\"layout\":{\"annotationdefaults\":{\"arrowcolor\":\"#2a3f5f\",\"arrowhead\":0,\"arrowwidth\":1},\"autotypenumbers\":\"strict\",\"coloraxis\":{\"colorbar\":{\"outlinewidth\":0,\"ticks\":\"\"}},\"colorscale\":{\"diverging\":[[0,\"#8e0152\"],[0.1,\"#c51b7d\"],[0.2,\"#de77ae\"],[0.3,\"#f1b6da\"],[0.4,\"#fde0ef\"],[0.5,\"#f7f7f7\"],[0.6,\"#e6f5d0\"],[0.7,\"#b8e186\"],[0.8,\"#7fbc41\"],[0.9,\"#4d9221\"],[1,\"#276419\"]],\"sequential\":[[0.0,\"#0d0887\"],[0.1111111111111111,\"#46039f\"],[0.2222222222222222,\"#7201a8\"],[0.3333333333333333,\"#9c179e\"],[0.4444444444444444,\"#bd3786\"],[0.5555555555555556,\"#d8576b\"],[0.6666666666666666,\"#ed7953\"],[0.7777777777777778,\"#fb9f3a\"],[0.8888888888888888,\"#fdca26\"],[1.0,\"#f0f921\"]],\"sequentialminus\":[[0.0,\"#0d0887\"],[0.1111111111111111,\"#46039f\"],[0.2222222222222222,\"#7201a8\"],[0.3333333333333333,\"#9c179e\"],[0.4444444444444444,\"#bd3786\"],[0.5555555555555556,\"#d8576b\"],[0.6666666666666666,\"#ed7953\"],[0.7777777777777778,\"#fb9f3a\"],[0.8888888888888888,\"#fdca26\"],[1.0,\"#f0f921\"]]},\"colorway\":[\"#636efa\",\"#EF553B\",\"#00cc96\",\"#ab63fa\",\"#FFA15A\",\"#19d3f3\",\"#FF6692\",\"#B6E880\",\"#FF97FF\",\"#FECB52\"],\"font\":{\"color\":\"#2a3f5f\"},\"geo\":{\"bgcolor\":\"white\",\"lakecolor\":\"white\",\"landcolor\":\"white\",\"showlakes\":true,\"showland\":true,\"subunitcolor\":\"#C8D4E3\"},\"hoverlabel\":{\"align\":\"left\"},\"hovermode\":\"closest\",\"mapbox\":{\"style\":\"light\"},\"paper_bgcolor\":\"white\",\"plot_bgcolor\":\"white\",\"polar\":{\"angularaxis\":{\"gridcolor\":\"#EBF0F8\",\"linecolor\":\"#EBF0F8\",\"ticks\":\"\"},\"bgcolor\":\"white\",\"radialaxis\":{\"gridcolor\":\"#EBF0F8\",\"linecolor\":\"#EBF0F8\",\"ticks\":\"\"}},\"scene\":{\"xaxis\":{\"backgroundcolor\":\"white\",\"gridcolor\":\"#DFE8F3\",\"gridwidth\":2,\"linecolor\":\"#EBF0F8\",\"showbackground\":true,\"ticks\":\"\",\"zerolinecolor\":\"#EBF0F8\"},\"yaxis\":{\"backgroundcolor\":\"white\",\"gridcolor\":\"#DFE8F3\",\"gridwidth\":2,\"linecolor\":\"#EBF0F8\",\"showbackground\":true,\"ticks\":\"\",\"zerolinecolor\":\"#EBF0F8\"},\"zaxis\":{\"backgroundcolor\":\"white\",\"gridcolor\":\"#DFE8F3\",\"gridwidth\":2,\"linecolor\":\"#EBF0F8\",\"showbackground\":true,\"ticks\":\"\",\"zerolinecolor\":\"#EBF0F8\"}},\"shapedefaults\":{\"line\":{\"color\":\"#2a3f5f\"}},\"ternary\":{\"aaxis\":{\"gridcolor\":\"#DFE8F3\",\"linecolor\":\"#A2B1C6\",\"ticks\":\"\"},\"baxis\":{\"gridcolor\":\"#DFE8F3\",\"linecolor\":\"#A2B1C6\",\"ticks\":\"\"},\"bgcolor\":\"white\",\"caxis\":{\"gridcolor\":\"#DFE8F3\",\"linecolor\":\"#A2B1C6\",\"ticks\":\"\"}},\"title\":{\"x\":0.05},\"xaxis\":{\"automargin\":true,\"gridcolor\":\"#EBF0F8\",\"linecolor\":\"#EBF0F8\",\"ticks\":\"\",\"title\":{\"standoff\":15},\"zerolinecolor\":\"#EBF0F8\",\"zerolinewidth\":2},\"yaxis\":{\"automargin\":true,\"gridcolor\":\"#EBF0F8\",\"linecolor\":\"#EBF0F8\",\"ticks\":\"\",\"title\":{\"standoff\":15},\"zerolinecolor\":\"#EBF0F8\",\"zerolinewidth\":2}}},\"xaxis\":{\"anchor\":\"y\",\"domain\":[0.0,0.175],\"showgrid\":true},\"yaxis\":{\"anchor\":\"x\",\"domain\":[0.0,1.0],\"showgrid\":true},\"xaxis2\":{\"anchor\":\"y2\",\"domain\":[0.275,0.45],\"showgrid\":true},\"yaxis2\":{\"anchor\":\"x2\",\"domain\":[0.0,1.0],\"showgrid\":true},\"xaxis3\":{\"anchor\":\"y3\",\"domain\":[0.55,0.7250000000000001],\"showgrid\":true},\"yaxis3\":{\"anchor\":\"x3\",\"domain\":[0.0,1.0],\"showgrid\":true},\"xaxis4\":{\"anchor\":\"y4\",\"domain\":[0.825,1.0],\"showgrid\":true},\"yaxis4\":{\"anchor\":\"x4\",\"domain\":[0.0,1.0],\"showgrid\":true},\"annotations\":[{\"font\":{\"size\":16},\"showarrow\":false,\"text\":\"Topic 0\",\"x\":0.0875,\"xanchor\":\"center\",\"xref\":\"paper\",\"y\":1.0,\"yanchor\":\"bottom\",\"yref\":\"paper\"},{\"font\":{\"size\":16},\"showarrow\":false,\"text\":\"Topic 1\",\"x\":0.36250000000000004,\"xanchor\":\"center\",\"xref\":\"paper\",\"y\":1.0,\"yanchor\":\"bottom\",\"yref\":\"paper\"}],\"title\":{\"font\":{\"size\":22,\"color\":\"Black\"},\"text\":\"Topic Word Scores\",\"x\":0.5,\"xanchor\":\"center\",\"yanchor\":\"top\"},\"hoverlabel\":{\"font\":{\"size\":16,\"family\":\"Rockwell\"},\"bgcolor\":\"white\"},\"showlegend\":false,\"width\":1300,\"height\":390.0},                        {\"responsive\": true}                    ).then(function(){\n                            \nvar gd = document.getElementById('e96b8b92-d91b-400c-a7a4-032eb456afd0');\nvar x = new MutationObserver(function (mutations, observer) {{\n        var display = window.getComputedStyle(gd).display;\n        if (!display || display === 'none') {{\n            console.log([gd, 'removed!']);\n            Plotly.purge(gd);\n            observer.disconnect();\n        }}\n}});\n\n// Listen for the removal of the full notebook cells\nvar notebookContainer = gd.closest('#notebook-container');\nif (notebookContainer) {{\n    x.observe(notebookContainer, {childList: true});\n}}\n\n// Listen for the clearing of the current output cell\nvar outputEl = gd.closest('.output');\nif (outputEl) {{\n    x.observe(outputEl, {childList: true});\n}}\n\n                        })                };                });            </script>        </div>"
     },
     "metadata": {},
     "output_type": "display_data"
    }
   ],
   "source": [
    "topic_model.visualize_barchart(n_words=10, height=300, width=325)"
   ],
   "metadata": {
    "collapsed": false,
    "ExecuteTime": {
     "start_time": "2023-05-25T08:44:01.557999Z",
     "end_time": "2023-05-25T08:44:01.624260Z"
    }
   }
  },
  {
   "cell_type": "code",
   "execution_count": 10,
   "outputs": [],
   "source": [
    "def jaccard_index(key1: list, key2: list) -> float:\n",
    "    n = set(key1).intersection(key2)\n",
    "    d = set(key1).union(key2)\n",
    "\n",
    "    return len(n)/len(d)\n",
    "\n",
    "human_codes = [\"Code 15: Spouse\", \"Code 41: Food\", \"Code 17: Social Programs\", \"Code 26: Travel\", \"Code 32: Social Connections\"]\n",
    "\n",
    "doc_df = p1_df\n",
    "scores = []\n",
    "\n",
    "for hc in human_codes:\n",
    "    code_df = doc_df[doc_df[\"Codes\"].str.contains(hc, na=False)]\n",
    "    doc = code_df[\"Transcript\"].to_list()\n",
    "\n",
    "    code_dtm = cv_model.fit_transform(doc)\n",
    "    vocab = cv_model.get_feature_names_out()\n",
    "    counts = code_dtm.toarray().sum(axis=0)\n",
    "\n",
    "    top_n_df = pd.DataFrame({\"Vocab\": vocab, \"Counts\": counts})\n",
    "    top_n_df.sort_values(by=\"Counts\", ascending=False, inplace=True)\n",
    "    a = top_n_df[\"Vocab\"].head(10)\n",
    "    hc_score = []\n",
    "\n",
    "    # TODO vectorize\n",
    "    for i in range(len(topic_model.get_topics())-1):\n",
    "        b = list(map(lambda x: x[0], topic_model.get_topic(i)))\n",
    "        score = jaccard_index(a,b)\n",
    "        hc_score.append(score)\n",
    "\n",
    "    scores.append(hc_score)\n"
   ],
   "metadata": {
    "collapsed": false,
    "ExecuteTime": {
     "start_time": "2023-05-25T08:44:23.101448Z",
     "end_time": "2023-05-25T08:44:23.111123Z"
    }
   }
  },
  {
   "cell_type": "code",
   "execution_count": 11,
   "outputs": [
    {
     "data": {
      "text/plain": "<Axes: >"
     },
     "execution_count": 11,
     "metadata": {},
     "output_type": "execute_result"
    },
    {
     "data": {
      "text/plain": "<Figure size 640x480 with 2 Axes>",
      "image/png": "[encoded data removed]"
     },
     "metadata": {},
     "output_type": "display_data"
    }
   ],
   "source": [
    "sns.heatmap(scores, annot=True, yticklabels=human_codes,cmap=sns.color_palette(\"flare\", as_cmap=True))"
   ],
   "metadata": {
    "collapsed": false,
    "ExecuteTime": {
     "start_time": "2023-05-25T08:44:25.510248Z",
     "end_time": "2023-05-25T08:44:25.634700Z"
    }
   }
  },
  {
   "cell_type": "code",
   "execution_count": 12,
   "outputs": [
    {
     "data": {
      "application/vnd.plotly.v1+json": {
       "data": [
        {
         "marker": {
          "color": "#D55E00"
         },
         "orientation": "h",
         "x": [
          0.04023616044341275,
          0.046528389887815144,
          0.047566915360137345,
          0.04828339253209531,
          0.05040089570336968,
          0.05661208044912863,
          0.06369631383764957,
          0.0673018847555512,
          0.07194699003775096,
          0.07754600492309328
         ],
         "y": [
          "want  ",
          "did  ",
          "going  ",
          "children  ",
          "lot  ",
          "know  ",
          "just  ",
          "people  ",
          "think  ",
          "things  "
         ],
         "type": "bar",
         "xaxis": "x",
         "yaxis": "y"
        },
        {
         "marker": {
          "color": "#0072B2"
         },
         "orientation": "h",
         "x": [
          0.0507871664743509,
          0.05311479008739728,
          0.05522789145241841,
          0.05996236744956645,
          0.05996236744956645,
          0.05996236744956645,
          0.06036341755802305,
          0.06497547165019417,
          0.06982460673538027,
          0.07092583239623472
         ],
         "y": [
          "good  ",
          "lot  ",
          "oh  ",
          "san  ",
          "jose  ",
          "meat  ",
          "war  ",
          "wonderful  ",
          "food  ",
          "people  "
         ],
         "type": "bar",
         "xaxis": "x2",
         "yaxis": "y2"
        }
       ],
       "layout": {
        "template": {
         "data": {
          "barpolar": [
           {
            "marker": {
             "line": {
              "color": "white",
              "width": 0.5
             },
             "pattern": {
              "fillmode": "overlay",
              "size": 10,
              "solidity": 0.2
             }
            },
            "type": "barpolar"
           }
          ],
          "bar": [
           {
            "error_x": {
             "color": "#2a3f5f"
            },
            "error_y": {
             "color": "#2a3f5f"
            },
            "marker": {
             "line": {
              "color": "white",
              "width": 0.5
             },
             "pattern": {
              "fillmode": "overlay",
              "size": 10,
              "solidity": 0.2
             }
            },
            "type": "bar"
           }
          ],
          "carpet": [
           {
            "aaxis": {
             "endlinecolor": "#2a3f5f",
             "gridcolor": "#C8D4E3",
             "linecolor": "#C8D4E3",
             "minorgridcolor": "#C8D4E3",
             "startlinecolor": "#2a3f5f"
            },
            "baxis": {
             "endlinecolor": "#2a3f5f",
             "gridcolor": "#C8D4E3",
             "linecolor": "#C8D4E3",
             "minorgridcolor": "#C8D4E3",
             "startlinecolor": "#2a3f5f"
            },
            "type": "carpet"
           }
          ],
          "choropleth": [
           {
            "colorbar": {
             "outlinewidth": 0,
             "ticks": ""
            },
            "type": "choropleth"
           }
          ],
          "contourcarpet": [
           {
            "colorbar": {
             "outlinewidth": 0,
             "ticks": ""
            },
            "type": "contourcarpet"
           }
          ],
          "contour": [
           {
            "colorbar": {
             "outlinewidth": 0,
             "ticks": ""
            },
            "colorscale": [
             [
              0.0,
              "#0d0887"
             ],
             [
              0.1111111111111111,
              "#46039f"
             ],
             [
              0.2222222222222222,
              "#7201a8"
             ],
             [
              0.3333333333333333,
              "#9c179e"
             ],
             [
              0.4444444444444444,
              "#bd3786"
             ],
             [
              0.5555555555555556,
              "#d8576b"
             ],
             [
              0.6666666666666666,
              "#ed7953"
             ],
             [
              0.7777777777777778,
              "#fb9f3a"
             ],
             [
              0.8888888888888888,
              "#fdca26"
             ],
             [
              1.0,
              "#f0f921"
             ]
            ],
            "type": "contour"
           }
          ],
          "heatmapgl": [
           {
            "colorbar": {
             "outlinewidth": 0,
             "ticks": ""
            },
            "colorscale": [
             [
              0.0,
              "#0d0887"
             ],
             [
              0.1111111111111111,
              "#46039f"
             ],
             [
              0.2222222222222222,
              "#7201a8"
             ],
             [
              0.3333333333333333,
              "#9c179e"
             ],
             [
              0.4444444444444444,
              "#bd3786"
             ],
             [
              0.5555555555555556,
              "#d8576b"
             ],
             [
              0.6666666666666666,
              "#ed7953"
             ],
             [
              0.7777777777777778,
              "#fb9f3a"
             ],
             [
              0.8888888888888888,
              "#fdca26"
             ],
             [
              1.0,
              "#f0f921"
             ]
            ],
            "type": "heatmapgl"
           }
          ],
          "heatmap": [
           {
            "colorbar": {
             "outlinewidth": 0,
             "ticks": ""
            },
            "colorscale": [
             [
              0.0,
              "#0d0887"
             ],
             [
              0.1111111111111111,
              "#46039f"
             ],
             [
              0.2222222222222222,
              "#7201a8"
             ],
             [
              0.3333333333333333,
              "#9c179e"
             ],
             [
              0.4444444444444444,
              "#bd3786"
             ],
             [
              0.5555555555555556,
              "#d8576b"
             ],
             [
              0.6666666666666666,
              "#ed7953"
             ],
             [
              0.7777777777777778,
              "#fb9f3a"
             ],
             [
              0.8888888888888888,
              "#fdca26"
             ],
             [
              1.0,
              "#f0f921"
             ]
            ],
            "type": "heatmap"
           }
          ],
          "histogram2dcontour": [
           {
            "colorbar": {
             "outlinewidth": 0,
             "ticks": ""
            },
            "colorscale": [
             [
              0.0,
              "#0d0887"
             ],
             [
              0.1111111111111111,
              "#46039f"
             ],
             [
              0.2222222222222222,
              "#7201a8"
             ],
             [
              0.3333333333333333,
              "#9c179e"
             ],
             [
              0.4444444444444444,
              "#bd3786"
             ],
             [
              0.5555555555555556,
              "#d8576b"
             ],
             [
              0.6666666666666666,
              "#ed7953"
             ],
             [
              0.7777777777777778,
              "#fb9f3a"
             ],
             [
              0.8888888888888888,
              "#fdca26"
             ],
             [
              1.0,
              "#f0f921"
             ]
            ],
            "type": "histogram2dcontour"
           }
          ],
          "histogram2d": [
           {
            "colorbar": {
             "outlinewidth": 0,
             "ticks": ""
            },
            "colorscale": [
             [
              0.0,
              "#0d0887"
             ],
             [
              0.1111111111111111,
              "#46039f"
             ],
             [
              0.2222222222222222,
              "#7201a8"
             ],
             [
              0.3333333333333333,
              "#9c179e"
             ],
             [
              0.4444444444444444,
              "#bd3786"
             ],
             [
              0.5555555555555556,
              "#d8576b"
             ],
             [
              0.6666666666666666,
              "#ed7953"
             ],
             [
              0.7777777777777778,
              "#fb9f3a"
             ],
             [
              0.8888888888888888,
              "#fdca26"
             ],
             [
              1.0,
              "#f0f921"
             ]
            ],
            "type": "histogram2d"
           }
          ],
          "histogram": [
           {
            "marker": {
             "pattern": {
              "fillmode": "overlay",
              "size": 10,
              "solidity": 0.2
             }
            },
            "type": "histogram"
           }
          ],
          "mesh3d": [
           {
            "colorbar": {
             "outlinewidth": 0,
             "ticks": ""
            },
            "type": "mesh3d"
           }
          ],
          "parcoords": [
           {
            "line": {
             "colorbar": {
              "outlinewidth": 0,
              "ticks": ""
             }
            },
            "type": "parcoords"
           }
          ],
          "pie": [
           {
            "automargin": true,
            "type": "pie"
           }
          ],
          "scatter3d": [
           {
            "line": {
             "colorbar": {
              "outlinewidth": 0,
              "ticks": ""
             }
            },
            "marker": {
             "colorbar": {
              "outlinewidth": 0,
              "ticks": ""
             }
            },
            "type": "scatter3d"
           }
          ],
          "scattercarpet": [
           {
            "marker": {
             "colorbar": {
              "outlinewidth": 0,
              "ticks": ""
             }
            },
            "type": "scattercarpet"
           }
          ],
          "scattergeo": [
           {
            "marker": {
             "colorbar": {
              "outlinewidth": 0,
              "ticks": ""
             }
            },
            "type": "scattergeo"
           }
          ],
          "scattergl": [
           {
            "marker": {
             "colorbar": {
              "outlinewidth": 0,
              "ticks": ""
             }
            },
            "type": "scattergl"
           }
          ],
          "scattermapbox": [
           {
            "marker": {
             "colorbar": {
              "outlinewidth": 0,
              "ticks": ""
             }
            },
            "type": "scattermapbox"
           }
          ],
          "scatterpolargl": [
           {
            "marker": {
             "colorbar": {
              "outlinewidth": 0,
              "ticks": ""
             }
            },
            "type": "scatterpolargl"
           }
          ],
          "scatterpolar": [
           {
            "marker": {
             "colorbar": {
              "outlinewidth": 0,
              "ticks": ""
             }
            },
            "type": "scatterpolar"
           }
          ],
          "scatter": [
           {
            "fillpattern": {
             "fillmode": "overlay",
             "size": 10,
             "solidity": 0.2
            },
            "type": "scatter"
           }
          ],
          "scatterternary": [
           {
            "marker": {
             "colorbar": {
              "outlinewidth": 0,
              "ticks": ""
             }
            },
            "type": "scatterternary"
           }
          ],
          "surface": [
           {
            "colorbar": {
             "outlinewidth": 0,
             "ticks": ""
            },
            "colorscale": [
             [
              0.0,
              "#0d0887"
             ],
             [
              0.1111111111111111,
              "#46039f"
             ],
             [
              0.2222222222222222,
              "#7201a8"
             ],
             [
              0.3333333333333333,
              "#9c179e"
             ],
             [
              0.4444444444444444,
              "#bd3786"
             ],
             [
              0.5555555555555556,
              "#d8576b"
             ],
             [
              0.6666666666666666,
              "#ed7953"
             ],
             [
              0.7777777777777778,
              "#fb9f3a"
             ],
             [
              0.8888888888888888,
              "#fdca26"
             ],
             [
              1.0,
              "#f0f921"
             ]
            ],
            "type": "surface"
           }
          ],
          "table": [
           {
            "cells": {
             "fill": {
              "color": "#EBF0F8"
             },
             "line": {
              "color": "white"
             }
            },
            "header": {
             "fill": {
              "color": "#C8D4E3"
             },
             "line": {
              "color": "white"
             }
            },
            "type": "table"
           }
          ]
         },
         "layout": {
          "annotationdefaults": {
           "arrowcolor": "#2a3f5f",
           "arrowhead": 0,
           "arrowwidth": 1
          },
          "autotypenumbers": "strict",
          "coloraxis": {
           "colorbar": {
            "outlinewidth": 0,
            "ticks": ""
           }
          },
          "colorscale": {
           "diverging": [
            [
             0,
             "#8e0152"
            ],
            [
             0.1,
             "#c51b7d"
            ],
            [
             0.2,
             "#de77ae"
            ],
            [
             0.3,
             "#f1b6da"
            ],
            [
             0.4,
             "#fde0ef"
            ],
            [
             0.5,
             "#f7f7f7"
            ],
            [
             0.6,
             "#e6f5d0"
            ],
            [
             0.7,
             "#b8e186"
            ],
            [
             0.8,
             "#7fbc41"
            ],
            [
             0.9,
             "#4d9221"
            ],
            [
             1,
             "#276419"
            ]
           ],
           "sequential": [
            [
             0.0,
             "#0d0887"
            ],
            [
             0.1111111111111111,
             "#46039f"
            ],
            [
             0.2222222222222222,
             "#7201a8"
            ],
            [
             0.3333333333333333,
             "#9c179e"
            ],
            [
             0.4444444444444444,
             "#bd3786"
            ],
            [
             0.5555555555555556,
             "#d8576b"
            ],
            [
             0.6666666666666666,
             "#ed7953"
            ],
            [
             0.7777777777777778,
             "#fb9f3a"
            ],
            [
             0.8888888888888888,
             "#fdca26"
            ],
            [
             1.0,
             "#f0f921"
            ]
           ],
           "sequentialminus": [
            [
             0.0,
             "#0d0887"
            ],
            [
             0.1111111111111111,
             "#46039f"
            ],
            [
             0.2222222222222222,
             "#7201a8"
            ],
            [
             0.3333333333333333,
             "#9c179e"
            ],
            [
             0.4444444444444444,
             "#bd3786"
            ],
            [
             0.5555555555555556,
             "#d8576b"
            ],
            [
             0.6666666666666666,
             "#ed7953"
            ],
            [
             0.7777777777777778,
             "#fb9f3a"
            ],
            [
             0.8888888888888888,
             "#fdca26"
            ],
            [
             1.0,
             "#f0f921"
            ]
           ]
          },
          "colorway": [
           "#636efa",
           "#EF553B",
           "#00cc96",
           "#ab63fa",
           "#FFA15A",
           "#19d3f3",
           "#FF6692",
           "#B6E880",
           "#FF97FF",
           "#FECB52"
          ],
          "font": {
           "color": "#2a3f5f"
          },
          "geo": {
           "bgcolor": "white",
           "lakecolor": "white",
           "landcolor": "white",
           "showlakes": true,
           "showland": true,
           "subunitcolor": "#C8D4E3"
          },
          "hoverlabel": {
           "align": "left"
          },
          "hovermode": "closest",
          "mapbox": {
           "style": "light"
          },
          "paper_bgcolor": "white",
          "plot_bgcolor": "white",
          "polar": {
           "angularaxis": {
            "gridcolor": "#EBF0F8",
            "linecolor": "#EBF0F8",
            "ticks": ""
           },
           "bgcolor": "white",
           "radialaxis": {
            "gridcolor": "#EBF0F8",
            "linecolor": "#EBF0F8",
            "ticks": ""
           }
          },
          "scene": {
           "xaxis": {
            "backgroundcolor": "white",
            "gridcolor": "#DFE8F3",
            "gridwidth": 2,
            "linecolor": "#EBF0F8",
            "showbackground": true,
            "ticks": "",
            "zerolinecolor": "#EBF0F8"
           },
           "yaxis": {
            "backgroundcolor": "white",
            "gridcolor": "#DFE8F3",
            "gridwidth": 2,
            "linecolor": "#EBF0F8",
            "showbackground": true,
            "ticks": "",
            "zerolinecolor": "#EBF0F8"
           },
           "zaxis": {
            "backgroundcolor": "white",
            "gridcolor": "#DFE8F3",
            "gridwidth": 2,
            "linecolor": "#EBF0F8",
            "showbackground": true,
            "ticks": "",
            "zerolinecolor": "#EBF0F8"
           }
          },
          "shapedefaults": {
           "line": {
            "color": "#2a3f5f"
           }
          },
          "ternary": {
           "aaxis": {
            "gridcolor": "#DFE8F3",
            "linecolor": "#A2B1C6",
            "ticks": ""
           },
           "baxis": {
            "gridcolor": "#DFE8F3",
            "linecolor": "#A2B1C6",
            "ticks": ""
           },
           "bgcolor": "white",
           "caxis": {
            "gridcolor": "#DFE8F3",
            "linecolor": "#A2B1C6",
            "ticks": ""
           }
          },
          "title": {
           "x": 0.05
          },
          "xaxis": {
           "automargin": true,
           "gridcolor": "#EBF0F8",
           "linecolor": "#EBF0F8",
           "ticks": "",
           "title": {
            "standoff": 15
           },
           "zerolinecolor": "#EBF0F8",
           "zerolinewidth": 2
          },
          "yaxis": {
           "automargin": true,
           "gridcolor": "#EBF0F8",
           "linecolor": "#EBF0F8",
           "ticks": "",
           "title": {
            "standoff": 15
           },
           "zerolinecolor": "#EBF0F8",
           "zerolinewidth": 2
          }
         }
        },
        "xaxis": {
         "anchor": "y",
         "domain": [
          0.0,
          0.175
         ],
         "showgrid": true
        },
        "yaxis": {
         "anchor": "x",
         "domain": [
          0.0,
          1.0
         ],
         "showgrid": true
        },
        "xaxis2": {
         "anchor": "y2",
         "domain": [
          0.275,
          0.45
         ],
         "showgrid": true
        },
        "yaxis2": {
         "anchor": "x2",
         "domain": [
          0.0,
          1.0
         ],
         "showgrid": true
        },
        "xaxis3": {
         "anchor": "y3",
         "domain": [
          0.55,
          0.7250000000000001
         ],
         "showgrid": true
        },
        "yaxis3": {
         "anchor": "x3",
         "domain": [
          0.0,
          1.0
         ],
         "showgrid": true
        },
        "xaxis4": {
         "anchor": "y4",
         "domain": [
          0.825,
          1.0
         ],
         "showgrid": true
        },
        "yaxis4": {
         "anchor": "x4",
         "domain": [
          0.0,
          1.0
         ],
         "showgrid": true
        },
        "annotations": [
         {
          "font": {
           "size": 16
          },
          "showarrow": false,
          "text": "Topic 0",
          "x": 0.0875,
          "xanchor": "center",
          "xref": "paper",
          "y": 1.0,
          "yanchor": "bottom",
          "yref": "paper"
         },
         {
          "font": {
           "size": 16
          },
          "showarrow": false,
          "text": "Topic 1",
          "x": 0.36250000000000004,
          "xanchor": "center",
          "xref": "paper",
          "y": 1.0,
          "yanchor": "bottom",
          "yref": "paper"
         }
        ],
        "title": {
         "font": {
          "size": 22,
          "color": "Black"
         },
         "text": "Topic Word Scores",
         "x": 0.5,
         "xanchor": "center",
         "yanchor": "top"
        },
        "hoverlabel": {
         "font": {
          "size": 16,
          "family": "Rockwell"
         },
         "bgcolor": "white"
        },
        "showlegend": false,
        "width": 1300,
        "height": 390.0
       },
       "config": {
        "plotlyServerURL": "https://plot.ly"
       }
      },
      "text/html": "<div>                            <div id=\"6aad6fff-3ced-4c40-a45d-d957f842d251\" class=\"plotly-graph-div\" style=\"height:390.0px; width:1300px;\"></div>            <script type=\"text/javascript\">                require([\"plotly\"], function(Plotly) {                    window.PLOTLYENV=window.PLOTLYENV || {};                                    if (document.getElementById(\"6aad6fff-3ced-4c40-a45d-d957f842d251\")) {                    Plotly.newPlot(                        \"6aad6fff-3ced-4c40-a45d-d957f842d251\",                        [{\"marker\":{\"color\":\"#D55E00\"},\"orientation\":\"h\",\"x\":[0.04023616044341275,0.046528389887815144,0.047566915360137345,0.04828339253209531,0.05040089570336968,0.05661208044912863,0.06369631383764957,0.0673018847555512,0.07194699003775096,0.07754600492309328],\"y\":[\"want  \",\"did  \",\"going  \",\"children  \",\"lot  \",\"know  \",\"just  \",\"people  \",\"think  \",\"things  \"],\"type\":\"bar\",\"xaxis\":\"x\",\"yaxis\":\"y\"},{\"marker\":{\"color\":\"#0072B2\"},\"orientation\":\"h\",\"x\":[0.0507871664743509,0.05311479008739728,0.05522789145241841,0.05996236744956645,0.05996236744956645,0.05996236744956645,0.06036341755802305,0.06497547165019417,0.06982460673538027,0.07092583239623472],\"y\":[\"good  \",\"lot  \",\"oh  \",\"san  \",\"jose  \",\"meat  \",\"war  \",\"wonderful  \",\"food  \",\"people  \"],\"type\":\"bar\",\"xaxis\":\"x2\",\"yaxis\":\"y2\"}],                        {\"template\":{\"data\":{\"barpolar\":[{\"marker\":{\"line\":{\"color\":\"white\",\"width\":0.5},\"pattern\":{\"fillmode\":\"overlay\",\"size\":10,\"solidity\":0.2}},\"type\":\"barpolar\"}],\"bar\":[{\"error_x\":{\"color\":\"#2a3f5f\"},\"error_y\":{\"color\":\"#2a3f5f\"},\"marker\":{\"line\":{\"color\":\"white\",\"width\":0.5},\"pattern\":{\"fillmode\":\"overlay\",\"size\":10,\"solidity\":0.2}},\"type\":\"bar\"}],\"carpet\":[{\"aaxis\":{\"endlinecolor\":\"#2a3f5f\",\"gridcolor\":\"#C8D4E3\",\"linecolor\":\"#C8D4E3\",\"minorgridcolor\":\"#C8D4E3\",\"startlinecolor\":\"#2a3f5f\"},\"baxis\":{\"endlinecolor\":\"#2a3f5f\",\"gridcolor\":\"#C8D4E3\",\"linecolor\":\"#C8D4E3\",\"minorgridcolor\":\"#C8D4E3\",\"startlinecolor\":\"#2a3f5f\"},\"type\":\"carpet\"}],\"choropleth\":[{\"colorbar\":{\"outlinewidth\":0,\"ticks\":\"\"},\"type\":\"choropleth\"}],\"contourcarpet\":[{\"colorbar\":{\"outlinewidth\":0,\"ticks\":\"\"},\"type\":\"contourcarpet\"}],\"contour\":[{\"colorbar\":{\"outlinewidth\":0,\"ticks\":\"\"},\"colorscale\":[[0.0,\"#0d0887\"],[0.1111111111111111,\"#46039f\"],[0.2222222222222222,\"#7201a8\"],[0.3333333333333333,\"#9c179e\"],[0.4444444444444444,\"#bd3786\"],[0.5555555555555556,\"#d8576b\"],[0.6666666666666666,\"#ed7953\"],[0.7777777777777778,\"#fb9f3a\"],[0.8888888888888888,\"#fdca26\"],[1.0,\"#f0f921\"]],\"type\":\"contour\"}],\"heatmapgl\":[{\"colorbar\":{\"outlinewidth\":0,\"ticks\":\"\"},\"colorscale\":[[0.0,\"#0d0887\"],[0.1111111111111111,\"#46039f\"],[0.2222222222222222,\"#7201a8\"],[0.3333333333333333,\"#9c179e\"],[0.4444444444444444,\"#bd3786\"],[0.5555555555555556,\"#d8576b\"],[0.6666666666666666,\"#ed7953\"],[0.7777777777777778,\"#fb9f3a\"],[0.8888888888888888,\"#fdca26\"],[1.0,\"#f0f921\"]],\"type\":\"heatmapgl\"}],\"heatmap\":[{\"colorbar\":{\"outlinewidth\":0,\"ticks\":\"\"},\"colorscale\":[[0.0,\"#0d0887\"],[0.1111111111111111,\"#46039f\"],[0.2222222222222222,\"#7201a8\"],[0.3333333333333333,\"#9c179e\"],[0.4444444444444444,\"#bd3786\"],[0.5555555555555556,\"#d8576b\"],[0.6666666666666666,\"#ed7953\"],[0.7777777777777778,\"#fb9f3a\"],[0.8888888888888888,\"#fdca26\"],[1.0,\"#f0f921\"]],\"type\":\"heatmap\"}],\"histogram2dcontour\":[{\"colorbar\":{\"outlinewidth\":0,\"ticks\":\"\"},\"colorscale\":[[0.0,\"#0d0887\"],[0.1111111111111111,\"#46039f\"],[0.2222222222222222,\"#7201a8\"],[0.3333333333333333,\"#9c179e\"],[0.4444444444444444,\"#bd3786\"],[0.5555555555555556,\"#d8576b\"],[0.6666666666666666,\"#ed7953\"],[0.7777777777777778,\"#fb9f3a\"],[0.8888888888888888,\"#fdca26\"],[1.0,\"#f0f921\"]],\"type\":\"histogram2dcontour\"}],\"histogram2d\":[{\"colorbar\":{\"outlinewidth\":0,\"ticks\":\"\"},\"colorscale\":[[0.0,\"#0d0887\"],[0.1111111111111111,\"#46039f\"],[0.2222222222222222,\"#7201a8\"],[0.3333333333333333,\"#9c179e\"],[0.4444444444444444,\"#bd3786\"],[0.5555555555555556,\"#d8576b\"],[0.6666666666666666,\"#ed7953\"],[0.7777777777777778,\"#fb9f3a\"],[0.8888888888888888,\"#fdca26\"],[1.0,\"#f0f921\"]],\"type\":\"histogram2d\"}],\"histogram\":[{\"marker\":{\"pattern\":{\"fillmode\":\"overlay\",\"size\":10,\"solidity\":0.2}},\"type\":\"histogram\"}],\"mesh3d\":[{\"colorbar\":{\"outlinewidth\":0,\"ticks\":\"\"},\"type\":\"mesh3d\"}],\"parcoords\":[{\"line\":{\"colorbar\":{\"outlinewidth\":0,\"ticks\":\"\"}},\"type\":\"parcoords\"}],\"pie\":[{\"automargin\":true,\"type\":\"pie\"}],\"scatter3d\":[{\"line\":{\"colorbar\":{\"outlinewidth\":0,\"ticks\":\"\"}},\"marker\":{\"colorbar\":{\"outlinewidth\":0,\"ticks\":\"\"}},\"type\":\"scatter3d\"}],\"scattercarpet\":[{\"marker\":{\"colorbar\":{\"outlinewidth\":0,\"ticks\":\"\"}},\"type\":\"scattercarpet\"}],\"scattergeo\":[{\"marker\":{\"colorbar\":{\"outlinewidth\":0,\"ticks\":\"\"}},\"type\":\"scattergeo\"}],\"scattergl\":[{\"marker\":{\"colorbar\":{\"outlinewidth\":0,\"ticks\":\"\"}},\"type\":\"scattergl\"}],\"scattermapbox\":[{\"marker\":{\"colorbar\":{\"outlinewidth\":0,\"ticks\":\"\"}},\"type\":\"scattermapbox\"}],\"scatterpolargl\":[{\"marker\":{\"colorbar\":{\"outlinewidth\":0,\"ticks\":\"\"}},\"type\":\"scatterpolargl\"}],\"scatterpolar\":[{\"marker\":{\"colorbar\":{\"outlinewidth\":0,\"ticks\":\"\"}},\"type\":\"scatterpolar\"}],\"scatter\":[{\"fillpattern\":{\"fillmode\":\"overlay\",\"size\":10,\"solidity\":0.2},\"type\":\"scatter\"}],\"scatterternary\":[{\"marker\":{\"colorbar\":{\"outlinewidth\":0,\"ticks\":\"\"}},\"type\":\"scatterternary\"}],\"surface\":[{\"colorbar\":{\"outlinewidth\":0,\"ticks\":\"\"},\"colorscale\":[[0.0,\"#0d0887\"],[0.1111111111111111,\"#46039f\"],[0.2222222222222222,\"#7201a8\"],[0.3333333333333333,\"#9c179e\"],[0.4444444444444444,\"#bd3786\"],[0.5555555555555556,\"#d8576b\"],[0.6666666666666666,\"#ed7953\"],[0.7777777777777778,\"#fb9f3a\"],[0.8888888888888888,\"#fdca26\"],[1.0,\"#f0f921\"]],\"type\":\"surface\"}],\"table\":[{\"cells\":{\"fill\":{\"color\":\"#EBF0F8\"},\"line\":{\"color\":\"white\"}},\"header\":{\"fill\":{\"color\":\"#C8D4E3\"},\"line\":{\"color\":\"white\"}},\"type\":\"table\"}]},\"layout\":{\"annotationdefaults\":{\"arrowcolor\":\"#2a3f5f\",\"arrowhead\":0,\"arrowwidth\":1},\"autotypenumbers\":\"strict\",\"coloraxis\":{\"colorbar\":{\"outlinewidth\":0,\"ticks\":\"\"}},\"colorscale\":{\"diverging\":[[0,\"#8e0152\"],[0.1,\"#c51b7d\"],[0.2,\"#de77ae\"],[0.3,\"#f1b6da\"],[0.4,\"#fde0ef\"],[0.5,\"#f7f7f7\"],[0.6,\"#e6f5d0\"],[0.7,\"#b8e186\"],[0.8,\"#7fbc41\"],[0.9,\"#4d9221\"],[1,\"#276419\"]],\"sequential\":[[0.0,\"#0d0887\"],[0.1111111111111111,\"#46039f\"],[0.2222222222222222,\"#7201a8\"],[0.3333333333333333,\"#9c179e\"],[0.4444444444444444,\"#bd3786\"],[0.5555555555555556,\"#d8576b\"],[0.6666666666666666,\"#ed7953\"],[0.7777777777777778,\"#fb9f3a\"],[0.8888888888888888,\"#fdca26\"],[1.0,\"#f0f921\"]],\"sequentialminus\":[[0.0,\"#0d0887\"],[0.1111111111111111,\"#46039f\"],[0.2222222222222222,\"#7201a8\"],[0.3333333333333333,\"#9c179e\"],[0.4444444444444444,\"#bd3786\"],[0.5555555555555556,\"#d8576b\"],[0.6666666666666666,\"#ed7953\"],[0.7777777777777778,\"#fb9f3a\"],[0.8888888888888888,\"#fdca26\"],[1.0,\"#f0f921\"]]},\"colorway\":[\"#636efa\",\"#EF553B\",\"#00cc96\",\"#ab63fa\",\"#FFA15A\",\"#19d3f3\",\"#FF6692\",\"#B6E880\",\"#FF97FF\",\"#FECB52\"],\"font\":{\"color\":\"#2a3f5f\"},\"geo\":{\"bgcolor\":\"white\",\"lakecolor\":\"white\",\"landcolor\":\"white\",\"showlakes\":true,\"showland\":true,\"subunitcolor\":\"#C8D4E3\"},\"hoverlabel\":{\"align\":\"left\"},\"hovermode\":\"closest\",\"mapbox\":{\"style\":\"light\"},\"paper_bgcolor\":\"white\",\"plot_bgcolor\":\"white\",\"polar\":{\"angularaxis\":{\"gridcolor\":\"#EBF0F8\",\"linecolor\":\"#EBF0F8\",\"ticks\":\"\"},\"bgcolor\":\"white\",\"radialaxis\":{\"gridcolor\":\"#EBF0F8\",\"linecolor\":\"#EBF0F8\",\"ticks\":\"\"}},\"scene\":{\"xaxis\":{\"backgroundcolor\":\"white\",\"gridcolor\":\"#DFE8F3\",\"gridwidth\":2,\"linecolor\":\"#EBF0F8\",\"showbackground\":true,\"ticks\":\"\",\"zerolinecolor\":\"#EBF0F8\"},\"yaxis\":{\"backgroundcolor\":\"white\",\"gridcolor\":\"#DFE8F3\",\"gridwidth\":2,\"linecolor\":\"#EBF0F8\",\"showbackground\":true,\"ticks\":\"\",\"zerolinecolor\":\"#EBF0F8\"},\"zaxis\":{\"backgroundcolor\":\"white\",\"gridcolor\":\"#DFE8F3\",\"gridwidth\":2,\"linecolor\":\"#EBF0F8\",\"showbackground\":true,\"ticks\":\"\",\"zerolinecolor\":\"#EBF0F8\"}},\"shapedefaults\":{\"line\":{\"color\":\"#2a3f5f\"}},\"ternary\":{\"aaxis\":{\"gridcolor\":\"#DFE8F3\",\"linecolor\":\"#A2B1C6\",\"ticks\":\"\"},\"baxis\":{\"gridcolor\":\"#DFE8F3\",\"linecolor\":\"#A2B1C6\",\"ticks\":\"\"},\"bgcolor\":\"white\",\"caxis\":{\"gridcolor\":\"#DFE8F3\",\"linecolor\":\"#A2B1C6\",\"ticks\":\"\"}},\"title\":{\"x\":0.05},\"xaxis\":{\"automargin\":true,\"gridcolor\":\"#EBF0F8\",\"linecolor\":\"#EBF0F8\",\"ticks\":\"\",\"title\":{\"standoff\":15},\"zerolinecolor\":\"#EBF0F8\",\"zerolinewidth\":2},\"yaxis\":{\"automargin\":true,\"gridcolor\":\"#EBF0F8\",\"linecolor\":\"#EBF0F8\",\"ticks\":\"\",\"title\":{\"standoff\":15},\"zerolinecolor\":\"#EBF0F8\",\"zerolinewidth\":2}}},\"xaxis\":{\"anchor\":\"y\",\"domain\":[0.0,0.175],\"showgrid\":true},\"yaxis\":{\"anchor\":\"x\",\"domain\":[0.0,1.0],\"showgrid\":true},\"xaxis2\":{\"anchor\":\"y2\",\"domain\":[0.275,0.45],\"showgrid\":true},\"yaxis2\":{\"anchor\":\"x2\",\"domain\":[0.0,1.0],\"showgrid\":true},\"xaxis3\":{\"anchor\":\"y3\",\"domain\":[0.55,0.7250000000000001],\"showgrid\":true},\"yaxis3\":{\"anchor\":\"x3\",\"domain\":[0.0,1.0],\"showgrid\":true},\"xaxis4\":{\"anchor\":\"y4\",\"domain\":[0.825,1.0],\"showgrid\":true},\"yaxis4\":{\"anchor\":\"x4\",\"domain\":[0.0,1.0],\"showgrid\":true},\"annotations\":[{\"font\":{\"size\":16},\"showarrow\":false,\"text\":\"Topic 0\",\"x\":0.0875,\"xanchor\":\"center\",\"xref\":\"paper\",\"y\":1.0,\"yanchor\":\"bottom\",\"yref\":\"paper\"},{\"font\":{\"size\":16},\"showarrow\":false,\"text\":\"Topic 1\",\"x\":0.36250000000000004,\"xanchor\":\"center\",\"xref\":\"paper\",\"y\":1.0,\"yanchor\":\"bottom\",\"yref\":\"paper\"}],\"title\":{\"font\":{\"size\":22,\"color\":\"Black\"},\"text\":\"Topic Word Scores\",\"x\":0.5,\"xanchor\":\"center\",\"yanchor\":\"top\"},\"hoverlabel\":{\"font\":{\"size\":16,\"family\":\"Rockwell\"},\"bgcolor\":\"white\"},\"showlegend\":false,\"width\":1300,\"height\":390.0},                        {\"responsive\": true}                    ).then(function(){\n                            \nvar gd = document.getElementById('6aad6fff-3ced-4c40-a45d-d957f842d251');\nvar x = new MutationObserver(function (mutations, observer) {{\n        var display = window.getComputedStyle(gd).display;\n        if (!display || display === 'none') {{\n            console.log([gd, 'removed!']);\n            Plotly.purge(gd);\n            observer.disconnect();\n        }}\n}});\n\n// Listen for the removal of the full notebook cells\nvar notebookContainer = gd.closest('#notebook-container');\nif (notebookContainer) {{\n    x.observe(notebookContainer, {childList: true});\n}}\n\n// Listen for the clearing of the current output cell\nvar outputEl = gd.closest('.output');\nif (outputEl) {{\n    x.observe(outputEl, {childList: true});\n}}\n\n                        })                };                });            </script>        </div>"
     },
     "metadata": {},
     "output_type": "display_data"
    }
   ],
   "source": [
    "topic_model.visualize_barchart(n_words=10, height=300, width=325)"
   ],
   "metadata": {
    "collapsed": false,
    "ExecuteTime": {
     "start_time": "2023-05-25T08:45:18.570566Z",
     "end_time": "2023-05-25T08:45:18.574307Z"
    }
   }
  },
  {
   "cell_type": "code",
   "execution_count": null,
   "outputs": [],
   "source": [],
   "metadata": {
    "collapsed": false
   }
  }
 ],
 "metadata": {
  "kernelspec": {
   "display_name": "Python 3",
   "language": "python",
   "name": "python3"
  },
  "language_info": {
   "codemirror_mode": {
    "name": "ipython",
    "version": 2
   },
   "file_extension": ".py",
   "mimetype": "text/x-python",
   "name": "python",
   "nbconvert_exporter": "python",
   "pygments_lexer": "ipython2",
   "version": "2.7.6"
  }
 },
 "nbformat": 4,
 "nbformat_minor": 0
}
