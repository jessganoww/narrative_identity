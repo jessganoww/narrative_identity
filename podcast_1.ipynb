{
 "cells": [
  {
   "cell_type": "code",
   "execution_count": 2,
   "id": "ddbe036a",
   "metadata": {
    "tags": []
   },
   "outputs": [],
   "source": [
    "from sentence_transformers import SentenceTransformer\n",
    "from sklearn.feature_extraction.text import CountVectorizer\n",
    "from hdbscan import HDBSCAN\n",
    "from umap import UMAP\n",
    "\n",
    "\n",
    "from bertopic import BERTopic\n",
    "from bertopic.vectorizers import ClassTfidfTransformer\n",
    "\n",
    "import pandas as pd\n",
    "import re\n"
   ]
  },
  {
   "cell_type": "code",
   "execution_count": 3,
   "id": "298f1818-c3ad-4b51-ba7f-9c98fd2f423e",
   "metadata": {},
   "outputs": [
    {
     "data": {
      "text/plain": [
       "(64, 1)"
      ]
     },
     "execution_count": 3,
     "metadata": {},
     "output_type": "execute_result"
    }
   ],
   "source": [
    "df_p1 = pd.read_csv(\"transcripts/mrs-r.csv\")\n",
    "df_p1.drop(df_p1[(df_p1[\"Transcript\"].str.startswith(\"Taylor: \"))].index, inplace=True)\n",
    "df_p1.shape"
   ]
  },
  {
   "cell_type": "code",
   "execution_count": 13,
   "id": "7c4033ed-8afb-44d6-b655-a40eb47cbb26",
   "metadata": {
    "tags": []
   },
   "outputs": [
    {
     "data": {
      "text/html": [
       "<div>\n",
       "<style scoped>\n",
       "    .dataframe tbody tr th:only-of-type {\n",
       "        vertical-align: middle;\n",
       "    }\n",
       "\n",
       "    .dataframe tbody tr th {\n",
       "        vertical-align: top;\n",
       "    }\n",
       "\n",
       "    .dataframe thead th {\n",
       "        text-align: right;\n",
       "    }\n",
       "</style>\n",
       "<table border=\"1\" class=\"dataframe\">\n",
       "  <thead>\n",
       "    <tr style=\"text-align: right;\">\n",
       "      <th></th>\n",
       "      <th>Topic</th>\n",
       "      <th>Count</th>\n",
       "      <th>Name</th>\n",
       "    </tr>\n",
       "  </thead>\n",
       "  <tbody>\n",
       "    <tr>\n",
       "      <th>0</th>\n",
       "      <td>-1</td>\n",
       "      <td>19</td>\n",
       "      <td>-1_people_think_things_like</td>\n",
       "    </tr>\n",
       "    <tr>\n",
       "      <th>1</th>\n",
       "      <td>0</td>\n",
       "      <td>22</td>\n",
       "      <td>0_children_dont_family_things</td>\n",
       "    </tr>\n",
       "    <tr>\n",
       "      <th>2</th>\n",
       "      <td>1</td>\n",
       "      <td>10</td>\n",
       "      <td>1_dont_things_people_think</td>\n",
       "    </tr>\n",
       "    <tr>\n",
       "      <th>3</th>\n",
       "      <td>2</td>\n",
       "      <td>8</td>\n",
       "      <td>2_oh_good_fun_eat</td>\n",
       "    </tr>\n",
       "    <tr>\n",
       "      <th>4</th>\n",
       "      <td>3</td>\n",
       "      <td>5</td>\n",
       "      <td>3_jose_san_people_town</td>\n",
       "    </tr>\n",
       "  </tbody>\n",
       "</table>\n",
       "</div>"
      ],
      "text/plain": [
       "   Topic  Count                           Name\n",
       "0     -1     19    -1_people_think_things_like\n",
       "1      0     22  0_children_dont_family_things\n",
       "2      1     10     1_dont_things_people_think\n",
       "3      2      8              2_oh_good_fun_eat\n",
       "4      3      5         3_jose_san_people_town"
      ]
     },
     "execution_count": 13,
     "metadata": {},
     "output_type": "execute_result"
    }
   ],
   "source": [
    "# 1 paragraph -> 1 document\n",
    "podcast1 = df_p1[\"Transcript\"].to_list()\n",
    "podcast1 = [re.sub(\"Mrs.? R: \", \"\", text) for text in podcast1]\n",
    "\n",
    "docs = podcast1\n",
    "\n",
    "# Prepare embeddings\n",
    "embedding_model = SentenceTransformer(\"all-MiniLM-L6-v2\")\n",
    "embeddings = embedding_model.encode(docs, show_progress_bar=False) # 64, 384\n",
    "\n",
    "# Dimensionality reduction\n",
    "umap_model = UMAP(n_neighbors=12, n_components=5, metric=\"cosine\", random_state=42, low_memory=False)\n",
    "reduced_embeddings = umap_model.fit_transform(embeddings)\n",
    "vectorizer = CountVectorizer(stop_words=\"english\")\n",
    "# ctfidf = ClassTfidfTransformer(reduce_frequent_words=True)\n",
    "\n",
    "# Clustering\n",
    "hdbscan_model = HDBSCAN(min_cluster_size=4, metric=\"euclidean\", prediction_data=True)\n",
    "\n",
    "# Create topic model\n",
    "topic_model = BERTopic(umap_model=umap_model, \n",
    "                       hdbscan_model=hdbscan_model, \n",
    "                       # ctfidf_model=ctfidf,\n",
    "                       vectorizer_model=vectorizer\n",
    "                      )\n",
    "topics, probs = topic_model.fit_transform(docs)\n",
    "\n",
    "topic_model.get_topic_info()"
   ]
  },
  {
   "cell_type": "code",
   "execution_count": 14,
   "id": "04ac082e-5b4d-431e-8a01-768ed9f23d83",
   "metadata": {
    "tags": []
   },
   "outputs": [
    {
     "data": {
      "application/vnd.plotly.v1+json": {
       "config": {
        "plotlyServerURL": "https://plot.ly"
       },
       "data": [
        {
         "hoverinfo": "text",
         "hovertext": [
          "Well, I like to make things. Right now I'm knitting and I find that when it's cold or when you can't go outside, it's nice to have something, has some handwork, something, whatever you like to do at embroidery or knit or.",
          "And I would've taken airplane flights, but they weren't available when I was that age. I was, I was born 1930, so just before the second World War started. In 1941 when Pearl Harbor was attacked, I was only 10 and it was, uh, that was really a change. Oh my goodness. Oh my goodness. It was a big change. There was so much, so much propaganda making us hate the Japanese for attacking Pearl Harbor.",
          "Something called the GI Bill, which was a wonderful bill that they put through Congress, which allowed any service man to go to college for free. For free. It was wonderful. So he, what he did is he came out here and he ended up going to Santa Clara University and he only had had two years before the war was ended, but they let him stay for four years and he got his education and we got married during that time and that was a really good decision.",
          "And I have a special book that I just love called The Four Agreements. I would really suggest you read the Four Agreements. It's a very simple way of looking at life and every, every day I think about one of the agreements about how it's affecting me and how I can interact with other people with more kindness and listening. You gotta learn to listen.",
          "There's so many lonely people that lately I've been writing postcards to people telling them, pass them on to somebody else. You know, fun. Make plans. I hope someday I can still go to Yellowstone. I haven't seen Yellowstone. I've seen a lot of the world, but not Yellowstone, but just you just have, have thoughts that are positive.",
          "And so I think our home attitude and how we lived was slower pace and. There was a, maybe some racial injustice, but I don't know. On the whole, I think people got along pretty well. I don't think there was a lot of of crime. There was also, there was always crime, but not overtly like there are in the big cities, the world.",
          "Well, I think that we're getting more open to changes in ideas, and I think that people, for instance, people who are gay or people who have different kinds of other things going on. We're, we don't judge them as like we did years ago, and I think that's very, very positive because I think whoever we are, that's who we are and we need to be all respected as God made us all certain ways and we have to just go, as they say, go of the flow. There's a lot of wonderful people, this world that aren't just exactly like each other. We're all a little different.",
          "Well, I think in some ways you know that we know things too quickly and I think it can make people who are worried type of people, I think it makes them very upset.",
          "We had enough, but we, it was ration and sugar, things like that. But the men who were fighting the war, they were given all kinds of meat that make them be more aggressive. So when they got back from the war, there were a lot of jobs. And they had plenty of money and they wanted meat, meat, meat. And that's when the big meat obsession started in America.",
          "And I have a special book that I just love called The Four Agreements. I would really suggest you read the Four Agreements. It's a very simple way of looking at life and every, every day I think about one of the agreements about how it's affecting me and how I can interact with other people with more kindness and listening. You gotta learn to listen.",
          "Anyway, what happened was they knew during depression that lot of people were wandering around cause they had, things were so bad, there weren't any jobs. It was really horrible and people were starving. So what they did is they set up camp and then they would go into the little town with the, the trains would stop, and this was after the hobos.",
          "So that was fun. So that was a, a very, very happy day for me and I really lucked out. One of the most important things now I realize in, in having a partner is to have a real partner. And my husband, I've been married to him now for over 70 years, and he never ever said to me when I asked him to help me, that's woman's work.",
          "And my husband's brother Bob was a Catholic priest, so he was there at our wedding. And then we had, we had a reception in the afternoon and that was fun. And then my parents had purchased a piece of land over along the ocean in Santa Cruz and they had beginning of a house there, so that's where we were,  for the first few days of our honeymoon.",
          "Well, I think the computer industry, there's good things about it, but there's a lot about it that I don't like. I don't, I don't like Facebook. I won't have any part of Facebook and cause people don't, young people especially don't know how to manage it. They tell too many of their secrets that they let people frighten them and get them depressed. You know, that wasn't the intention to start. ",
          "The thing is that during the second world, The people who created food, they started planage and they had a big plan when the war was over. They had all these things that they made, which they called food and it put it in boxes, but it really wasn't food anymore. But people got conned and people started getting, what happened was during the war, We had rationing as far as meat.",
          "Well, like I said, I think it's fun to garden. I think it's fun sometimes in the year that too, you can walk and enjoy. Enjoy the scenery. We have lots of beautiful flowers here in California and I think it's wonderful to cook and bake right now during this virus we're having, having. ",
          "My wedding, well, we were married pretty close after the second World War, uh, it stopped. So things were, there wasn't a lot of. bridal Things and things to buy first. Cause when you have a war, then changing the transition, it's almost like an earthquake. I mean, it takes a long time to ever have everything settled down. So anyway, we were Catholic and we, they started having, they called nuptual masses, which meant it was a mass in which, which a celebration during which you were married.",
          "What actually happened to me, I, when I started working, I told my husband, I'm taking out a savings account at the bank just for my money, because when I get enough of it, I'm gonna take you on a trip. So when I got enough of it, I took him to Austria, where his relatives were from, so I was able to make my dream come true.",
          "Now I think the parents have a big responsibility to not allow their children to be on, on games. A, you know, certain amount of time a day, fine, but not for, not constantly. Cause you need, you need to get to know People and talk to people and interact. You need a lot of different things in this world. If you go to college and you learn everything from a book and you haven't learned from experience, uh, it just doesn't work. Uh, you have to have the experience of interaction with people and doing things plus the book learning, and then you're a rounded.",
          null
         ],
         "marker": {
          "color": "#CFD8DC",
          "opacity": 0.5,
          "size": 5
         },
         "mode": "markers+text",
         "name": "other",
         "showlegend": false,
         "type": "scattergl",
         "x": [
          8.266946792602539,
          8.760498046875,
          7.978377342224121,
          7.908355712890625,
          7.929466724395752,
          7.938891887664795,
          7.733495712280273,
          7.598862648010254,
          7.910534858703613,
          7.8750691413879395,
          7.898691654205322,
          8.727531433105469,
          8.86514663696289,
          8.289307594299316,
          7.9125165939331055,
          8.316153526306152,
          8.679322242736816,
          8.4224214553833,
          8.409238815307617,
          8.180044174194336
         ],
         "y": [
          5.580258846282959,
          6.18031644821167,
          7.102916717529297,
          5.195911884307861,
          5.803174018859863,
          6.134153842926025,
          5.58027458190918,
          5.796370983123779,
          7.0450873374938965,
          5.151130199432373,
          6.723140716552734,
          5.901499271392822,
          6.314302921295166,
          5.3102850914001465,
          7.011022090911865,
          5.853627681732178,
          6.522361755371094,
          6.3409552574157715,
          5.243406772613525,
          6.041589260101318
         ]
        },
        {
         "hoverinfo": "text",
         "hovertext": [
          "Yep, very very important. It makes you ready for be to be a salesman if you have that interview. All kinds of things start out when you're young and you develop them.",
          "Well, my dad. I had a friend that came over and they built me a playhouse in the backyard. And the most fun, I had a neighbor across the street, Patty Jackson, and she and I, my mother would give me her old, uh, curtain for the living room. And we'd put on hats and we'd get, we'd put on old high heels and we'd just walk around the block, all dressed up.",
          "What was the biggest milestone? Mm-hmm. . I don't know. Let me think about that. Well, you know, a lot of the milestones are not milestones at the time. You don't think of it that way. And I think if your attitude is positive and open, I don't think the milestones look like milestones. You look back on 'em and they are milestones for, for sure.",
          "I don't do that. He helped me with everything. We just did everything together. And looking back, it was just a miracle that I found a man who had that kinda a good, positive attitude. He was from a large family, he liked. Having a large family, so we ended up having a large family, and now I have a lot of my daughters and my sons. They're wonderful, wonderful people, and they've grown up to be very responsible and very proud of them. ",
          "But I had, I wanted a big family because I was born in a family that was not big and I was bored. And my father, I don't know if you know what a hobo is. A hobo is somebody who rides the rails, rides the rails, and my father had a lot of adventures before the first World War. He was born in eighteen eighty nine, two years before the turn of Century, and so about probably about 1915.",
          "And if you don't follow that, it usually you've fallen a in a ditch along the way. You really need to listen to your spirit. Your spirit guides you beautifully, beautifully. And what happened to me when all my children got to school, I wanted to have a little job. . So I had a friend that worked for adult education here in Santa Clara Valley, and she told me how I could get a job as an aide.",
          "Whatever, and then they'd share their food and then sometimes they'd go into town and try to see if they get rake leaves or do some work for people, make a meal. And so they could get a meal or something from the P, the homeowners, but they weren't, they were good people. They were just, As we say, we're just moving around and enjoying things, and sometimes when things got real tough in depression later, some people would leave home just because it would make it easier on the parents to feed the younger children.",
          "I ended up teaching. I ended up teaching in a woman's jail for six years. I later ended up teaching seniors for six years and helping one of my sons go to college. But it really, if I could give one, one advice to everybody is listen to your gut or your spirit, whatever you wanna call it. That's my message and it really changed my life.",
          "So I got a job as an aide with another teacher for $5 an hour and wasn't a lot of money, but it was quite a while ago and it was fun. So I did that two or three mornings a week, but I decided that I didn't wanna work with this teacher anymore. I listened to my gut. And I didn't have to work, so I thought, why should I do something that I don't wanna be doing with a person I don't want to be doing it with?",
          "Well, you're a wonderful, wonderful granddaughter and I'm very proud of what you're doing, and I can't see what you're gonna do in the next years.",
          "Well, actually, I somehow learned how important it was to listen to your gut or your spirit, whatever you wanna call it, because there's some sort of a little situation inside your Body that your mind or your spirit that tells you what to do if you, if you tune into it.",
          "I feel for the younger generation, very much that they're too attached to the, to their, the games and all the things they do inside. There's not enough recreation outside. Uh, when our family grew up on the street, there was, oh, maybe like 20 kids and playing outside in the, playing baseball and having, just playing, plain fun.",
          "I went to college for one year, and then I was a mom and I really loved being a mom. So we had numerous children and they were all very active doing things, making things, being active. Boys all had paper routes and had a little bit of money that way, and the girls did a lot of babysitting and a lot of sewing, and a lot of helping canning fruit.",
          "We had so much. It was, it was a delight. And after my husband and I got married, we took, we took that playhouse apart and took it over to where we had our first tract home in 1950 and we put it up and so our children were able to enjoy that playhouse also. So I think getting, having time to grow up and be kids is very, very important. Very, very important. We really have to work hard on letting children be children.",
          "And so they, they traveled. They weren't afraid of their world. It was my intention that my children would all be not afraid of the world. My father taught me not to be afraid of the world and enjoy it. And that's what I try to impart with our children.",
          "Well, I always wanted to be an attorney. And the funny thing is that when I met my husband and I went back, he was from Illinois and I went back and met his family. His oldest brother was an attorney who was born on my birthday. So , I guess he became the attorney and I didn't. But uh, no, I. I'm glad I didn't become an attorney.",
          "So I talked to my lady that was in charge of the adult education and then we talked about it and she looked at me after a while and she said, I can. Make you a full fledged teacher in one subject. So in that conversation I was able to switch from $5 an hour to 17.50 an hour, and it was all because I listened to my gut and my life changed so radically.",
          "If you could speak to your younger self, what advice would you give? Hmm. Well, I don't, it was really interesting. When I was growing up, there were three choices for women. To work as a job, a secretary, nurse, or teacher. And none of those appealed to me at my young age. And so when I met my husband to be, he had gotten out of the service. Second World War was over and he had.",
          "But I was only, I had a sister. When I was nine years old, my mother had a little girl, my sister, and when she was three years old and I was 12 years old, I knit her a sweater, a little red sweater. I'll never forget it, and I'm so proud of that in my own heart. So I think the things we can create are just very, very important. Yes. ",
          "They maybe still call hobos, but they would take them off the train and they'd say, come on, we're gonna take you the camp and we're gonna get, we're gonna feed you and we're gonna give you some clean clothes. New clothes. So they take them out to the camps and they let 'em have a shower. They, shave em. And one time I heard a recording similar to the one I'm making here about, and a man was telling about he was the one that was rescued from one of these situations where he was hungry, so hungry, they didn't know what he was gonna do.",
          "You know something, I don't think I would take you up on that. Cause you know, life is a real mixture and there's wonderful, and there's some things you don't wanna live agains. So, um, I think my childhood was very, very happy. I had a happy life so, I really don't know that I'd wanna live any of my years again. They were, I had wonderful times raising our children. We decided to have a large family and so we ended up with six daughters and four sons and they're all alive and doing well today. Very proud of them. And, uh, our son, Toby, is living at Pittsburgh and he has a daughter named Taylor who is doing this podcast. So that's where I'm at. ",
          "I, I would've liked to learn all those things, but it's a very stressful life and I don't know, I think I enjoyed what I did better. And in those days anyway, there was a lot of different things that we did with our children and they learned all kinds of things. They, I had them Involved in traveling and all kinds of things and camping and just doing all kinds of things, going to the beach.",
          null
         ],
         "marker": {
          "opacity": 0.5,
          "size": 5
         },
         "mode": "markers+text",
         "name": "0_children_dont_family",
         "text": [
          "",
          "",
          "",
          "",
          "",
          "",
          "",
          "",
          "",
          "",
          "",
          "",
          "",
          "",
          "",
          "",
          "",
          "",
          "",
          "",
          "",
          "",
          "0_children_dont_family"
         ],
         "textfont": {
          "size": 12
         },
         "type": "scattergl",
         "x": [
          9.014761924743652,
          8.82277774810791,
          8.696770668029785,
          8.510865211486816,
          8.500779151916504,
          8.548493385314941,
          8.134660720825195,
          8.854077339172363,
          8.678378105163574,
          8.518807411193848,
          8.287467002868652,
          8.311360359191895,
          8.777094841003418,
          8.747781753540039,
          8.528889656066895,
          9.15589714050293,
          8.83440113067627,
          9.11170482635498,
          8.718968391418457,
          8.023116111755371,
          8.49754810333252,
          9.071758270263672,
          8.652107238769531
         ],
         "y": [
          5.12400484085083,
          5.973409175872803,
          5.0299530029296875,
          5.242972373962402,
          6.473405361175537,
          4.814947128295898,
          6.186052322387695,
          4.881479740142822,
          4.71525764465332,
          4.974926948547363,
          4.896025657653809,
          5.525637149810791,
          5.323362827301025,
          5.344703197479248,
          5.994174957275391,
          5.252786636352539,
          4.609985828399658,
          5.210772514343262,
          5.552856922149658,
          6.902715682983398,
          5.102651119232178,
          5.58344841003418,
          5.39616060256958
         ]
        },
        {
         "hoverinfo": "text",
         "hovertext": [
          "Still, I don't know if you've heard about it, but there's something in the forties was called the CCC conservation corps. And we had a president called President Franklin Delenor Roosevelt, and in my mind, in my husband's mind, we think he's a wonderful man. He's behind a whole social security program and thank goodness we have social security.",
          "Yes. Yes. Yes. And right now I understand, you know, there's a huge amount of people that are trying to call you up and scare you, and they tell you that the IRS wants to get, is gonna get you in different things and they're, they're just doing all kinds of terrible, stealing money from people and just doing all sorts of evil things to kind people who are at home and who are not ready for being hacked and being tripped very bad.",
          "Yep. I had it happen to me one day and I fell for it till I woken and I turned it around, but it could happen to anybody. It's amazing how they con you. So anyway, you have to really be on your toes and realize that certain governmental offices, like the irs, et cetera, theyll not call you on the phone if they wanna get hold of you. They do it by mail. ",
          "Hmm. Good telephones. I think the telephone systems are horrible now, and then having all those brutal phone calls come through all the time. It's disgusting. I think a lot of their people that are in Congress don't know what to do about these kinda things, and so they just ignore them. And we gotta to say, we have to suffer by having these bad phone calls come in and interrupt our day so many times.",
          "Taylor : Yeah. We don't like those scam callers",
          "He said. He said, I'll never forget that day in my life when they took us to the camp and we showered and we got clean clothes and I had the most wonderful breakfast. I had all the bacon and eggs and toast and coffee I ever wanted. He said it changed my whole life. So Franklin Roosevelt set up this conservation  corp and All, all kinds of things that they did in the countryside. Probably fixed bridges and fixed roads that they made work. You have to do that when you have trouble. We're having the same situation now, so we're gonna pray that things change. ",
          "That's right. One was called the wpa, and even today, if you're driving along Country Roads, you'll see, where's there's a little bridge You'll see wpa. A lot of people don't know what that means but they are still around. All the things that they did. Now a lot of it needs to be redone because over time things do disintegrate.",
          "Well, I think that the last four years have been such a disaster that I think we're gonna all work together for the future in a happier mode and get things done. Just simple things. Basically, people need jobs and they need to be cared about, and we, the bottom line is we have to care about each other. We can't judge people. We have to work with them and try to bring out the best. People have a lot of good characteristics and we have to bring it out and help them get educated, but also help the good jobs. And I think it's gonna happen. I really do. Cause I think we're gonna have a wonderful administration and a lot of people working for positive results. ",
          "Like right now when the virus we're going through. I've noticed that there's so much fear. I, I don't mean to say that I'm not afraid. I don't, I don't wanna get the virus, but I don't want it to ruin my life. Every day when I get up to worry, worry, worry. I don't think that's what we can do. Whenever I start worrying too much, I know it's time to make a pot of soup so I can share soup with a neighbor. You know? We just have to not, not worry. That's not the message. ",
          "He started riding the rails and he told me that he had ridden, at that time there were 48 states and he told me that he had been in 46 in the 48 states, and they would ride the rails and then when a freight train would stop, it was freight cars. When a freight train would stop, they'd all get out, whoever was on the train, get out, they'd find a tree or someplace they could get out of the shade, get in the shade.",
          null
         ],
         "marker": {
          "opacity": 0.5,
          "size": 5
         },
         "mode": "markers+text",
         "name": "1_dont_things_people",
         "text": [
          "",
          "",
          "",
          "",
          "",
          "",
          "",
          "",
          "",
          "",
          "1_dont_things_people"
         ],
         "textfont": {
          "size": 12
         },
         "type": "scattergl",
         "x": [
          7.782901763916016,
          7.7633161544799805,
          7.779290676116943,
          7.592486381530762,
          7.613439559936523,
          7.658567428588867,
          7.647282600402832,
          7.66385555267334,
          7.563298225402832,
          7.984482288360596,
          7.704892158508301
         ],
         "y": [
          7.017843723297119,
          6.742898941040039,
          6.812601089477539,
          6.484128475189209,
          6.716758728027344,
          6.849137783050537,
          6.757966995239258,
          5.528783798217773,
          5.931482315063477,
          7.017062664031982,
          6.5858659744262695
         ]
        },
        {
         "hoverinfo": "text",
         "hovertext": [
          "That's right. That's right. Oh, I love polenta. I have a wonderful recipe for polenta. I think it's fun to find, I call 'em peasant recipes. It's what the peasants used to eat real simple food like soups and polenta and lots of pastas and salads. Lots of fun things. Yeah, that sounds good. Yep. My husband's 95 and he still has his hair, I said, thank me I didn't feed you stuff that make your hair fall out. ",
          "Every, so many people I talked to were making sourdough bread. In fact, a couple came over yesterday and brought me some of the couple slices of her bread. Oh, is it delicious. So it's, it takes a lot of energy to make sourdough, cuz you have to time it. Boy was delicious. So making, making food is fun. ",
          "Well, I am working very hard on not going to a facility. My husband and, I wanna stay our home, and I think you  have to keep. Like thinking forward. You have to think forward and think happy thoughts and do things together with people, do things together. I like to write letters.",
          "Uh, have, repeat that question. Oh, comfort food. Yes. A comfort food. Well, you know what? I love tapioca pudding and I haven't made it for a long time. And, and you put later on, at the end of it, you fold in the egg whites and so it's kindy, it's wonderful. I love tapioca, pudding. It's really good. I like it. Yeah, good for you too. You know, tapioca is from a root, and it was in Asia, I think, and you couldn't get it much during the second World War. So what was the other question? ",
          "And that's why now we have so many sick people because of they, they're so unbalanced and they're the way they eat. There's a lot of information out now about how to eat. And you can find it if you look for it. Cause it's, it's getting stronger and stronger. Cause we have to get well, we have to take care of ourselves. So I'm actually now a vegetarian and I really enjoy all kinds of good things",
          " Oh, I never even, oh, I thought for sure. I was born in 1930 and I used to think about Uh, the turn of the century and I thought I was 70 years old. Oh my goodness. No, I'll be dead by then. So being alive now at 90 is a big shock, but luckily I'm in pretty good shape. You get tired. That's the one only thing about being 90. You do get tired, but just try to eat a lot of vegetables and fruit and grains and stay away from the meat, that's my advice. ",
          "Read or write or anything to fill the cracks in the day. And it's really been fun. I've gotten to know a lady from church that likes to knit also, we've been sharing different patterns and different things and having a lot of laughter. It's been fun. So I think it's very, it's tranquilizing. You don't have to take tranquilizers or all kinds of pills when you do hand work because your mind just escapes the everyday life, the everyday world.",
          "Polenta and lots of pastas and salads. Lots of fun things. Yeah, that sounds good. Yep. My husband's 95 and he still has his hair, I said, thank me I didn't feed you stuff that make your hair fall out. ",
          null
         ],
         "marker": {
          "opacity": 0.5,
          "size": 5
         },
         "mode": "markers+text",
         "name": "2_oh_good_fun",
         "text": [
          "",
          "",
          "",
          "",
          "",
          "",
          "",
          "",
          "2_oh_good_fun"
         ],
         "textfont": {
          "size": 12
         },
         "type": "scattergl",
         "x": [
          8.234237670898438,
          8.045816421508789,
          8.08321475982666,
          8.004756927490234,
          7.930545806884766,
          8.359196662902832,
          8.176559448242188,
          8.386402130126953,
          8.152591705322266
         ],
         "y": [
          6.171468734741211,
          6.130606174468994,
          5.338174343109131,
          6.716487884521484,
          6.763784408569336,
          6.378185749053955,
          5.5722551345825195,
          6.445950031280518,
          6.189614295959473
         ]
        },
        {
         "hoverinfo": "text",
         "hovertext": [
          "So then it became Japan-town. So even today in San Jose, we have a wonderful Japan town and so I love to take people there cuz it's like, it's like going to San Francisco, but we don't have to drive 50 miles away. So I love if you ever come to San Jose, go to Japan Town and have lunch or dinner. It's really fun.",
          "It was really a bad time as far as, you know, turning on hate onto each. It was bad, but a good thing happened in our downtown San Jose. About that time, I don't know exactly what it was, there was a, a group of Chinese people that lived down there. And anyway, some of the Europeans came in one night and burned them all out, and it was a terrible shock. And also a German man gave the Chinese people a few acres to start a new community. Just a few, a few miles away. Which was incredibly wonderful. And after a while there was a lot of Chinese people there and then slowly they kind of moved in different places in San Jose. And so after the second World War, the Japanese people settled in the same area mostly.",
          "Hmm. Legal. I have to think about that one for a while.When you have cities that are, that are not, uh, overpopulated, people get along better than they do. They, they've made tests with, uh, with animals and they've found that there's a lot more aggression when you have too many people, or in that case, animals taking over a certain amount of space. So by living in Santa Clara and also going to Santa Jose of high school, we weren't, uh, overcrowded.",
          "First of all, I still have a strong voice at the age of 90, so a lot of people on the phone don't think I'm 90, but this year I am 90 and I have lived in Santa Clara Valley, which is now called Silicon Valley, oh, most of my life. It's a wonderful place to live. Wonderful weather. Close to the ocean. So that's where I grew up and it was a, I grew up in a town of Santa Clara, which was right next to San Jose, and it was a town of 5,000 people at the time. Very low key, very nice place to grow up. It was able to ride my bicycle all over the place. Had a lot of freedom. So that's me.",
          "That's an interesting question. I. That's interesting. I, I took a train trip I remember from San Jose to Los Angeles when I was 10, just before Pearl Harbor that year, and that was very exciting.",
          null
         ],
         "marker": {
          "opacity": 0.5,
          "size": 5
         },
         "mode": "markers+text",
         "name": "3_jose_san_people",
         "text": [
          "",
          "",
          "",
          "",
          "",
          "3_jose_san_people"
         ],
         "textfont": {
          "size": 12
         },
         "type": "scattergl",
         "x": [
          8.488692283630371,
          8.357741355895996,
          8.231507301330566,
          8.407612800598145,
          8.665834426879883,
          8.430277824401855
         ],
         "y": [
          6.178221225738525,
          6.311546325683594,
          6.1745805740356445,
          5.847612380981445,
          6.346625804901123,
          6.171717643737793
         ]
        }
       ],
       "layout": {
        "annotations": [
         {
          "showarrow": false,
          "text": "D1",
          "x": 6.428803491592407,
          "y": 6.0434210896492,
          "yshift": 10
         },
         {
          "showarrow": false,
          "text": "D2",
          "x": 8.479042601585387,
          "xshift": 10,
          "y": 8.16835422515869
         }
        ],
        "height": 750,
        "shapes": [
         {
          "line": {
           "color": "#CFD8DC",
           "width": 2
          },
          "type": "line",
          "x0": 8.479042601585387,
          "x1": 8.479042601585387,
          "y0": 3.9184879541397093,
          "y1": 8.16835422515869
         },
         {
          "line": {
           "color": "#9E9E9E",
           "width": 2
          },
          "type": "line",
          "x0": 6.428803491592407,
          "x1": 10.529281711578369,
          "y0": 6.0434210896492,
          "y1": 6.0434210896492
         }
        ],
        "template": {
         "data": {
          "bar": [
           {
            "error_x": {
             "color": "rgb(36,36,36)"
            },
            "error_y": {
             "color": "rgb(36,36,36)"
            },
            "marker": {
             "line": {
              "color": "white",
              "width": 0.5
             },
             "pattern": {
              "fillmode": "overlay",
              "size": 10,
              "solidity": 0.2
             }
            },
            "type": "bar"
           }
          ],
          "barpolar": [
           {
            "marker": {
             "line": {
              "color": "white",
              "width": 0.5
             },
             "pattern": {
              "fillmode": "overlay",
              "size": 10,
              "solidity": 0.2
             }
            },
            "type": "barpolar"
           }
          ],
          "carpet": [
           {
            "aaxis": {
             "endlinecolor": "rgb(36,36,36)",
             "gridcolor": "white",
             "linecolor": "white",
             "minorgridcolor": "white",
             "startlinecolor": "rgb(36,36,36)"
            },
            "baxis": {
             "endlinecolor": "rgb(36,36,36)",
             "gridcolor": "white",
             "linecolor": "white",
             "minorgridcolor": "white",
             "startlinecolor": "rgb(36,36,36)"
            },
            "type": "carpet"
           }
          ],
          "choropleth": [
           {
            "colorbar": {
             "outlinewidth": 1,
             "tickcolor": "rgb(36,36,36)",
             "ticks": "outside"
            },
            "type": "choropleth"
           }
          ],
          "contour": [
           {
            "colorbar": {
             "outlinewidth": 1,
             "tickcolor": "rgb(36,36,36)",
             "ticks": "outside"
            },
            "colorscale": [
             [
              0,
              "#440154"
             ],
             [
              0.1111111111111111,
              "#482878"
             ],
             [
              0.2222222222222222,
              "#3e4989"
             ],
             [
              0.3333333333333333,
              "#31688e"
             ],
             [
              0.4444444444444444,
              "#26828e"
             ],
             [
              0.5555555555555556,
              "#1f9e89"
             ],
             [
              0.6666666666666666,
              "#35b779"
             ],
             [
              0.7777777777777778,
              "#6ece58"
             ],
             [
              0.8888888888888888,
              "#b5de2b"
             ],
             [
              1,
              "#fde725"
             ]
            ],
            "type": "contour"
           }
          ],
          "contourcarpet": [
           {
            "colorbar": {
             "outlinewidth": 1,
             "tickcolor": "rgb(36,36,36)",
             "ticks": "outside"
            },
            "type": "contourcarpet"
           }
          ],
          "heatmap": [
           {
            "colorbar": {
             "outlinewidth": 1,
             "tickcolor": "rgb(36,36,36)",
             "ticks": "outside"
            },
            "colorscale": [
             [
              0,
              "#440154"
             ],
             [
              0.1111111111111111,
              "#482878"
             ],
             [
              0.2222222222222222,
              "#3e4989"
             ],
             [
              0.3333333333333333,
              "#31688e"
             ],
             [
              0.4444444444444444,
              "#26828e"
             ],
             [
              0.5555555555555556,
              "#1f9e89"
             ],
             [
              0.6666666666666666,
              "#35b779"
             ],
             [
              0.7777777777777778,
              "#6ece58"
             ],
             [
              0.8888888888888888,
              "#b5de2b"
             ],
             [
              1,
              "#fde725"
             ]
            ],
            "type": "heatmap"
           }
          ],
          "heatmapgl": [
           {
            "colorbar": {
             "outlinewidth": 1,
             "tickcolor": "rgb(36,36,36)",
             "ticks": "outside"
            },
            "colorscale": [
             [
              0,
              "#440154"
             ],
             [
              0.1111111111111111,
              "#482878"
             ],
             [
              0.2222222222222222,
              "#3e4989"
             ],
             [
              0.3333333333333333,
              "#31688e"
             ],
             [
              0.4444444444444444,
              "#26828e"
             ],
             [
              0.5555555555555556,
              "#1f9e89"
             ],
             [
              0.6666666666666666,
              "#35b779"
             ],
             [
              0.7777777777777778,
              "#6ece58"
             ],
             [
              0.8888888888888888,
              "#b5de2b"
             ],
             [
              1,
              "#fde725"
             ]
            ],
            "type": "heatmapgl"
           }
          ],
          "histogram": [
           {
            "marker": {
             "line": {
              "color": "white",
              "width": 0.6
             }
            },
            "type": "histogram"
           }
          ],
          "histogram2d": [
           {
            "colorbar": {
             "outlinewidth": 1,
             "tickcolor": "rgb(36,36,36)",
             "ticks": "outside"
            },
            "colorscale": [
             [
              0,
              "#440154"
             ],
             [
              0.1111111111111111,
              "#482878"
             ],
             [
              0.2222222222222222,
              "#3e4989"
             ],
             [
              0.3333333333333333,
              "#31688e"
             ],
             [
              0.4444444444444444,
              "#26828e"
             ],
             [
              0.5555555555555556,
              "#1f9e89"
             ],
             [
              0.6666666666666666,
              "#35b779"
             ],
             [
              0.7777777777777778,
              "#6ece58"
             ],
             [
              0.8888888888888888,
              "#b5de2b"
             ],
             [
              1,
              "#fde725"
             ]
            ],
            "type": "histogram2d"
           }
          ],
          "histogram2dcontour": [
           {
            "colorbar": {
             "outlinewidth": 1,
             "tickcolor": "rgb(36,36,36)",
             "ticks": "outside"
            },
            "colorscale": [
             [
              0,
              "#440154"
             ],
             [
              0.1111111111111111,
              "#482878"
             ],
             [
              0.2222222222222222,
              "#3e4989"
             ],
             [
              0.3333333333333333,
              "#31688e"
             ],
             [
              0.4444444444444444,
              "#26828e"
             ],
             [
              0.5555555555555556,
              "#1f9e89"
             ],
             [
              0.6666666666666666,
              "#35b779"
             ],
             [
              0.7777777777777778,
              "#6ece58"
             ],
             [
              0.8888888888888888,
              "#b5de2b"
             ],
             [
              1,
              "#fde725"
             ]
            ],
            "type": "histogram2dcontour"
           }
          ],
          "mesh3d": [
           {
            "colorbar": {
             "outlinewidth": 1,
             "tickcolor": "rgb(36,36,36)",
             "ticks": "outside"
            },
            "type": "mesh3d"
           }
          ],
          "parcoords": [
           {
            "line": {
             "colorbar": {
              "outlinewidth": 1,
              "tickcolor": "rgb(36,36,36)",
              "ticks": "outside"
             }
            },
            "type": "parcoords"
           }
          ],
          "pie": [
           {
            "automargin": true,
            "type": "pie"
           }
          ],
          "scatter": [
           {
            "fillpattern": {
             "fillmode": "overlay",
             "size": 10,
             "solidity": 0.2
            },
            "type": "scatter"
           }
          ],
          "scatter3d": [
           {
            "line": {
             "colorbar": {
              "outlinewidth": 1,
              "tickcolor": "rgb(36,36,36)",
              "ticks": "outside"
             }
            },
            "marker": {
             "colorbar": {
              "outlinewidth": 1,
              "tickcolor": "rgb(36,36,36)",
              "ticks": "outside"
             }
            },
            "type": "scatter3d"
           }
          ],
          "scattercarpet": [
           {
            "marker": {
             "colorbar": {
              "outlinewidth": 1,
              "tickcolor": "rgb(36,36,36)",
              "ticks": "outside"
             }
            },
            "type": "scattercarpet"
           }
          ],
          "scattergeo": [
           {
            "marker": {
             "colorbar": {
              "outlinewidth": 1,
              "tickcolor": "rgb(36,36,36)",
              "ticks": "outside"
             }
            },
            "type": "scattergeo"
           }
          ],
          "scattergl": [
           {
            "marker": {
             "colorbar": {
              "outlinewidth": 1,
              "tickcolor": "rgb(36,36,36)",
              "ticks": "outside"
             }
            },
            "type": "scattergl"
           }
          ],
          "scattermapbox": [
           {
            "marker": {
             "colorbar": {
              "outlinewidth": 1,
              "tickcolor": "rgb(36,36,36)",
              "ticks": "outside"
             }
            },
            "type": "scattermapbox"
           }
          ],
          "scatterpolar": [
           {
            "marker": {
             "colorbar": {
              "outlinewidth": 1,
              "tickcolor": "rgb(36,36,36)",
              "ticks": "outside"
             }
            },
            "type": "scatterpolar"
           }
          ],
          "scatterpolargl": [
           {
            "marker": {
             "colorbar": {
              "outlinewidth": 1,
              "tickcolor": "rgb(36,36,36)",
              "ticks": "outside"
             }
            },
            "type": "scatterpolargl"
           }
          ],
          "scatterternary": [
           {
            "marker": {
             "colorbar": {
              "outlinewidth": 1,
              "tickcolor": "rgb(36,36,36)",
              "ticks": "outside"
             }
            },
            "type": "scatterternary"
           }
          ],
          "surface": [
           {
            "colorbar": {
             "outlinewidth": 1,
             "tickcolor": "rgb(36,36,36)",
             "ticks": "outside"
            },
            "colorscale": [
             [
              0,
              "#440154"
             ],
             [
              0.1111111111111111,
              "#482878"
             ],
             [
              0.2222222222222222,
              "#3e4989"
             ],
             [
              0.3333333333333333,
              "#31688e"
             ],
             [
              0.4444444444444444,
              "#26828e"
             ],
             [
              0.5555555555555556,
              "#1f9e89"
             ],
             [
              0.6666666666666666,
              "#35b779"
             ],
             [
              0.7777777777777778,
              "#6ece58"
             ],
             [
              0.8888888888888888,
              "#b5de2b"
             ],
             [
              1,
              "#fde725"
             ]
            ],
            "type": "surface"
           }
          ],
          "table": [
           {
            "cells": {
             "fill": {
              "color": "rgb(237,237,237)"
             },
             "line": {
              "color": "white"
             }
            },
            "header": {
             "fill": {
              "color": "rgb(217,217,217)"
             },
             "line": {
              "color": "white"
             }
            },
            "type": "table"
           }
          ]
         },
         "layout": {
          "annotationdefaults": {
           "arrowhead": 0,
           "arrowwidth": 1
          },
          "autotypenumbers": "strict",
          "coloraxis": {
           "colorbar": {
            "outlinewidth": 1,
            "tickcolor": "rgb(36,36,36)",
            "ticks": "outside"
           }
          },
          "colorscale": {
           "diverging": [
            [
             0,
             "rgb(103,0,31)"
            ],
            [
             0.1,
             "rgb(178,24,43)"
            ],
            [
             0.2,
             "rgb(214,96,77)"
            ],
            [
             0.3,
             "rgb(244,165,130)"
            ],
            [
             0.4,
             "rgb(253,219,199)"
            ],
            [
             0.5,
             "rgb(247,247,247)"
            ],
            [
             0.6,
             "rgb(209,229,240)"
            ],
            [
             0.7,
             "rgb(146,197,222)"
            ],
            [
             0.8,
             "rgb(67,147,195)"
            ],
            [
             0.9,
             "rgb(33,102,172)"
            ],
            [
             1,
             "rgb(5,48,97)"
            ]
           ],
           "sequential": [
            [
             0,
             "#440154"
            ],
            [
             0.1111111111111111,
             "#482878"
            ],
            [
             0.2222222222222222,
             "#3e4989"
            ],
            [
             0.3333333333333333,
             "#31688e"
            ],
            [
             0.4444444444444444,
             "#26828e"
            ],
            [
             0.5555555555555556,
             "#1f9e89"
            ],
            [
             0.6666666666666666,
             "#35b779"
            ],
            [
             0.7777777777777778,
             "#6ece58"
            ],
            [
             0.8888888888888888,
             "#b5de2b"
            ],
            [
             1,
             "#fde725"
            ]
           ],
           "sequentialminus": [
            [
             0,
             "#440154"
            ],
            [
             0.1111111111111111,
             "#482878"
            ],
            [
             0.2222222222222222,
             "#3e4989"
            ],
            [
             0.3333333333333333,
             "#31688e"
            ],
            [
             0.4444444444444444,
             "#26828e"
            ],
            [
             0.5555555555555556,
             "#1f9e89"
            ],
            [
             0.6666666666666666,
             "#35b779"
            ],
            [
             0.7777777777777778,
             "#6ece58"
            ],
            [
             0.8888888888888888,
             "#b5de2b"
            ],
            [
             1,
             "#fde725"
            ]
           ]
          },
          "colorway": [
           "#1F77B4",
           "#FF7F0E",
           "#2CA02C",
           "#D62728",
           "#9467BD",
           "#8C564B",
           "#E377C2",
           "#7F7F7F",
           "#BCBD22",
           "#17BECF"
          ],
          "font": {
           "color": "rgb(36,36,36)"
          },
          "geo": {
           "bgcolor": "white",
           "lakecolor": "white",
           "landcolor": "white",
           "showlakes": true,
           "showland": true,
           "subunitcolor": "white"
          },
          "hoverlabel": {
           "align": "left"
          },
          "hovermode": "closest",
          "mapbox": {
           "style": "light"
          },
          "paper_bgcolor": "white",
          "plot_bgcolor": "white",
          "polar": {
           "angularaxis": {
            "gridcolor": "rgb(232,232,232)",
            "linecolor": "rgb(36,36,36)",
            "showgrid": false,
            "showline": true,
            "ticks": "outside"
           },
           "bgcolor": "white",
           "radialaxis": {
            "gridcolor": "rgb(232,232,232)",
            "linecolor": "rgb(36,36,36)",
            "showgrid": false,
            "showline": true,
            "ticks": "outside"
           }
          },
          "scene": {
           "xaxis": {
            "backgroundcolor": "white",
            "gridcolor": "rgb(232,232,232)",
            "gridwidth": 2,
            "linecolor": "rgb(36,36,36)",
            "showbackground": true,
            "showgrid": false,
            "showline": true,
            "ticks": "outside",
            "zeroline": false,
            "zerolinecolor": "rgb(36,36,36)"
           },
           "yaxis": {
            "backgroundcolor": "white",
            "gridcolor": "rgb(232,232,232)",
            "gridwidth": 2,
            "linecolor": "rgb(36,36,36)",
            "showbackground": true,
            "showgrid": false,
            "showline": true,
            "ticks": "outside",
            "zeroline": false,
            "zerolinecolor": "rgb(36,36,36)"
           },
           "zaxis": {
            "backgroundcolor": "white",
            "gridcolor": "rgb(232,232,232)",
            "gridwidth": 2,
            "linecolor": "rgb(36,36,36)",
            "showbackground": true,
            "showgrid": false,
            "showline": true,
            "ticks": "outside",
            "zeroline": false,
            "zerolinecolor": "rgb(36,36,36)"
           }
          },
          "shapedefaults": {
           "fillcolor": "black",
           "line": {
            "width": 0
           },
           "opacity": 0.3
          },
          "ternary": {
           "aaxis": {
            "gridcolor": "rgb(232,232,232)",
            "linecolor": "rgb(36,36,36)",
            "showgrid": false,
            "showline": true,
            "ticks": "outside"
           },
           "baxis": {
            "gridcolor": "rgb(232,232,232)",
            "linecolor": "rgb(36,36,36)",
            "showgrid": false,
            "showline": true,
            "ticks": "outside"
           },
           "bgcolor": "white",
           "caxis": {
            "gridcolor": "rgb(232,232,232)",
            "linecolor": "rgb(36,36,36)",
            "showgrid": false,
            "showline": true,
            "ticks": "outside"
           }
          },
          "title": {
           "x": 0.05
          },
          "xaxis": {
           "automargin": true,
           "gridcolor": "rgb(232,232,232)",
           "linecolor": "rgb(36,36,36)",
           "showgrid": false,
           "showline": true,
           "ticks": "outside",
           "title": {
            "standoff": 15
           },
           "zeroline": false,
           "zerolinecolor": "rgb(36,36,36)"
          },
          "yaxis": {
           "automargin": true,
           "gridcolor": "rgb(232,232,232)",
           "linecolor": "rgb(36,36,36)",
           "showgrid": false,
           "showline": true,
           "ticks": "outside",
           "title": {
            "standoff": 15
           },
           "zeroline": false,
           "zerolinecolor": "rgb(36,36,36)"
          }
         }
        },
        "title": {
         "font": {
          "color": "Black",
          "size": 22
         },
         "text": "<b>Documents and Topics</b>",
         "x": 0.5,
         "xanchor": "center",
         "yanchor": "top"
        },
        "width": 1200,
        "xaxis": {
         "autorange": true,
         "range": [
          6.380454225663319,
          10.533886403571616
         ],
         "type": "linear",
         "visible": false
        },
        "yaxis": {
         "autorange": true,
         "range": [
          3.910892125237084,
          8.240514599733633
         ],
         "type": "linear",
         "visible": false
        }
       }
      },
      "image/png": "[encoded data removed]",
      "text/html": [
       "<div>                            <div id=\"14ea82fd-32a0-42ac-8209-8a892645d56e\" class=\"plotly-graph-div\" style=\"height:750px; width:1200px;\"></div>            <script type=\"text/javascript\">                require([\"plotly\"], function(Plotly) {                    window.PLOTLYENV=window.PLOTLYENV || {};                                    if (document.getElementById(\"14ea82fd-32a0-42ac-8209-8a892645d56e\")) {                    Plotly.newPlot(                        \"14ea82fd-32a0-42ac-8209-8a892645d56e\",                        [{\"hoverinfo\":\"text\",\"hovertext\":[\"Well, I like to make things. Right now I'm knitting and I find that when it's cold or when you can't go outside, it's nice to have something, has some handwork, something, whatever you like to do at embroidery or knit or.\",\"And I would've taken airplane flights, but they weren't available when I was that age. I was, I was born 1930, so just before the second World War started. In 1941 when Pearl Harbor was attacked, I was only 10 and it was, uh, that was really a change. Oh my goodness. Oh my goodness. It was a big change. There was so much, so much propaganda making us hate the Japanese for attacking Pearl Harbor.\",\"Something called the GI Bill, which was a wonderful bill that they put through Congress, which allowed any service man to go to college for free. For free. It was wonderful. So he, what he did is he came out here and he ended up going to Santa Clara University and he only had had two years before the war was ended, but they let him stay for four years and he got his education and we got married during that time and that was a really good decision.\",\"And I have a special book that I just love called The Four Agreements. I would really suggest you read the Four Agreements. It's a very simple way of looking at life and every, every day I think about one of the agreements about how it's affecting me and how I can interact with other people with more kindness and listening. You gotta learn to listen.\",\"There's so many lonely people that lately I've been writing postcards to people telling them, pass them on to somebody else. You know, fun. Make plans. I hope someday I can still go to Yellowstone. I haven't seen Yellowstone. I've seen a lot of the world, but not Yellowstone, but just you just have, have thoughts that are positive.\",\"And so I think our home attitude and how we lived was slower pace and. There was a, maybe some racial injustice, but I don't know. On the whole, I think people got along pretty well. I don't think there was a lot of of crime. There was also, there was always crime, but not overtly like there are in the big cities, the world.\",\"Well, I think that we're getting more open to changes in ideas, and I think that people, for instance, people who are gay or people who have different kinds of other things going on. We're, we don't judge them as like we did years ago, and I think that's very, very positive because I think whoever we are, that's who we are and we need to be all respected as God made us all certain ways and we have to just go, as they say, go of the flow. There's a lot of wonderful people, this world that aren't just exactly like each other. We're all a little different.\",\"Well, I think in some ways you know that we know things too quickly and I think it can make people who are worried type of people, I think it makes them very upset.\",\"We had enough, but we, it was ration and sugar, things like that. But the men who were fighting the war, they were given all kinds of meat that make them be more aggressive. So when they got back from the war, there were a lot of jobs. And they had plenty of money and they wanted meat, meat, meat. And that's when the big meat obsession started in America.\",\"And I have a special book that I just love called The Four Agreements. I would really suggest you read the Four Agreements. It's a very simple way of looking at life and every, every day I think about one of the agreements about how it's affecting me and how I can interact with other people with more kindness and listening. You gotta learn to listen.\",\"Anyway, what happened was they knew during depression that lot of people were wandering around cause they had, things were so bad, there weren't any jobs. It was really horrible and people were starving. So what they did is they set up camp and then they would go into the little town with the, the trains would stop, and this was after the hobos.\",\"So that was fun. So that was a, a very, very happy day for me and I really lucked out. One of the most important things now I realize in, in having a partner is to have a real partner. And my husband, I've been married to him now for over 70 years, and he never ever said to me when I asked him to help me, that's woman's work.\",\"And my husband's brother Bob was a Catholic priest, so he was there at our wedding. And then we had, we had a reception in the afternoon and that was fun. And then my parents had purchased a piece of land over along the ocean in Santa Cruz and they had beginning of a house there, so that's where we were,  for the first few days of our honeymoon.\",\"Well, I think the computer industry, there's good things about it, but there's a lot about it that I don't like. I don't, I don't like Facebook. I won't have any part of Facebook and cause people don't, young people especially don't know how to manage it. They tell too many of their secrets that they let people frighten them and get them depressed. You know, that wasn't the intention to start. \",\"The thing is that during the second world, The people who created food, they started planage and they had a big plan when the war was over. They had all these things that they made, which they called food and it put it in boxes, but it really wasn't food anymore. But people got conned and people started getting, what happened was during the war, We had rationing as far as meat.\",\"Well, like I said, I think it's fun to garden. I think it's fun sometimes in the year that too, you can walk and enjoy. Enjoy the scenery. We have lots of beautiful flowers here in California and I think it's wonderful to cook and bake right now during this virus we're having, having. \",\"My wedding, well, we were married pretty close after the second World War, uh, it stopped. So things were, there wasn't a lot of. bridal Things and things to buy first. Cause when you have a war, then changing the transition, it's almost like an earthquake. I mean, it takes a long time to ever have everything settled down. So anyway, we were Catholic and we, they started having, they called nuptual masses, which meant it was a mass in which, which a celebration during which you were married.\",\"What actually happened to me, I, when I started working, I told my husband, I'm taking out a savings account at the bank just for my money, because when I get enough of it, I'm gonna take you on a trip. So when I got enough of it, I took him to Austria, where his relatives were from, so I was able to make my dream come true.\",\"Now I think the parents have a big responsibility to not allow their children to be on, on games. A, you know, certain amount of time a day, fine, but not for, not constantly. Cause you need, you need to get to know People and talk to people and interact. You need a lot of different things in this world. If you go to college and you learn everything from a book and you haven't learned from experience, uh, it just doesn't work. Uh, you have to have the experience of interaction with people and doing things plus the book learning, and then you're a rounded.\",null],\"marker\":{\"color\":\"#CFD8DC\",\"opacity\":0.5,\"size\":5},\"mode\":\"markers+text\",\"name\":\"other\",\"showlegend\":false,\"x\":[8.266946792602539,8.760498046875,7.978377342224121,7.908355712890625,7.929466724395752,7.938891887664795,7.733495712280273,7.598862648010254,7.910534858703613,7.8750691413879395,7.898691654205322,8.727531433105469,8.86514663696289,8.289307594299316,7.9125165939331055,8.316153526306152,8.679322242736816,8.4224214553833,8.409238815307617,8.180044174194336],\"y\":[5.580258846282959,6.18031644821167,7.102916717529297,5.195911884307861,5.803174018859863,6.134153842926025,5.58027458190918,5.796370983123779,7.0450873374938965,5.151130199432373,6.723140716552734,5.901499271392822,6.314302921295166,5.3102850914001465,7.011022090911865,5.853627681732178,6.522361755371094,6.3409552574157715,5.243406772613525,6.041589260101318],\"type\":\"scattergl\"},{\"hoverinfo\":\"text\",\"hovertext\":[\"Yep, very very important. It makes you ready for be to be a salesman if you have that interview. All kinds of things start out when you're young and you develop them.\",\"Well, my dad. I had a friend that came over and they built me a playhouse in the backyard. And the most fun, I had a neighbor across the street, Patty Jackson, and she and I, my mother would give me her old, uh, curtain for the living room. And we'd put on hats and we'd get, we'd put on old high heels and we'd just walk around the block, all dressed up.\",\"What was the biggest milestone? Mm-hmm. . I don't know. Let me think about that. Well, you know, a lot of the milestones are not milestones at the time. You don't think of it that way. And I think if your attitude is positive and open, I don't think the milestones look like milestones. You look back on 'em and they are milestones for, for sure.\",\"I don't do that. He helped me with everything. We just did everything together. And looking back, it was just a miracle that I found a man who had that kinda a good, positive attitude. He was from a large family, he liked. Having a large family, so we ended up having a large family, and now I have a lot of my daughters and my sons. They're wonderful, wonderful people, and they've grown up to be very responsible and very proud of them. \",\"But I had, I wanted a big family because I was born in a family that was not big and I was bored. And my father, I don't know if you know what a hobo is. A hobo is somebody who rides the rails, rides the rails, and my father had a lot of adventures before the first World War. He was born in eighteen eighty nine, two years before the turn of Century, and so about probably about 1915.\",\"And if you don't follow that, it usually you've fallen a in a ditch along the way. You really need to listen to your spirit. Your spirit guides you beautifully, beautifully. And what happened to me when all my children got to school, I wanted to have a little job. . So I had a friend that worked for adult education here in Santa Clara Valley, and she told me how I could get a job as an aide.\",\"Whatever, and then they'd share their food and then sometimes they'd go into town and try to see if they get rake leaves or do some work for people, make a meal. And so they could get a meal or something from the P, the homeowners, but they weren't, they were good people. They were just, As we say, we're just moving around and enjoying things, and sometimes when things got real tough in depression later, some people would leave home just because it would make it easier on the parents to feed the younger children.\",\"I ended up teaching. I ended up teaching in a woman's jail for six years. I later ended up teaching seniors for six years and helping one of my sons go to college. But it really, if I could give one, one advice to everybody is listen to your gut or your spirit, whatever you wanna call it. That's my message and it really changed my life.\",\"So I got a job as an aide with another teacher for $5 an hour and wasn't a lot of money, but it was quite a while ago and it was fun. So I did that two or three mornings a week, but I decided that I didn't wanna work with this teacher anymore. I listened to my gut. And I didn't have to work, so I thought, why should I do something that I don't wanna be doing with a person I don't want to be doing it with?\",\"Well, you're a wonderful, wonderful granddaughter and I'm very proud of what you're doing, and I can't see what you're gonna do in the next years.\",\"Well, actually, I somehow learned how important it was to listen to your gut or your spirit, whatever you wanna call it, because there's some sort of a little situation inside your Body that your mind or your spirit that tells you what to do if you, if you tune into it.\",\"I feel for the younger generation, very much that they're too attached to the, to their, the games and all the things they do inside. There's not enough recreation outside. Uh, when our family grew up on the street, there was, oh, maybe like 20 kids and playing outside in the, playing baseball and having, just playing, plain fun.\",\"I went to college for one year, and then I was a mom and I really loved being a mom. So we had numerous children and they were all very active doing things, making things, being active. Boys all had paper routes and had a little bit of money that way, and the girls did a lot of babysitting and a lot of sewing, and a lot of helping canning fruit.\",\"We had so much. It was, it was a delight. And after my husband and I got married, we took, we took that playhouse apart and took it over to where we had our first tract home in 1950 and we put it up and so our children were able to enjoy that playhouse also. So I think getting, having time to grow up and be kids is very, very important. Very, very important. We really have to work hard on letting children be children.\",\"And so they, they traveled. They weren't afraid of their world. It was my intention that my children would all be not afraid of the world. My father taught me not to be afraid of the world and enjoy it. And that's what I try to impart with our children.\",\"Well, I always wanted to be an attorney. And the funny thing is that when I met my husband and I went back, he was from Illinois and I went back and met his family. His oldest brother was an attorney who was born on my birthday. So , I guess he became the attorney and I didn't. But uh, no, I. I'm glad I didn't become an attorney.\",\"So I talked to my lady that was in charge of the adult education and then we talked about it and she looked at me after a while and she said, I can. Make you a full fledged teacher in one subject. So in that conversation I was able to switch from $5 an hour to 17.50 an hour, and it was all because I listened to my gut and my life changed so radically.\",\"If you could speak to your younger self, what advice would you give? Hmm. Well, I don't, it was really interesting. When I was growing up, there were three choices for women. To work as a job, a secretary, nurse, or teacher. And none of those appealed to me at my young age. And so when I met my husband to be, he had gotten out of the service. Second World War was over and he had.\",\"But I was only, I had a sister. When I was nine years old, my mother had a little girl, my sister, and when she was three years old and I was 12 years old, I knit her a sweater, a little red sweater. I'll never forget it, and I'm so proud of that in my own heart. So I think the things we can create are just very, very important. Yes. \",\"They maybe still call hobos, but they would take them off the train and they'd say, come on, we're gonna take you the camp and we're gonna get, we're gonna feed you and we're gonna give you some clean clothes. New clothes. So they take them out to the camps and they let 'em have a shower. They, shave em. And one time I heard a recording similar to the one I'm making here about, and a man was telling about he was the one that was rescued from one of these situations where he was hungry, so hungry, they didn't know what he was gonna do.\",\"You know something, I don't think I would take you up on that. Cause you know, life is a real mixture and there's wonderful, and there's some things you don't wanna live agains. So, um, I think my childhood was very, very happy. I had a happy life so, I really don't know that I'd wanna live any of my years again. They were, I had wonderful times raising our children. We decided to have a large family and so we ended up with six daughters and four sons and they're all alive and doing well today. Very proud of them. And, uh, our son, Toby, is living at Pittsburgh and he has a daughter named Taylor who is doing this podcast. So that's where I'm at. \",\"I, I would've liked to learn all those things, but it's a very stressful life and I don't know, I think I enjoyed what I did better. And in those days anyway, there was a lot of different things that we did with our children and they learned all kinds of things. They, I had them Involved in traveling and all kinds of things and camping and just doing all kinds of things, going to the beach.\",null],\"marker\":{\"opacity\":0.5,\"size\":5},\"mode\":\"markers+text\",\"name\":\"0_children_dont_family\",\"text\":[\"\",\"\",\"\",\"\",\"\",\"\",\"\",\"\",\"\",\"\",\"\",\"\",\"\",\"\",\"\",\"\",\"\",\"\",\"\",\"\",\"\",\"\",\"0_children_dont_family\"],\"textfont\":{\"size\":12},\"x\":[9.014761924743652,8.82277774810791,8.696770668029785,8.510865211486816,8.500779151916504,8.548493385314941,8.134660720825195,8.854077339172363,8.678378105163574,8.518807411193848,8.287467002868652,8.311360359191895,8.777094841003418,8.747781753540039,8.528889656066895,9.15589714050293,8.83440113067627,9.11170482635498,8.718968391418457,8.023116111755371,8.49754810333252,9.071758270263672,8.652107238769531],\"y\":[5.12400484085083,5.973409175872803,5.0299530029296875,5.242972373962402,6.473405361175537,4.814947128295898,6.186052322387695,4.881479740142822,4.71525764465332,4.974926948547363,4.896025657653809,5.525637149810791,5.323362827301025,5.344703197479248,5.994174957275391,5.252786636352539,4.609985828399658,5.210772514343262,5.552856922149658,6.902715682983398,5.102651119232178,5.58344841003418,5.39616060256958],\"type\":\"scattergl\"},{\"hoverinfo\":\"text\",\"hovertext\":[\"Still, I don't know if you've heard about it, but there's something in the forties was called the CCC conservation corps. And we had a president called President Franklin Delenor Roosevelt, and in my mind, in my husband's mind, we think he's a wonderful man. He's behind a whole social security program and thank goodness we have social security.\",\"Yes. Yes. Yes. And right now I understand, you know, there's a huge amount of people that are trying to call you up and scare you, and they tell you that the IRS wants to get, is gonna get you in different things and they're, they're just doing all kinds of terrible, stealing money from people and just doing all sorts of evil things to kind people who are at home and who are not ready for being hacked and being tripped very bad.\",\"Yep. I had it happen to me one day and I fell for it till I woken and I turned it around, but it could happen to anybody. It's amazing how they con you. So anyway, you have to really be on your toes and realize that certain governmental offices, like the irs, et cetera, theyll not call you on the phone if they wanna get hold of you. They do it by mail. \",\"Hmm. Good telephones. I think the telephone systems are horrible now, and then having all those brutal phone calls come through all the time. It's disgusting. I think a lot of their people that are in Congress don't know what to do about these kinda things, and so they just ignore them. And we gotta to say, we have to suffer by having these bad phone calls come in and interrupt our day so many times.\",\"Taylor : Yeah. We don't like those scam callers\",\"He said. He said, I'll never forget that day in my life when they took us to the camp and we showered and we got clean clothes and I had the most wonderful breakfast. I had all the bacon and eggs and toast and coffee I ever wanted. He said it changed my whole life. So Franklin Roosevelt set up this conservation  corp and All, all kinds of things that they did in the countryside. Probably fixed bridges and fixed roads that they made work. You have to do that when you have trouble. We're having the same situation now, so we're gonna pray that things change. \",\"That's right. One was called the wpa, and even today, if you're driving along Country Roads, you'll see, where's there's a little bridge You'll see wpa. A lot of people don't know what that means but they are still around. All the things that they did. Now a lot of it needs to be redone because over time things do disintegrate.\",\"Well, I think that the last four years have been such a disaster that I think we're gonna all work together for the future in a happier mode and get things done. Just simple things. Basically, people need jobs and they need to be cared about, and we, the bottom line is we have to care about each other. We can't judge people. We have to work with them and try to bring out the best. People have a lot of good characteristics and we have to bring it out and help them get educated, but also help the good jobs. And I think it's gonna happen. I really do. Cause I think we're gonna have a wonderful administration and a lot of people working for positive results. \",\"Like right now when the virus we're going through. I've noticed that there's so much fear. I, I don't mean to say that I'm not afraid. I don't, I don't wanna get the virus, but I don't want it to ruin my life. Every day when I get up to worry, worry, worry. I don't think that's what we can do. Whenever I start worrying too much, I know it's time to make a pot of soup so I can share soup with a neighbor. You know? We just have to not, not worry. That's not the message. \",\"He started riding the rails and he told me that he had ridden, at that time there were 48 states and he told me that he had been in 46 in the 48 states, and they would ride the rails and then when a freight train would stop, it was freight cars. When a freight train would stop, they'd all get out, whoever was on the train, get out, they'd find a tree or someplace they could get out of the shade, get in the shade.\",null],\"marker\":{\"opacity\":0.5,\"size\":5},\"mode\":\"markers+text\",\"name\":\"1_dont_things_people\",\"text\":[\"\",\"\",\"\",\"\",\"\",\"\",\"\",\"\",\"\",\"\",\"1_dont_things_people\"],\"textfont\":{\"size\":12},\"x\":[7.782901763916016,7.7633161544799805,7.779290676116943,7.592486381530762,7.613439559936523,7.658567428588867,7.647282600402832,7.66385555267334,7.563298225402832,7.984482288360596,7.704892158508301],\"y\":[7.017843723297119,6.742898941040039,6.812601089477539,6.484128475189209,6.716758728027344,6.849137783050537,6.757966995239258,5.528783798217773,5.931482315063477,7.017062664031982,6.5858659744262695],\"type\":\"scattergl\"},{\"hoverinfo\":\"text\",\"hovertext\":[\"That's right. That's right. Oh, I love polenta. I have a wonderful recipe for polenta. I think it's fun to find, I call 'em peasant recipes. It's what the peasants used to eat real simple food like soups and polenta and lots of pastas and salads. Lots of fun things. Yeah, that sounds good. Yep. My husband's 95 and he still has his hair, I said, thank me I didn't feed you stuff that make your hair fall out. \",\"Every, so many people I talked to were making sourdough bread. In fact, a couple came over yesterday and brought me some of the couple slices of her bread. Oh, is it delicious. So it's, it takes a lot of energy to make sourdough, cuz you have to time it. Boy was delicious. So making, making food is fun. \",\"Well, I am working very hard on not going to a facility. My husband and, I wanna stay our home, and I think you  have to keep. Like thinking forward. You have to think forward and think happy thoughts and do things together with people, do things together. I like to write letters.\",\"Uh, have, repeat that question. Oh, comfort food. Yes. A comfort food. Well, you know what? I love tapioca pudding and I haven't made it for a long time. And, and you put later on, at the end of it, you fold in the egg whites and so it's kindy, it's wonderful. I love tapioca, pudding. It's really good. I like it. Yeah, good for you too. You know, tapioca is from a root, and it was in Asia, I think, and you couldn't get it much during the second World War. So what was the other question? \",\"And that's why now we have so many sick people because of they, they're so unbalanced and they're the way they eat. There's a lot of information out now about how to eat. And you can find it if you look for it. Cause it's, it's getting stronger and stronger. Cause we have to get well, we have to take care of ourselves. So I'm actually now a vegetarian and I really enjoy all kinds of good things\",\" Oh, I never even, oh, I thought for sure. I was born in 1930 and I used to think about Uh, the turn of the century and I thought I was 70 years old. Oh my goodness. No, I'll be dead by then. So being alive now at 90 is a big shock, but luckily I'm in pretty good shape. You get tired. That's the one only thing about being 90. You do get tired, but just try to eat a lot of vegetables and fruit and grains and stay away from the meat, that's my advice. \",\"Read or write or anything to fill the cracks in the day. And it's really been fun. I've gotten to know a lady from church that likes to knit also, we've been sharing different patterns and different things and having a lot of laughter. It's been fun. So I think it's very, it's tranquilizing. You don't have to take tranquilizers or all kinds of pills when you do hand work because your mind just escapes the everyday life, the everyday world.\",\"Polenta and lots of pastas and salads. Lots of fun things. Yeah, that sounds good. Yep. My husband's 95 and he still has his hair, I said, thank me I didn't feed you stuff that make your hair fall out. \",null],\"marker\":{\"opacity\":0.5,\"size\":5},\"mode\":\"markers+text\",\"name\":\"2_oh_good_fun\",\"text\":[\"\",\"\",\"\",\"\",\"\",\"\",\"\",\"\",\"2_oh_good_fun\"],\"textfont\":{\"size\":12},\"x\":[8.234237670898438,8.045816421508789,8.08321475982666,8.004756927490234,7.930545806884766,8.359196662902832,8.176559448242188,8.386402130126953,8.152591705322266],\"y\":[6.171468734741211,6.130606174468994,5.338174343109131,6.716487884521484,6.763784408569336,6.378185749053955,5.5722551345825195,6.445950031280518,6.189614295959473],\"type\":\"scattergl\"},{\"hoverinfo\":\"text\",\"hovertext\":[\"So then it became Japan-town. So even today in San Jose, we have a wonderful Japan town and so I love to take people there cuz it's like, it's like going to San Francisco, but we don't have to drive 50 miles away. So I love if you ever come to San Jose, go to Japan Town and have lunch or dinner. It's really fun.\",\"It was really a bad time as far as, you know, turning on hate onto each. It was bad, but a good thing happened in our downtown San Jose. About that time, I don't know exactly what it was, there was a, a group of Chinese people that lived down there. And anyway, some of the Europeans came in one night and burned them all out, and it was a terrible shock. And also a German man gave the Chinese people a few acres to start a new community. Just a few, a few miles away. Which was incredibly wonderful. And after a while there was a lot of Chinese people there and then slowly they kind of moved in different places in San Jose. And so after the second World War, the Japanese people settled in the same area mostly.\",\"Hmm. Legal. I have to think about that one for a while.When you have cities that are, that are not, uh, overpopulated, people get along better than they do. They, they've made tests with, uh, with animals and they've found that there's a lot more aggression when you have too many people, or in that case, animals taking over a certain amount of space. So by living in Santa Clara and also going to Santa Jose of high school, we weren't, uh, overcrowded.\",\"First of all, I still have a strong voice at the age of 90, so a lot of people on the phone don't think I'm 90, but this year I am 90 and I have lived in Santa Clara Valley, which is now called Silicon Valley, oh, most of my life. It's a wonderful place to live. Wonderful weather. Close to the ocean. So that's where I grew up and it was a, I grew up in a town of Santa Clara, which was right next to San Jose, and it was a town of 5,000 people at the time. Very low key, very nice place to grow up. It was able to ride my bicycle all over the place. Had a lot of freedom. So that's me.\",\"That's an interesting question. I. That's interesting. I, I took a train trip I remember from San Jose to Los Angeles when I was 10, just before Pearl Harbor that year, and that was very exciting.\",null],\"marker\":{\"opacity\":0.5,\"size\":5},\"mode\":\"markers+text\",\"name\":\"3_jose_san_people\",\"text\":[\"\",\"\",\"\",\"\",\"\",\"3_jose_san_people\"],\"textfont\":{\"size\":12},\"x\":[8.488692283630371,8.357741355895996,8.231507301330566,8.407612800598145,8.665834426879883,8.430277824401855],\"y\":[6.178221225738525,6.311546325683594,6.1745805740356445,5.847612380981445,6.346625804901123,6.171717643737793],\"type\":\"scattergl\"}],                        {\"template\":{\"data\":{\"barpolar\":[{\"marker\":{\"line\":{\"color\":\"white\",\"width\":0.5},\"pattern\":{\"fillmode\":\"overlay\",\"size\":10,\"solidity\":0.2}},\"type\":\"barpolar\"}],\"bar\":[{\"error_x\":{\"color\":\"rgb(36,36,36)\"},\"error_y\":{\"color\":\"rgb(36,36,36)\"},\"marker\":{\"line\":{\"color\":\"white\",\"width\":0.5},\"pattern\":{\"fillmode\":\"overlay\",\"size\":10,\"solidity\":0.2}},\"type\":\"bar\"}],\"carpet\":[{\"aaxis\":{\"endlinecolor\":\"rgb(36,36,36)\",\"gridcolor\":\"white\",\"linecolor\":\"white\",\"minorgridcolor\":\"white\",\"startlinecolor\":\"rgb(36,36,36)\"},\"baxis\":{\"endlinecolor\":\"rgb(36,36,36)\",\"gridcolor\":\"white\",\"linecolor\":\"white\",\"minorgridcolor\":\"white\",\"startlinecolor\":\"rgb(36,36,36)\"},\"type\":\"carpet\"}],\"choropleth\":[{\"colorbar\":{\"outlinewidth\":1,\"tickcolor\":\"rgb(36,36,36)\",\"ticks\":\"outside\"},\"type\":\"choropleth\"}],\"contourcarpet\":[{\"colorbar\":{\"outlinewidth\":1,\"tickcolor\":\"rgb(36,36,36)\",\"ticks\":\"outside\"},\"type\":\"contourcarpet\"}],\"contour\":[{\"colorbar\":{\"outlinewidth\":1,\"tickcolor\":\"rgb(36,36,36)\",\"ticks\":\"outside\"},\"colorscale\":[[0.0,\"#440154\"],[0.1111111111111111,\"#482878\"],[0.2222222222222222,\"#3e4989\"],[0.3333333333333333,\"#31688e\"],[0.4444444444444444,\"#26828e\"],[0.5555555555555556,\"#1f9e89\"],[0.6666666666666666,\"#35b779\"],[0.7777777777777778,\"#6ece58\"],[0.8888888888888888,\"#b5de2b\"],[1.0,\"#fde725\"]],\"type\":\"contour\"}],\"heatmapgl\":[{\"colorbar\":{\"outlinewidth\":1,\"tickcolor\":\"rgb(36,36,36)\",\"ticks\":\"outside\"},\"colorscale\":[[0.0,\"#440154\"],[0.1111111111111111,\"#482878\"],[0.2222222222222222,\"#3e4989\"],[0.3333333333333333,\"#31688e\"],[0.4444444444444444,\"#26828e\"],[0.5555555555555556,\"#1f9e89\"],[0.6666666666666666,\"#35b779\"],[0.7777777777777778,\"#6ece58\"],[0.8888888888888888,\"#b5de2b\"],[1.0,\"#fde725\"]],\"type\":\"heatmapgl\"}],\"heatmap\":[{\"colorbar\":{\"outlinewidth\":1,\"tickcolor\":\"rgb(36,36,36)\",\"ticks\":\"outside\"},\"colorscale\":[[0.0,\"#440154\"],[0.1111111111111111,\"#482878\"],[0.2222222222222222,\"#3e4989\"],[0.3333333333333333,\"#31688e\"],[0.4444444444444444,\"#26828e\"],[0.5555555555555556,\"#1f9e89\"],[0.6666666666666666,\"#35b779\"],[0.7777777777777778,\"#6ece58\"],[0.8888888888888888,\"#b5de2b\"],[1.0,\"#fde725\"]],\"type\":\"heatmap\"}],\"histogram2dcontour\":[{\"colorbar\":{\"outlinewidth\":1,\"tickcolor\":\"rgb(36,36,36)\",\"ticks\":\"outside\"},\"colorscale\":[[0.0,\"#440154\"],[0.1111111111111111,\"#482878\"],[0.2222222222222222,\"#3e4989\"],[0.3333333333333333,\"#31688e\"],[0.4444444444444444,\"#26828e\"],[0.5555555555555556,\"#1f9e89\"],[0.6666666666666666,\"#35b779\"],[0.7777777777777778,\"#6ece58\"],[0.8888888888888888,\"#b5de2b\"],[1.0,\"#fde725\"]],\"type\":\"histogram2dcontour\"}],\"histogram2d\":[{\"colorbar\":{\"outlinewidth\":1,\"tickcolor\":\"rgb(36,36,36)\",\"ticks\":\"outside\"},\"colorscale\":[[0.0,\"#440154\"],[0.1111111111111111,\"#482878\"],[0.2222222222222222,\"#3e4989\"],[0.3333333333333333,\"#31688e\"],[0.4444444444444444,\"#26828e\"],[0.5555555555555556,\"#1f9e89\"],[0.6666666666666666,\"#35b779\"],[0.7777777777777778,\"#6ece58\"],[0.8888888888888888,\"#b5de2b\"],[1.0,\"#fde725\"]],\"type\":\"histogram2d\"}],\"histogram\":[{\"marker\":{\"line\":{\"color\":\"white\",\"width\":0.6}},\"type\":\"histogram\"}],\"mesh3d\":[{\"colorbar\":{\"outlinewidth\":1,\"tickcolor\":\"rgb(36,36,36)\",\"ticks\":\"outside\"},\"type\":\"mesh3d\"}],\"parcoords\":[{\"line\":{\"colorbar\":{\"outlinewidth\":1,\"tickcolor\":\"rgb(36,36,36)\",\"ticks\":\"outside\"}},\"type\":\"parcoords\"}],\"pie\":[{\"automargin\":true,\"type\":\"pie\"}],\"scatter3d\":[{\"line\":{\"colorbar\":{\"outlinewidth\":1,\"tickcolor\":\"rgb(36,36,36)\",\"ticks\":\"outside\"}},\"marker\":{\"colorbar\":{\"outlinewidth\":1,\"tickcolor\":\"rgb(36,36,36)\",\"ticks\":\"outside\"}},\"type\":\"scatter3d\"}],\"scattercarpet\":[{\"marker\":{\"colorbar\":{\"outlinewidth\":1,\"tickcolor\":\"rgb(36,36,36)\",\"ticks\":\"outside\"}},\"type\":\"scattercarpet\"}],\"scattergeo\":[{\"marker\":{\"colorbar\":{\"outlinewidth\":1,\"tickcolor\":\"rgb(36,36,36)\",\"ticks\":\"outside\"}},\"type\":\"scattergeo\"}],\"scattergl\":[{\"marker\":{\"colorbar\":{\"outlinewidth\":1,\"tickcolor\":\"rgb(36,36,36)\",\"ticks\":\"outside\"}},\"type\":\"scattergl\"}],\"scattermapbox\":[{\"marker\":{\"colorbar\":{\"outlinewidth\":1,\"tickcolor\":\"rgb(36,36,36)\",\"ticks\":\"outside\"}},\"type\":\"scattermapbox\"}],\"scatterpolargl\":[{\"marker\":{\"colorbar\":{\"outlinewidth\":1,\"tickcolor\":\"rgb(36,36,36)\",\"ticks\":\"outside\"}},\"type\":\"scatterpolargl\"}],\"scatterpolar\":[{\"marker\":{\"colorbar\":{\"outlinewidth\":1,\"tickcolor\":\"rgb(36,36,36)\",\"ticks\":\"outside\"}},\"type\":\"scatterpolar\"}],\"scatter\":[{\"fillpattern\":{\"fillmode\":\"overlay\",\"size\":10,\"solidity\":0.2},\"type\":\"scatter\"}],\"scatterternary\":[{\"marker\":{\"colorbar\":{\"outlinewidth\":1,\"tickcolor\":\"rgb(36,36,36)\",\"ticks\":\"outside\"}},\"type\":\"scatterternary\"}],\"surface\":[{\"colorbar\":{\"outlinewidth\":1,\"tickcolor\":\"rgb(36,36,36)\",\"ticks\":\"outside\"},\"colorscale\":[[0.0,\"#440154\"],[0.1111111111111111,\"#482878\"],[0.2222222222222222,\"#3e4989\"],[0.3333333333333333,\"#31688e\"],[0.4444444444444444,\"#26828e\"],[0.5555555555555556,\"#1f9e89\"],[0.6666666666666666,\"#35b779\"],[0.7777777777777778,\"#6ece58\"],[0.8888888888888888,\"#b5de2b\"],[1.0,\"#fde725\"]],\"type\":\"surface\"}],\"table\":[{\"cells\":{\"fill\":{\"color\":\"rgb(237,237,237)\"},\"line\":{\"color\":\"white\"}},\"header\":{\"fill\":{\"color\":\"rgb(217,217,217)\"},\"line\":{\"color\":\"white\"}},\"type\":\"table\"}]},\"layout\":{\"annotationdefaults\":{\"arrowhead\":0,\"arrowwidth\":1},\"autotypenumbers\":\"strict\",\"coloraxis\":{\"colorbar\":{\"outlinewidth\":1,\"tickcolor\":\"rgb(36,36,36)\",\"ticks\":\"outside\"}},\"colorscale\":{\"diverging\":[[0.0,\"rgb(103,0,31)\"],[0.1,\"rgb(178,24,43)\"],[0.2,\"rgb(214,96,77)\"],[0.3,\"rgb(244,165,130)\"],[0.4,\"rgb(253,219,199)\"],[0.5,\"rgb(247,247,247)\"],[0.6,\"rgb(209,229,240)\"],[0.7,\"rgb(146,197,222)\"],[0.8,\"rgb(67,147,195)\"],[0.9,\"rgb(33,102,172)\"],[1.0,\"rgb(5,48,97)\"]],\"sequential\":[[0.0,\"#440154\"],[0.1111111111111111,\"#482878\"],[0.2222222222222222,\"#3e4989\"],[0.3333333333333333,\"#31688e\"],[0.4444444444444444,\"#26828e\"],[0.5555555555555556,\"#1f9e89\"],[0.6666666666666666,\"#35b779\"],[0.7777777777777778,\"#6ece58\"],[0.8888888888888888,\"#b5de2b\"],[1.0,\"#fde725\"]],\"sequentialminus\":[[0.0,\"#440154\"],[0.1111111111111111,\"#482878\"],[0.2222222222222222,\"#3e4989\"],[0.3333333333333333,\"#31688e\"],[0.4444444444444444,\"#26828e\"],[0.5555555555555556,\"#1f9e89\"],[0.6666666666666666,\"#35b779\"],[0.7777777777777778,\"#6ece58\"],[0.8888888888888888,\"#b5de2b\"],[1.0,\"#fde725\"]]},\"colorway\":[\"#1F77B4\",\"#FF7F0E\",\"#2CA02C\",\"#D62728\",\"#9467BD\",\"#8C564B\",\"#E377C2\",\"#7F7F7F\",\"#BCBD22\",\"#17BECF\"],\"font\":{\"color\":\"rgb(36,36,36)\"},\"geo\":{\"bgcolor\":\"white\",\"lakecolor\":\"white\",\"landcolor\":\"white\",\"showlakes\":true,\"showland\":true,\"subunitcolor\":\"white\"},\"hoverlabel\":{\"align\":\"left\"},\"hovermode\":\"closest\",\"mapbox\":{\"style\":\"light\"},\"paper_bgcolor\":\"white\",\"plot_bgcolor\":\"white\",\"polar\":{\"angularaxis\":{\"gridcolor\":\"rgb(232,232,232)\",\"linecolor\":\"rgb(36,36,36)\",\"showgrid\":false,\"showline\":true,\"ticks\":\"outside\"},\"bgcolor\":\"white\",\"radialaxis\":{\"gridcolor\":\"rgb(232,232,232)\",\"linecolor\":\"rgb(36,36,36)\",\"showgrid\":false,\"showline\":true,\"ticks\":\"outside\"}},\"scene\":{\"xaxis\":{\"backgroundcolor\":\"white\",\"gridcolor\":\"rgb(232,232,232)\",\"gridwidth\":2,\"linecolor\":\"rgb(36,36,36)\",\"showbackground\":true,\"showgrid\":false,\"showline\":true,\"ticks\":\"outside\",\"zeroline\":false,\"zerolinecolor\":\"rgb(36,36,36)\"},\"yaxis\":{\"backgroundcolor\":\"white\",\"gridcolor\":\"rgb(232,232,232)\",\"gridwidth\":2,\"linecolor\":\"rgb(36,36,36)\",\"showbackground\":true,\"showgrid\":false,\"showline\":true,\"ticks\":\"outside\",\"zeroline\":false,\"zerolinecolor\":\"rgb(36,36,36)\"},\"zaxis\":{\"backgroundcolor\":\"white\",\"gridcolor\":\"rgb(232,232,232)\",\"gridwidth\":2,\"linecolor\":\"rgb(36,36,36)\",\"showbackground\":true,\"showgrid\":false,\"showline\":true,\"ticks\":\"outside\",\"zeroline\":false,\"zerolinecolor\":\"rgb(36,36,36)\"}},\"shapedefaults\":{\"fillcolor\":\"black\",\"line\":{\"width\":0},\"opacity\":0.3},\"ternary\":{\"aaxis\":{\"gridcolor\":\"rgb(232,232,232)\",\"linecolor\":\"rgb(36,36,36)\",\"showgrid\":false,\"showline\":true,\"ticks\":\"outside\"},\"baxis\":{\"gridcolor\":\"rgb(232,232,232)\",\"linecolor\":\"rgb(36,36,36)\",\"showgrid\":false,\"showline\":true,\"ticks\":\"outside\"},\"bgcolor\":\"white\",\"caxis\":{\"gridcolor\":\"rgb(232,232,232)\",\"linecolor\":\"rgb(36,36,36)\",\"showgrid\":false,\"showline\":true,\"ticks\":\"outside\"}},\"title\":{\"x\":0.05},\"xaxis\":{\"automargin\":true,\"gridcolor\":\"rgb(232,232,232)\",\"linecolor\":\"rgb(36,36,36)\",\"showgrid\":false,\"showline\":true,\"ticks\":\"outside\",\"title\":{\"standoff\":15},\"zeroline\":false,\"zerolinecolor\":\"rgb(36,36,36)\"},\"yaxis\":{\"automargin\":true,\"gridcolor\":\"rgb(232,232,232)\",\"linecolor\":\"rgb(36,36,36)\",\"showgrid\":false,\"showline\":true,\"ticks\":\"outside\",\"title\":{\"standoff\":15},\"zeroline\":false,\"zerolinecolor\":\"rgb(36,36,36)\"}}},\"shapes\":[{\"line\":{\"color\":\"#CFD8DC\",\"width\":2},\"type\":\"line\",\"x0\":8.479042601585387,\"x1\":8.479042601585387,\"y0\":3.9184879541397093,\"y1\":8.16835422515869},{\"line\":{\"color\":\"#9E9E9E\",\"width\":2},\"type\":\"line\",\"x0\":6.428803491592407,\"x1\":10.529281711578369,\"y0\":6.0434210896492,\"y1\":6.0434210896492}],\"annotations\":[{\"showarrow\":false,\"text\":\"D1\",\"x\":6.428803491592407,\"y\":6.0434210896492,\"yshift\":10},{\"showarrow\":false,\"text\":\"D2\",\"x\":8.479042601585387,\"xshift\":10,\"y\":8.16835422515869}],\"title\":{\"font\":{\"size\":22,\"color\":\"Black\"},\"text\":\"<b>Documents and Topics</b>\",\"x\":0.5,\"xanchor\":\"center\",\"yanchor\":\"top\"},\"width\":1200,\"height\":750,\"xaxis\":{\"visible\":false},\"yaxis\":{\"visible\":false}},                        {\"responsive\": true}                    ).then(function(){\n",
       "                            \n",
       "var gd = document.getElementById('14ea82fd-32a0-42ac-8209-8a892645d56e');\n",
       "var x = new MutationObserver(function (mutations, observer) {{\n",
       "        var display = window.getComputedStyle(gd).display;\n",
       "        if (!display || display === 'none') {{\n",
       "            console.log([gd, 'removed!']);\n",
       "            Plotly.purge(gd);\n",
       "            observer.disconnect();\n",
       "        }}\n",
       "}});\n",
       "\n",
       "// Listen for the removal of the full notebook cells\n",
       "var notebookContainer = gd.closest('#notebook-container');\n",
       "if (notebookContainer) {{\n",
       "    x.observe(notebookContainer, {childList: true});\n",
       "}}\n",
       "\n",
       "// Listen for the clearing of the current output cell\n",
       "var outputEl = gd.closest('.output');\n",
       "if (outputEl) {{\n",
       "    x.observe(outputEl, {childList: true});\n",
       "}}\n",
       "\n",
       "                        })                };                });            </script>        </div>"
      ]
     },
     "metadata": {},
     "output_type": "display_data"
    }
   ],
   "source": [
    "topic_model.visualize_documents(docs, reduced_embeddings=reduced_embeddings)"
   ]
  },
  {
   "cell_type": "code",
   "execution_count": 15,
   "id": "3a221060-dc47-4f8d-bd43-ef8c1027ed9b",
   "metadata": {
    "tags": []
   },
   "outputs": [
    {
     "data": {
      "application/vnd.plotly.v1+json": {
       "config": {
        "plotlyServerURL": "https://plot.ly"
       },
       "data": [
        {
         "marker": {
          "color": "#D55E00"
         },
         "orientation": "h",
         "type": "bar",
         "x": [
          0.03491993848898067,
          0.036366517282157465,
          0.038899357328630035,
          0.03938786118000614,
          0.04127737115045953,
          0.04300101900947323,
          0.04890270891376587,
          0.04996191533814731,
          0.05245123382748773,
          0.05748493316007429
         ],
         "xaxis": "x",
         "y": [
          "spirit  ",
          "wanna  ",
          "know  ",
          "just  ",
          "doing  ",
          "years  ",
          "things  ",
          "family  ",
          "dont  ",
          "children  "
         ],
         "yaxis": "y"
        },
        {
         "marker": {
          "color": "#0072B2"
         },
         "orientation": "h",
         "type": "bar",
         "x": [
          0.04420911136522499,
          0.04420911136522499,
          0.045851842535006196,
          0.04904531256338853,
          0.05308202284227618,
          0.055499594003398565,
          0.055875393798352685,
          0.060690760658602676,
          0.06402924983038738,
          0.0686754012047562
         ],
         "xaxis": "x2",
         "y": [
          "happen  ",
          "freight  ",
          "day  ",
          "know  ",
          "gonna  ",
          "worry  ",
          "think  ",
          "people  ",
          "things  ",
          "dont  "
         ],
         "yaxis": "y2"
        },
        {
         "marker": {
          "color": "#CC79A7"
         },
         "orientation": "h",
         "type": "bar",
         "x": [
          0.05639665934593738,
          0.0583510429135825,
          0.06038399600316379,
          0.06525337759433403,
          0.06854614035494375,
          0.06854614035494375,
          0.06854614035494375,
          0.07384260354849677,
          0.07533200904831225,
          0.08264275375326545
         ],
         "xaxis": "x3",
         "y": [
          "thats  ",
          "food  ",
          "think  ",
          "lots  ",
          "hair  ",
          "polenta  ",
          "eat  ",
          "fun  ",
          "good  ",
          "oh  "
         ],
         "yaxis": "y3"
        },
        {
         "marker": {
          "color": "#E69F00"
         },
         "orientation": "h",
         "type": "bar",
         "x": [
          0.06268812613330435,
          0.06691800457378133,
          0.06691800457378133,
          0.0746592646014769,
          0.0746592646014769,
          0.08246003788222701,
          0.08555462880528847,
          0.10249307029590556,
          0.14430506629389728,
          0.14430506629389728
         ],
         "xaxis": "x4",
         "y": [
          "wonderful  ",
          "90  ",
          "clara  ",
          "chinese  ",
          "place  ",
          "santa  ",
          "town  ",
          "people  ",
          "san  ",
          "jose  "
         ],
         "yaxis": "y4"
        }
       ],
       "layout": {
        "annotations": [
         {
          "font": {
           "size": 16
          },
          "showarrow": false,
          "text": "Topic 0",
          "x": 0.0875,
          "xanchor": "center",
          "xref": "paper",
          "y": 1,
          "yanchor": "bottom",
          "yref": "paper"
         },
         {
          "font": {
           "size": 16
          },
          "showarrow": false,
          "text": "Topic 1",
          "x": 0.36250000000000004,
          "xanchor": "center",
          "xref": "paper",
          "y": 1,
          "yanchor": "bottom",
          "yref": "paper"
         },
         {
          "font": {
           "size": 16
          },
          "showarrow": false,
          "text": "Topic 2",
          "x": 0.6375000000000001,
          "xanchor": "center",
          "xref": "paper",
          "y": 1,
          "yanchor": "bottom",
          "yref": "paper"
         },
         {
          "font": {
           "size": 16
          },
          "showarrow": false,
          "text": "Topic 3",
          "x": 0.9125,
          "xanchor": "center",
          "xref": "paper",
          "y": 1,
          "yanchor": "bottom",
          "yref": "paper"
         }
        ],
        "height": 325,
        "hoverlabel": {
         "bgcolor": "white",
         "font": {
          "family": "Rockwell",
          "size": 16
         }
        },
        "showlegend": false,
        "template": {
         "data": {
          "bar": [
           {
            "error_x": {
             "color": "#2a3f5f"
            },
            "error_y": {
             "color": "#2a3f5f"
            },
            "marker": {
             "line": {
              "color": "white",
              "width": 0.5
             },
             "pattern": {
              "fillmode": "overlay",
              "size": 10,
              "solidity": 0.2
             }
            },
            "type": "bar"
           }
          ],
          "barpolar": [
           {
            "marker": {
             "line": {
              "color": "white",
              "width": 0.5
             },
             "pattern": {
              "fillmode": "overlay",
              "size": 10,
              "solidity": 0.2
             }
            },
            "type": "barpolar"
           }
          ],
          "carpet": [
           {
            "aaxis": {
             "endlinecolor": "#2a3f5f",
             "gridcolor": "#C8D4E3",
             "linecolor": "#C8D4E3",
             "minorgridcolor": "#C8D4E3",
             "startlinecolor": "#2a3f5f"
            },
            "baxis": {
             "endlinecolor": "#2a3f5f",
             "gridcolor": "#C8D4E3",
             "linecolor": "#C8D4E3",
             "minorgridcolor": "#C8D4E3",
             "startlinecolor": "#2a3f5f"
            },
            "type": "carpet"
           }
          ],
          "choropleth": [
           {
            "colorbar": {
             "outlinewidth": 0,
             "ticks": ""
            },
            "type": "choropleth"
           }
          ],
          "contour": [
           {
            "colorbar": {
             "outlinewidth": 0,
             "ticks": ""
            },
            "colorscale": [
             [
              0,
              "#0d0887"
             ],
             [
              0.1111111111111111,
              "#46039f"
             ],
             [
              0.2222222222222222,
              "#7201a8"
             ],
             [
              0.3333333333333333,
              "#9c179e"
             ],
             [
              0.4444444444444444,
              "#bd3786"
             ],
             [
              0.5555555555555556,
              "#d8576b"
             ],
             [
              0.6666666666666666,
              "#ed7953"
             ],
             [
              0.7777777777777778,
              "#fb9f3a"
             ],
             [
              0.8888888888888888,
              "#fdca26"
             ],
             [
              1,
              "#f0f921"
             ]
            ],
            "type": "contour"
           }
          ],
          "contourcarpet": [
           {
            "colorbar": {
             "outlinewidth": 0,
             "ticks": ""
            },
            "type": "contourcarpet"
           }
          ],
          "heatmap": [
           {
            "colorbar": {
             "outlinewidth": 0,
             "ticks": ""
            },
            "colorscale": [
             [
              0,
              "#0d0887"
             ],
             [
              0.1111111111111111,
              "#46039f"
             ],
             [
              0.2222222222222222,
              "#7201a8"
             ],
             [
              0.3333333333333333,
              "#9c179e"
             ],
             [
              0.4444444444444444,
              "#bd3786"
             ],
             [
              0.5555555555555556,
              "#d8576b"
             ],
             [
              0.6666666666666666,
              "#ed7953"
             ],
             [
              0.7777777777777778,
              "#fb9f3a"
             ],
             [
              0.8888888888888888,
              "#fdca26"
             ],
             [
              1,
              "#f0f921"
             ]
            ],
            "type": "heatmap"
           }
          ],
          "heatmapgl": [
           {
            "colorbar": {
             "outlinewidth": 0,
             "ticks": ""
            },
            "colorscale": [
             [
              0,
              "#0d0887"
             ],
             [
              0.1111111111111111,
              "#46039f"
             ],
             [
              0.2222222222222222,
              "#7201a8"
             ],
             [
              0.3333333333333333,
              "#9c179e"
             ],
             [
              0.4444444444444444,
              "#bd3786"
             ],
             [
              0.5555555555555556,
              "#d8576b"
             ],
             [
              0.6666666666666666,
              "#ed7953"
             ],
             [
              0.7777777777777778,
              "#fb9f3a"
             ],
             [
              0.8888888888888888,
              "#fdca26"
             ],
             [
              1,
              "#f0f921"
             ]
            ],
            "type": "heatmapgl"
           }
          ],
          "histogram": [
           {
            "marker": {
             "pattern": {
              "fillmode": "overlay",
              "size": 10,
              "solidity": 0.2
             }
            },
            "type": "histogram"
           }
          ],
          "histogram2d": [
           {
            "colorbar": {
             "outlinewidth": 0,
             "ticks": ""
            },
            "colorscale": [
             [
              0,
              "#0d0887"
             ],
             [
              0.1111111111111111,
              "#46039f"
             ],
             [
              0.2222222222222222,
              "#7201a8"
             ],
             [
              0.3333333333333333,
              "#9c179e"
             ],
             [
              0.4444444444444444,
              "#bd3786"
             ],
             [
              0.5555555555555556,
              "#d8576b"
             ],
             [
              0.6666666666666666,
              "#ed7953"
             ],
             [
              0.7777777777777778,
              "#fb9f3a"
             ],
             [
              0.8888888888888888,
              "#fdca26"
             ],
             [
              1,
              "#f0f921"
             ]
            ],
            "type": "histogram2d"
           }
          ],
          "histogram2dcontour": [
           {
            "colorbar": {
             "outlinewidth": 0,
             "ticks": ""
            },
            "colorscale": [
             [
              0,
              "#0d0887"
             ],
             [
              0.1111111111111111,
              "#46039f"
             ],
             [
              0.2222222222222222,
              "#7201a8"
             ],
             [
              0.3333333333333333,
              "#9c179e"
             ],
             [
              0.4444444444444444,
              "#bd3786"
             ],
             [
              0.5555555555555556,
              "#d8576b"
             ],
             [
              0.6666666666666666,
              "#ed7953"
             ],
             [
              0.7777777777777778,
              "#fb9f3a"
             ],
             [
              0.8888888888888888,
              "#fdca26"
             ],
             [
              1,
              "#f0f921"
             ]
            ],
            "type": "histogram2dcontour"
           }
          ],
          "mesh3d": [
           {
            "colorbar": {
             "outlinewidth": 0,
             "ticks": ""
            },
            "type": "mesh3d"
           }
          ],
          "parcoords": [
           {
            "line": {
             "colorbar": {
              "outlinewidth": 0,
              "ticks": ""
             }
            },
            "type": "parcoords"
           }
          ],
          "pie": [
           {
            "automargin": true,
            "type": "pie"
           }
          ],
          "scatter": [
           {
            "fillpattern": {
             "fillmode": "overlay",
             "size": 10,
             "solidity": 0.2
            },
            "type": "scatter"
           }
          ],
          "scatter3d": [
           {
            "line": {
             "colorbar": {
              "outlinewidth": 0,
              "ticks": ""
             }
            },
            "marker": {
             "colorbar": {
              "outlinewidth": 0,
              "ticks": ""
             }
            },
            "type": "scatter3d"
           }
          ],
          "scattercarpet": [
           {
            "marker": {
             "colorbar": {
              "outlinewidth": 0,
              "ticks": ""
             }
            },
            "type": "scattercarpet"
           }
          ],
          "scattergeo": [
           {
            "marker": {
             "colorbar": {
              "outlinewidth": 0,
              "ticks": ""
             }
            },
            "type": "scattergeo"
           }
          ],
          "scattergl": [
           {
            "marker": {
             "colorbar": {
              "outlinewidth": 0,
              "ticks": ""
             }
            },
            "type": "scattergl"
           }
          ],
          "scattermapbox": [
           {
            "marker": {
             "colorbar": {
              "outlinewidth": 0,
              "ticks": ""
             }
            },
            "type": "scattermapbox"
           }
          ],
          "scatterpolar": [
           {
            "marker": {
             "colorbar": {
              "outlinewidth": 0,
              "ticks": ""
             }
            },
            "type": "scatterpolar"
           }
          ],
          "scatterpolargl": [
           {
            "marker": {
             "colorbar": {
              "outlinewidth": 0,
              "ticks": ""
             }
            },
            "type": "scatterpolargl"
           }
          ],
          "scatterternary": [
           {
            "marker": {
             "colorbar": {
              "outlinewidth": 0,
              "ticks": ""
             }
            },
            "type": "scatterternary"
           }
          ],
          "surface": [
           {
            "colorbar": {
             "outlinewidth": 0,
             "ticks": ""
            },
            "colorscale": [
             [
              0,
              "#0d0887"
             ],
             [
              0.1111111111111111,
              "#46039f"
             ],
             [
              0.2222222222222222,
              "#7201a8"
             ],
             [
              0.3333333333333333,
              "#9c179e"
             ],
             [
              0.4444444444444444,
              "#bd3786"
             ],
             [
              0.5555555555555556,
              "#d8576b"
             ],
             [
              0.6666666666666666,
              "#ed7953"
             ],
             [
              0.7777777777777778,
              "#fb9f3a"
             ],
             [
              0.8888888888888888,
              "#fdca26"
             ],
             [
              1,
              "#f0f921"
             ]
            ],
            "type": "surface"
           }
          ],
          "table": [
           {
            "cells": {
             "fill": {
              "color": "#EBF0F8"
             },
             "line": {
              "color": "white"
             }
            },
            "header": {
             "fill": {
              "color": "#C8D4E3"
             },
             "line": {
              "color": "white"
             }
            },
            "type": "table"
           }
          ]
         },
         "layout": {
          "annotationdefaults": {
           "arrowcolor": "#2a3f5f",
           "arrowhead": 0,
           "arrowwidth": 1
          },
          "autotypenumbers": "strict",
          "coloraxis": {
           "colorbar": {
            "outlinewidth": 0,
            "ticks": ""
           }
          },
          "colorscale": {
           "diverging": [
            [
             0,
             "#8e0152"
            ],
            [
             0.1,
             "#c51b7d"
            ],
            [
             0.2,
             "#de77ae"
            ],
            [
             0.3,
             "#f1b6da"
            ],
            [
             0.4,
             "#fde0ef"
            ],
            [
             0.5,
             "#f7f7f7"
            ],
            [
             0.6,
             "#e6f5d0"
            ],
            [
             0.7,
             "#b8e186"
            ],
            [
             0.8,
             "#7fbc41"
            ],
            [
             0.9,
             "#4d9221"
            ],
            [
             1,
             "#276419"
            ]
           ],
           "sequential": [
            [
             0,
             "#0d0887"
            ],
            [
             0.1111111111111111,
             "#46039f"
            ],
            [
             0.2222222222222222,
             "#7201a8"
            ],
            [
             0.3333333333333333,
             "#9c179e"
            ],
            [
             0.4444444444444444,
             "#bd3786"
            ],
            [
             0.5555555555555556,
             "#d8576b"
            ],
            [
             0.6666666666666666,
             "#ed7953"
            ],
            [
             0.7777777777777778,
             "#fb9f3a"
            ],
            [
             0.8888888888888888,
             "#fdca26"
            ],
            [
             1,
             "#f0f921"
            ]
           ],
           "sequentialminus": [
            [
             0,
             "#0d0887"
            ],
            [
             0.1111111111111111,
             "#46039f"
            ],
            [
             0.2222222222222222,
             "#7201a8"
            ],
            [
             0.3333333333333333,
             "#9c179e"
            ],
            [
             0.4444444444444444,
             "#bd3786"
            ],
            [
             0.5555555555555556,
             "#d8576b"
            ],
            [
             0.6666666666666666,
             "#ed7953"
            ],
            [
             0.7777777777777778,
             "#fb9f3a"
            ],
            [
             0.8888888888888888,
             "#fdca26"
            ],
            [
             1,
             "#f0f921"
            ]
           ]
          },
          "colorway": [
           "#636efa",
           "#EF553B",
           "#00cc96",
           "#ab63fa",
           "#FFA15A",
           "#19d3f3",
           "#FF6692",
           "#B6E880",
           "#FF97FF",
           "#FECB52"
          ],
          "font": {
           "color": "#2a3f5f"
          },
          "geo": {
           "bgcolor": "white",
           "lakecolor": "white",
           "landcolor": "white",
           "showlakes": true,
           "showland": true,
           "subunitcolor": "#C8D4E3"
          },
          "hoverlabel": {
           "align": "left"
          },
          "hovermode": "closest",
          "mapbox": {
           "style": "light"
          },
          "paper_bgcolor": "white",
          "plot_bgcolor": "white",
          "polar": {
           "angularaxis": {
            "gridcolor": "#EBF0F8",
            "linecolor": "#EBF0F8",
            "ticks": ""
           },
           "bgcolor": "white",
           "radialaxis": {
            "gridcolor": "#EBF0F8",
            "linecolor": "#EBF0F8",
            "ticks": ""
           }
          },
          "scene": {
           "xaxis": {
            "backgroundcolor": "white",
            "gridcolor": "#DFE8F3",
            "gridwidth": 2,
            "linecolor": "#EBF0F8",
            "showbackground": true,
            "ticks": "",
            "zerolinecolor": "#EBF0F8"
           },
           "yaxis": {
            "backgroundcolor": "white",
            "gridcolor": "#DFE8F3",
            "gridwidth": 2,
            "linecolor": "#EBF0F8",
            "showbackground": true,
            "ticks": "",
            "zerolinecolor": "#EBF0F8"
           },
           "zaxis": {
            "backgroundcolor": "white",
            "gridcolor": "#DFE8F3",
            "gridwidth": 2,
            "linecolor": "#EBF0F8",
            "showbackground": true,
            "ticks": "",
            "zerolinecolor": "#EBF0F8"
           }
          },
          "shapedefaults": {
           "line": {
            "color": "#2a3f5f"
           }
          },
          "ternary": {
           "aaxis": {
            "gridcolor": "#DFE8F3",
            "linecolor": "#A2B1C6",
            "ticks": ""
           },
           "baxis": {
            "gridcolor": "#DFE8F3",
            "linecolor": "#A2B1C6",
            "ticks": ""
           },
           "bgcolor": "white",
           "caxis": {
            "gridcolor": "#DFE8F3",
            "linecolor": "#A2B1C6",
            "ticks": ""
           }
          },
          "title": {
           "x": 0.05
          },
          "xaxis": {
           "automargin": true,
           "gridcolor": "#EBF0F8",
           "linecolor": "#EBF0F8",
           "ticks": "",
           "title": {
            "standoff": 15
           },
           "zerolinecolor": "#EBF0F8",
           "zerolinewidth": 2
          },
          "yaxis": {
           "automargin": true,
           "gridcolor": "#EBF0F8",
           "linecolor": "#EBF0F8",
           "ticks": "",
           "title": {
            "standoff": 15
           },
           "zerolinecolor": "#EBF0F8",
           "zerolinewidth": 2
          }
         }
        },
        "title": {
         "font": {
          "color": "Black",
          "size": 22
         },
         "text": "Topic Word Scores",
         "x": 0.5,
         "xanchor": "center",
         "yanchor": "top"
        },
        "width": 1000,
        "xaxis": {
         "anchor": "y",
         "autorange": true,
         "domain": [
          0,
          0.175
         ],
         "range": [
          0,
          0.060510455957972935
         ],
         "showgrid": true,
         "type": "linear"
        },
        "xaxis2": {
         "anchor": "y2",
         "autorange": true,
         "domain": [
          0.275,
          0.45
         ],
         "range": [
          0,
          0.07228989600500652
         ],
         "showgrid": true,
         "type": "linear"
        },
        "xaxis3": {
         "anchor": "y3",
         "autorange": true,
         "domain": [
          0.55,
          0.7250000000000001
         ],
         "range": [
          0,
          0.08699237237185836
         ],
         "showgrid": true,
         "type": "linear"
        },
        "xaxis4": {
         "anchor": "y4",
         "autorange": true,
         "domain": [
          0.825,
          1
         ],
         "range": [
          0,
          0.15190006978304976
         ],
         "showgrid": true,
         "type": "linear"
        },
        "yaxis": {
         "anchor": "x",
         "autorange": true,
         "domain": [
          0,
          1
         ],
         "range": [
          -0.5,
          9.5
         ],
         "showgrid": true,
         "type": "category"
        },
        "yaxis2": {
         "anchor": "x2",
         "autorange": true,
         "domain": [
          0,
          1
         ],
         "range": [
          -0.5,
          9.5
         ],
         "showgrid": true,
         "type": "category"
        },
        "yaxis3": {
         "anchor": "x3",
         "autorange": true,
         "domain": [
          0,
          1
         ],
         "range": [
          -0.5,
          9.5
         ],
         "showgrid": true,
         "type": "category"
        },
        "yaxis4": {
         "anchor": "x4",
         "autorange": true,
         "domain": [
          0,
          1
         ],
         "range": [
          -0.5,
          9.5
         ],
         "showgrid": true,
         "type": "category"
        }
       }
      },
      "image/png": "[encoded data removed]",
      "text/html": [
       "<div>                            <div id=\"47f28ac8-db63-4da6-81be-302579fc8ce4\" class=\"plotly-graph-div\" style=\"height:325.0px; width:1000px;\"></div>            <script type=\"text/javascript\">                require([\"plotly\"], function(Plotly) {                    window.PLOTLYENV=window.PLOTLYENV || {};                                    if (document.getElementById(\"47f28ac8-db63-4da6-81be-302579fc8ce4\")) {                    Plotly.newPlot(                        \"47f28ac8-db63-4da6-81be-302579fc8ce4\",                        [{\"marker\":{\"color\":\"#D55E00\"},\"orientation\":\"h\",\"x\":[0.03491993848898067,0.036366517282157465,0.038899357328630035,0.03938786118000614,0.04127737115045953,0.04300101900947323,0.04890270891376587,0.04996191533814731,0.05245123382748773,0.05748493316007429],\"y\":[\"spirit  \",\"wanna  \",\"know  \",\"just  \",\"doing  \",\"years  \",\"things  \",\"family  \",\"dont  \",\"children  \"],\"type\":\"bar\",\"xaxis\":\"x\",\"yaxis\":\"y\"},{\"marker\":{\"color\":\"#0072B2\"},\"orientation\":\"h\",\"x\":[0.04420911136522499,0.04420911136522499,0.045851842535006196,0.04904531256338853,0.05308202284227618,0.055499594003398565,0.055875393798352685,0.060690760658602676,0.06402924983038738,0.0686754012047562],\"y\":[\"happen  \",\"freight  \",\"day  \",\"know  \",\"gonna  \",\"worry  \",\"think  \",\"people  \",\"things  \",\"dont  \"],\"type\":\"bar\",\"xaxis\":\"x2\",\"yaxis\":\"y2\"},{\"marker\":{\"color\":\"#CC79A7\"},\"orientation\":\"h\",\"x\":[0.05639665934593738,0.0583510429135825,0.06038399600316379,0.06525337759433403,0.06854614035494375,0.06854614035494375,0.06854614035494375,0.07384260354849677,0.07533200904831225,0.08264275375326545],\"y\":[\"thats  \",\"food  \",\"think  \",\"lots  \",\"hair  \",\"polenta  \",\"eat  \",\"fun  \",\"good  \",\"oh  \"],\"type\":\"bar\",\"xaxis\":\"x3\",\"yaxis\":\"y3\"},{\"marker\":{\"color\":\"#E69F00\"},\"orientation\":\"h\",\"x\":[0.06268812613330435,0.06691800457378133,0.06691800457378133,0.0746592646014769,0.0746592646014769,0.08246003788222701,0.08555462880528847,0.10249307029590556,0.14430506629389728,0.14430506629389728],\"y\":[\"wonderful  \",\"90  \",\"clara  \",\"chinese  \",\"place  \",\"santa  \",\"town  \",\"people  \",\"san  \",\"jose  \"],\"type\":\"bar\",\"xaxis\":\"x4\",\"yaxis\":\"y4\"}],                        {\"template\":{\"data\":{\"barpolar\":[{\"marker\":{\"line\":{\"color\":\"white\",\"width\":0.5},\"pattern\":{\"fillmode\":\"overlay\",\"size\":10,\"solidity\":0.2}},\"type\":\"barpolar\"}],\"bar\":[{\"error_x\":{\"color\":\"#2a3f5f\"},\"error_y\":{\"color\":\"#2a3f5f\"},\"marker\":{\"line\":{\"color\":\"white\",\"width\":0.5},\"pattern\":{\"fillmode\":\"overlay\",\"size\":10,\"solidity\":0.2}},\"type\":\"bar\"}],\"carpet\":[{\"aaxis\":{\"endlinecolor\":\"#2a3f5f\",\"gridcolor\":\"#C8D4E3\",\"linecolor\":\"#C8D4E3\",\"minorgridcolor\":\"#C8D4E3\",\"startlinecolor\":\"#2a3f5f\"},\"baxis\":{\"endlinecolor\":\"#2a3f5f\",\"gridcolor\":\"#C8D4E3\",\"linecolor\":\"#C8D4E3\",\"minorgridcolor\":\"#C8D4E3\",\"startlinecolor\":\"#2a3f5f\"},\"type\":\"carpet\"}],\"choropleth\":[{\"colorbar\":{\"outlinewidth\":0,\"ticks\":\"\"},\"type\":\"choropleth\"}],\"contourcarpet\":[{\"colorbar\":{\"outlinewidth\":0,\"ticks\":\"\"},\"type\":\"contourcarpet\"}],\"contour\":[{\"colorbar\":{\"outlinewidth\":0,\"ticks\":\"\"},\"colorscale\":[[0.0,\"#0d0887\"],[0.1111111111111111,\"#46039f\"],[0.2222222222222222,\"#7201a8\"],[0.3333333333333333,\"#9c179e\"],[0.4444444444444444,\"#bd3786\"],[0.5555555555555556,\"#d8576b\"],[0.6666666666666666,\"#ed7953\"],[0.7777777777777778,\"#fb9f3a\"],[0.8888888888888888,\"#fdca26\"],[1.0,\"#f0f921\"]],\"type\":\"contour\"}],\"heatmapgl\":[{\"colorbar\":{\"outlinewidth\":0,\"ticks\":\"\"},\"colorscale\":[[0.0,\"#0d0887\"],[0.1111111111111111,\"#46039f\"],[0.2222222222222222,\"#7201a8\"],[0.3333333333333333,\"#9c179e\"],[0.4444444444444444,\"#bd3786\"],[0.5555555555555556,\"#d8576b\"],[0.6666666666666666,\"#ed7953\"],[0.7777777777777778,\"#fb9f3a\"],[0.8888888888888888,\"#fdca26\"],[1.0,\"#f0f921\"]],\"type\":\"heatmapgl\"}],\"heatmap\":[{\"colorbar\":{\"outlinewidth\":0,\"ticks\":\"\"},\"colorscale\":[[0.0,\"#0d0887\"],[0.1111111111111111,\"#46039f\"],[0.2222222222222222,\"#7201a8\"],[0.3333333333333333,\"#9c179e\"],[0.4444444444444444,\"#bd3786\"],[0.5555555555555556,\"#d8576b\"],[0.6666666666666666,\"#ed7953\"],[0.7777777777777778,\"#fb9f3a\"],[0.8888888888888888,\"#fdca26\"],[1.0,\"#f0f921\"]],\"type\":\"heatmap\"}],\"histogram2dcontour\":[{\"colorbar\":{\"outlinewidth\":0,\"ticks\":\"\"},\"colorscale\":[[0.0,\"#0d0887\"],[0.1111111111111111,\"#46039f\"],[0.2222222222222222,\"#7201a8\"],[0.3333333333333333,\"#9c179e\"],[0.4444444444444444,\"#bd3786\"],[0.5555555555555556,\"#d8576b\"],[0.6666666666666666,\"#ed7953\"],[0.7777777777777778,\"#fb9f3a\"],[0.8888888888888888,\"#fdca26\"],[1.0,\"#f0f921\"]],\"type\":\"histogram2dcontour\"}],\"histogram2d\":[{\"colorbar\":{\"outlinewidth\":0,\"ticks\":\"\"},\"colorscale\":[[0.0,\"#0d0887\"],[0.1111111111111111,\"#46039f\"],[0.2222222222222222,\"#7201a8\"],[0.3333333333333333,\"#9c179e\"],[0.4444444444444444,\"#bd3786\"],[0.5555555555555556,\"#d8576b\"],[0.6666666666666666,\"#ed7953\"],[0.7777777777777778,\"#fb9f3a\"],[0.8888888888888888,\"#fdca26\"],[1.0,\"#f0f921\"]],\"type\":\"histogram2d\"}],\"histogram\":[{\"marker\":{\"pattern\":{\"fillmode\":\"overlay\",\"size\":10,\"solidity\":0.2}},\"type\":\"histogram\"}],\"mesh3d\":[{\"colorbar\":{\"outlinewidth\":0,\"ticks\":\"\"},\"type\":\"mesh3d\"}],\"parcoords\":[{\"line\":{\"colorbar\":{\"outlinewidth\":0,\"ticks\":\"\"}},\"type\":\"parcoords\"}],\"pie\":[{\"automargin\":true,\"type\":\"pie\"}],\"scatter3d\":[{\"line\":{\"colorbar\":{\"outlinewidth\":0,\"ticks\":\"\"}},\"marker\":{\"colorbar\":{\"outlinewidth\":0,\"ticks\":\"\"}},\"type\":\"scatter3d\"}],\"scattercarpet\":[{\"marker\":{\"colorbar\":{\"outlinewidth\":0,\"ticks\":\"\"}},\"type\":\"scattercarpet\"}],\"scattergeo\":[{\"marker\":{\"colorbar\":{\"outlinewidth\":0,\"ticks\":\"\"}},\"type\":\"scattergeo\"}],\"scattergl\":[{\"marker\":{\"colorbar\":{\"outlinewidth\":0,\"ticks\":\"\"}},\"type\":\"scattergl\"}],\"scattermapbox\":[{\"marker\":{\"colorbar\":{\"outlinewidth\":0,\"ticks\":\"\"}},\"type\":\"scattermapbox\"}],\"scatterpolargl\":[{\"marker\":{\"colorbar\":{\"outlinewidth\":0,\"ticks\":\"\"}},\"type\":\"scatterpolargl\"}],\"scatterpolar\":[{\"marker\":{\"colorbar\":{\"outlinewidth\":0,\"ticks\":\"\"}},\"type\":\"scatterpolar\"}],\"scatter\":[{\"fillpattern\":{\"fillmode\":\"overlay\",\"size\":10,\"solidity\":0.2},\"type\":\"scatter\"}],\"scatterternary\":[{\"marker\":{\"colorbar\":{\"outlinewidth\":0,\"ticks\":\"\"}},\"type\":\"scatterternary\"}],\"surface\":[{\"colorbar\":{\"outlinewidth\":0,\"ticks\":\"\"},\"colorscale\":[[0.0,\"#0d0887\"],[0.1111111111111111,\"#46039f\"],[0.2222222222222222,\"#7201a8\"],[0.3333333333333333,\"#9c179e\"],[0.4444444444444444,\"#bd3786\"],[0.5555555555555556,\"#d8576b\"],[0.6666666666666666,\"#ed7953\"],[0.7777777777777778,\"#fb9f3a\"],[0.8888888888888888,\"#fdca26\"],[1.0,\"#f0f921\"]],\"type\":\"surface\"}],\"table\":[{\"cells\":{\"fill\":{\"color\":\"#EBF0F8\"},\"line\":{\"color\":\"white\"}},\"header\":{\"fill\":{\"color\":\"#C8D4E3\"},\"line\":{\"color\":\"white\"}},\"type\":\"table\"}]},\"layout\":{\"annotationdefaults\":{\"arrowcolor\":\"#2a3f5f\",\"arrowhead\":0,\"arrowwidth\":1},\"autotypenumbers\":\"strict\",\"coloraxis\":{\"colorbar\":{\"outlinewidth\":0,\"ticks\":\"\"}},\"colorscale\":{\"diverging\":[[0,\"#8e0152\"],[0.1,\"#c51b7d\"],[0.2,\"#de77ae\"],[0.3,\"#f1b6da\"],[0.4,\"#fde0ef\"],[0.5,\"#f7f7f7\"],[0.6,\"#e6f5d0\"],[0.7,\"#b8e186\"],[0.8,\"#7fbc41\"],[0.9,\"#4d9221\"],[1,\"#276419\"]],\"sequential\":[[0.0,\"#0d0887\"],[0.1111111111111111,\"#46039f\"],[0.2222222222222222,\"#7201a8\"],[0.3333333333333333,\"#9c179e\"],[0.4444444444444444,\"#bd3786\"],[0.5555555555555556,\"#d8576b\"],[0.6666666666666666,\"#ed7953\"],[0.7777777777777778,\"#fb9f3a\"],[0.8888888888888888,\"#fdca26\"],[1.0,\"#f0f921\"]],\"sequentialminus\":[[0.0,\"#0d0887\"],[0.1111111111111111,\"#46039f\"],[0.2222222222222222,\"#7201a8\"],[0.3333333333333333,\"#9c179e\"],[0.4444444444444444,\"#bd3786\"],[0.5555555555555556,\"#d8576b\"],[0.6666666666666666,\"#ed7953\"],[0.7777777777777778,\"#fb9f3a\"],[0.8888888888888888,\"#fdca26\"],[1.0,\"#f0f921\"]]},\"colorway\":[\"#636efa\",\"#EF553B\",\"#00cc96\",\"#ab63fa\",\"#FFA15A\",\"#19d3f3\",\"#FF6692\",\"#B6E880\",\"#FF97FF\",\"#FECB52\"],\"font\":{\"color\":\"#2a3f5f\"},\"geo\":{\"bgcolor\":\"white\",\"lakecolor\":\"white\",\"landcolor\":\"white\",\"showlakes\":true,\"showland\":true,\"subunitcolor\":\"#C8D4E3\"},\"hoverlabel\":{\"align\":\"left\"},\"hovermode\":\"closest\",\"mapbox\":{\"style\":\"light\"},\"paper_bgcolor\":\"white\",\"plot_bgcolor\":\"white\",\"polar\":{\"angularaxis\":{\"gridcolor\":\"#EBF0F8\",\"linecolor\":\"#EBF0F8\",\"ticks\":\"\"},\"bgcolor\":\"white\",\"radialaxis\":{\"gridcolor\":\"#EBF0F8\",\"linecolor\":\"#EBF0F8\",\"ticks\":\"\"}},\"scene\":{\"xaxis\":{\"backgroundcolor\":\"white\",\"gridcolor\":\"#DFE8F3\",\"gridwidth\":2,\"linecolor\":\"#EBF0F8\",\"showbackground\":true,\"ticks\":\"\",\"zerolinecolor\":\"#EBF0F8\"},\"yaxis\":{\"backgroundcolor\":\"white\",\"gridcolor\":\"#DFE8F3\",\"gridwidth\":2,\"linecolor\":\"#EBF0F8\",\"showbackground\":true,\"ticks\":\"\",\"zerolinecolor\":\"#EBF0F8\"},\"zaxis\":{\"backgroundcolor\":\"white\",\"gridcolor\":\"#DFE8F3\",\"gridwidth\":2,\"linecolor\":\"#EBF0F8\",\"showbackground\":true,\"ticks\":\"\",\"zerolinecolor\":\"#EBF0F8\"}},\"shapedefaults\":{\"line\":{\"color\":\"#2a3f5f\"}},\"ternary\":{\"aaxis\":{\"gridcolor\":\"#DFE8F3\",\"linecolor\":\"#A2B1C6\",\"ticks\":\"\"},\"baxis\":{\"gridcolor\":\"#DFE8F3\",\"linecolor\":\"#A2B1C6\",\"ticks\":\"\"},\"bgcolor\":\"white\",\"caxis\":{\"gridcolor\":\"#DFE8F3\",\"linecolor\":\"#A2B1C6\",\"ticks\":\"\"}},\"title\":{\"x\":0.05},\"xaxis\":{\"automargin\":true,\"gridcolor\":\"#EBF0F8\",\"linecolor\":\"#EBF0F8\",\"ticks\":\"\",\"title\":{\"standoff\":15},\"zerolinecolor\":\"#EBF0F8\",\"zerolinewidth\":2},\"yaxis\":{\"automargin\":true,\"gridcolor\":\"#EBF0F8\",\"linecolor\":\"#EBF0F8\",\"ticks\":\"\",\"title\":{\"standoff\":15},\"zerolinecolor\":\"#EBF0F8\",\"zerolinewidth\":2}}},\"xaxis\":{\"anchor\":\"y\",\"domain\":[0.0,0.175],\"showgrid\":true},\"yaxis\":{\"anchor\":\"x\",\"domain\":[0.0,1.0],\"showgrid\":true},\"xaxis2\":{\"anchor\":\"y2\",\"domain\":[0.275,0.45],\"showgrid\":true},\"yaxis2\":{\"anchor\":\"x2\",\"domain\":[0.0,1.0],\"showgrid\":true},\"xaxis3\":{\"anchor\":\"y3\",\"domain\":[0.55,0.7250000000000001],\"showgrid\":true},\"yaxis3\":{\"anchor\":\"x3\",\"domain\":[0.0,1.0],\"showgrid\":true},\"xaxis4\":{\"anchor\":\"y4\",\"domain\":[0.825,1.0],\"showgrid\":true},\"yaxis4\":{\"anchor\":\"x4\",\"domain\":[0.0,1.0],\"showgrid\":true},\"annotations\":[{\"font\":{\"size\":16},\"showarrow\":false,\"text\":\"Topic 0\",\"x\":0.0875,\"xanchor\":\"center\",\"xref\":\"paper\",\"y\":1.0,\"yanchor\":\"bottom\",\"yref\":\"paper\"},{\"font\":{\"size\":16},\"showarrow\":false,\"text\":\"Topic 1\",\"x\":0.36250000000000004,\"xanchor\":\"center\",\"xref\":\"paper\",\"y\":1.0,\"yanchor\":\"bottom\",\"yref\":\"paper\"},{\"font\":{\"size\":16},\"showarrow\":false,\"text\":\"Topic 2\",\"x\":0.6375000000000001,\"xanchor\":\"center\",\"xref\":\"paper\",\"y\":1.0,\"yanchor\":\"bottom\",\"yref\":\"paper\"},{\"font\":{\"size\":16},\"showarrow\":false,\"text\":\"Topic 3\",\"x\":0.9125,\"xanchor\":\"center\",\"xref\":\"paper\",\"y\":1.0,\"yanchor\":\"bottom\",\"yref\":\"paper\"}],\"title\":{\"font\":{\"size\":22,\"color\":\"Black\"},\"text\":\"Topic Word Scores\",\"x\":0.5,\"xanchor\":\"center\",\"yanchor\":\"top\"},\"hoverlabel\":{\"font\":{\"size\":16,\"family\":\"Rockwell\"},\"bgcolor\":\"white\"},\"showlegend\":false,\"width\":1000,\"height\":325.0},                        {\"responsive\": true}                    ).then(function(){\n",
       "                            \n",
       "var gd = document.getElementById('47f28ac8-db63-4da6-81be-302579fc8ce4');\n",
       "var x = new MutationObserver(function (mutations, observer) {{\n",
       "        var display = window.getComputedStyle(gd).display;\n",
       "        if (!display || display === 'none') {{\n",
       "            console.log([gd, 'removed!']);\n",
       "            Plotly.purge(gd);\n",
       "            observer.disconnect();\n",
       "        }}\n",
       "}});\n",
       "\n",
       "// Listen for the removal of the full notebook cells\n",
       "var notebookContainer = gd.closest('#notebook-container');\n",
       "if (notebookContainer) {{\n",
       "    x.observe(notebookContainer, {childList: true});\n",
       "}}\n",
       "\n",
       "// Listen for the clearing of the current output cell\n",
       "var outputEl = gd.closest('.output');\n",
       "if (outputEl) {{\n",
       "    x.observe(outputEl, {childList: true});\n",
       "}}\n",
       "\n",
       "                        })                };                });            </script>        </div>"
      ]
     },
     "metadata": {},
     "output_type": "display_data"
    }
   ],
   "source": [
    "topic_model.visualize_barchart(n_words=10)"
   ]
  },
  {
   "cell_type": "code",
   "execution_count": 16,
   "id": "596a7548-678c-4f84-a91b-1f6c85d51aae",
   "metadata": {
    "tags": []
   },
   "outputs": [
    {
     "data": {
      "application/vnd.plotly.v1+json": {
       "config": {
        "plotlyServerURL": "https://plot.ly"
       },
       "data": [
        {
         "customdata": [
          [
           0,
           "children | dont | family | things | years",
           22
          ],
          [
           1,
           "dont | things | people | think | worry",
           10
          ],
          [
           2,
           "oh | good | fun | eat | polenta",
           8
          ],
          [
           3,
           "jose | san | people | town | santa",
           5
          ]
         ],
         "hovertemplate": "<b>Topic %{customdata[0]}</b><br>%{customdata[1]}<br>Size: %{customdata[2]}",
         "legendgroup": "",
         "marker": {
          "color": "#B0BEC5",
          "line": {
           "color": "DarkSlateGrey",
           "width": 2
          },
          "size": [
           22,
           10,
           8,
           5
          ],
          "sizemode": "area",
          "sizeref": 0.01375,
          "symbol": "circle"
         },
         "mode": "markers",
         "name": "",
         "orientation": "v",
         "showlegend": false,
         "type": "scatter",
         "x": [
          -7.587475776672363,
          -6.785959243774414,
          -8.467446327209473,
          -8.258594512939453
         ],
         "xaxis": "x",
         "y": [
          -2.3624391555786133,
          -2.109788179397583,
          -1.7882530689239502,
          -0.9098753333091736
         ],
         "yaxis": "y"
        }
       ],
       "layout": {
        "annotations": [
         {
          "showarrow": false,
          "text": "D1",
          "x": -9.737563276290894,
          "y": -1.7450995311141013,
          "yshift": 10
         },
         {
          "showarrow": false,
          "text": "D2",
          "x": -7.752814316749573,
          "xshift": 10,
          "y": -0.7733940333127975
         }
        ],
        "height": 650,
        "hoverlabel": {
         "bgcolor": "white",
         "font": {
          "family": "Rockwell",
          "size": 16
         }
        },
        "legend": {
         "itemsizing": "constant",
         "tracegroupgap": 0
        },
        "margin": {
         "t": 60
        },
        "shapes": [
         {
          "line": {
           "color": "#CFD8DC",
           "width": 2
          },
          "type": "line",
          "x0": -7.752814316749573,
          "x1": -7.752814316749573,
          "y0": -2.716805028915405,
          "y1": -0.7733940333127975
         },
         {
          "line": {
           "color": "#9E9E9E",
           "width": 2
          },
          "type": "line",
          "x0": -9.737563276290894,
          "x1": -5.768065357208252,
          "y0": -1.7450995311141013,
          "y1": -1.7450995311141013
         }
        ],
        "sliders": [
         {
          "active": 0,
          "pad": {
           "t": 50
          },
          "steps": [
           {
            "args": [
             {
              "marker.color": [
               [
                "red",
                "#B0BEC5",
                "#B0BEC5",
                "#B0BEC5"
               ]
              ]
             }
            ],
            "label": "Topic 0",
            "method": "update"
           },
           {
            "args": [
             {
              "marker.color": [
               [
                "#B0BEC5",
                "red",
                "#B0BEC5",
                "#B0BEC5"
               ]
              ]
             }
            ],
            "label": "Topic 1",
            "method": "update"
           },
           {
            "args": [
             {
              "marker.color": [
               [
                "#B0BEC5",
                "#B0BEC5",
                "red",
                "#B0BEC5"
               ]
              ]
             }
            ],
            "label": "Topic 2",
            "method": "update"
           },
           {
            "args": [
             {
              "marker.color": [
               [
                "#B0BEC5",
                "#B0BEC5",
                "#B0BEC5",
                "red"
               ]
              ]
             }
            ],
            "label": "Topic 3",
            "method": "update"
           }
          ]
         }
        ],
        "template": {
         "data": {
          "bar": [
           {
            "error_x": {
             "color": "rgb(36,36,36)"
            },
            "error_y": {
             "color": "rgb(36,36,36)"
            },
            "marker": {
             "line": {
              "color": "white",
              "width": 0.5
             },
             "pattern": {
              "fillmode": "overlay",
              "size": 10,
              "solidity": 0.2
             }
            },
            "type": "bar"
           }
          ],
          "barpolar": [
           {
            "marker": {
             "line": {
              "color": "white",
              "width": 0.5
             },
             "pattern": {
              "fillmode": "overlay",
              "size": 10,
              "solidity": 0.2
             }
            },
            "type": "barpolar"
           }
          ],
          "carpet": [
           {
            "aaxis": {
             "endlinecolor": "rgb(36,36,36)",
             "gridcolor": "white",
             "linecolor": "white",
             "minorgridcolor": "white",
             "startlinecolor": "rgb(36,36,36)"
            },
            "baxis": {
             "endlinecolor": "rgb(36,36,36)",
             "gridcolor": "white",
             "linecolor": "white",
             "minorgridcolor": "white",
             "startlinecolor": "rgb(36,36,36)"
            },
            "type": "carpet"
           }
          ],
          "choropleth": [
           {
            "colorbar": {
             "outlinewidth": 1,
             "tickcolor": "rgb(36,36,36)",
             "ticks": "outside"
            },
            "type": "choropleth"
           }
          ],
          "contour": [
           {
            "colorbar": {
             "outlinewidth": 1,
             "tickcolor": "rgb(36,36,36)",
             "ticks": "outside"
            },
            "colorscale": [
             [
              0,
              "#440154"
             ],
             [
              0.1111111111111111,
              "#482878"
             ],
             [
              0.2222222222222222,
              "#3e4989"
             ],
             [
              0.3333333333333333,
              "#31688e"
             ],
             [
              0.4444444444444444,
              "#26828e"
             ],
             [
              0.5555555555555556,
              "#1f9e89"
             ],
             [
              0.6666666666666666,
              "#35b779"
             ],
             [
              0.7777777777777778,
              "#6ece58"
             ],
             [
              0.8888888888888888,
              "#b5de2b"
             ],
             [
              1,
              "#fde725"
             ]
            ],
            "type": "contour"
           }
          ],
          "contourcarpet": [
           {
            "colorbar": {
             "outlinewidth": 1,
             "tickcolor": "rgb(36,36,36)",
             "ticks": "outside"
            },
            "type": "contourcarpet"
           }
          ],
          "heatmap": [
           {
            "colorbar": {
             "outlinewidth": 1,
             "tickcolor": "rgb(36,36,36)",
             "ticks": "outside"
            },
            "colorscale": [
             [
              0,
              "#440154"
             ],
             [
              0.1111111111111111,
              "#482878"
             ],
             [
              0.2222222222222222,
              "#3e4989"
             ],
             [
              0.3333333333333333,
              "#31688e"
             ],
             [
              0.4444444444444444,
              "#26828e"
             ],
             [
              0.5555555555555556,
              "#1f9e89"
             ],
             [
              0.6666666666666666,
              "#35b779"
             ],
             [
              0.7777777777777778,
              "#6ece58"
             ],
             [
              0.8888888888888888,
              "#b5de2b"
             ],
             [
              1,
              "#fde725"
             ]
            ],
            "type": "heatmap"
           }
          ],
          "heatmapgl": [
           {
            "colorbar": {
             "outlinewidth": 1,
             "tickcolor": "rgb(36,36,36)",
             "ticks": "outside"
            },
            "colorscale": [
             [
              0,
              "#440154"
             ],
             [
              0.1111111111111111,
              "#482878"
             ],
             [
              0.2222222222222222,
              "#3e4989"
             ],
             [
              0.3333333333333333,
              "#31688e"
             ],
             [
              0.4444444444444444,
              "#26828e"
             ],
             [
              0.5555555555555556,
              "#1f9e89"
             ],
             [
              0.6666666666666666,
              "#35b779"
             ],
             [
              0.7777777777777778,
              "#6ece58"
             ],
             [
              0.8888888888888888,
              "#b5de2b"
             ],
             [
              1,
              "#fde725"
             ]
            ],
            "type": "heatmapgl"
           }
          ],
          "histogram": [
           {
            "marker": {
             "line": {
              "color": "white",
              "width": 0.6
             }
            },
            "type": "histogram"
           }
          ],
          "histogram2d": [
           {
            "colorbar": {
             "outlinewidth": 1,
             "tickcolor": "rgb(36,36,36)",
             "ticks": "outside"
            },
            "colorscale": [
             [
              0,
              "#440154"
             ],
             [
              0.1111111111111111,
              "#482878"
             ],
             [
              0.2222222222222222,
              "#3e4989"
             ],
             [
              0.3333333333333333,
              "#31688e"
             ],
             [
              0.4444444444444444,
              "#26828e"
             ],
             [
              0.5555555555555556,
              "#1f9e89"
             ],
             [
              0.6666666666666666,
              "#35b779"
             ],
             [
              0.7777777777777778,
              "#6ece58"
             ],
             [
              0.8888888888888888,
              "#b5de2b"
             ],
             [
              1,
              "#fde725"
             ]
            ],
            "type": "histogram2d"
           }
          ],
          "histogram2dcontour": [
           {
            "colorbar": {
             "outlinewidth": 1,
             "tickcolor": "rgb(36,36,36)",
             "ticks": "outside"
            },
            "colorscale": [
             [
              0,
              "#440154"
             ],
             [
              0.1111111111111111,
              "#482878"
             ],
             [
              0.2222222222222222,
              "#3e4989"
             ],
             [
              0.3333333333333333,
              "#31688e"
             ],
             [
              0.4444444444444444,
              "#26828e"
             ],
             [
              0.5555555555555556,
              "#1f9e89"
             ],
             [
              0.6666666666666666,
              "#35b779"
             ],
             [
              0.7777777777777778,
              "#6ece58"
             ],
             [
              0.8888888888888888,
              "#b5de2b"
             ],
             [
              1,
              "#fde725"
             ]
            ],
            "type": "histogram2dcontour"
           }
          ],
          "mesh3d": [
           {
            "colorbar": {
             "outlinewidth": 1,
             "tickcolor": "rgb(36,36,36)",
             "ticks": "outside"
            },
            "type": "mesh3d"
           }
          ],
          "parcoords": [
           {
            "line": {
             "colorbar": {
              "outlinewidth": 1,
              "tickcolor": "rgb(36,36,36)",
              "ticks": "outside"
             }
            },
            "type": "parcoords"
           }
          ],
          "pie": [
           {
            "automargin": true,
            "type": "pie"
           }
          ],
          "scatter": [
           {
            "fillpattern": {
             "fillmode": "overlay",
             "size": 10,
             "solidity": 0.2
            },
            "type": "scatter"
           }
          ],
          "scatter3d": [
           {
            "line": {
             "colorbar": {
              "outlinewidth": 1,
              "tickcolor": "rgb(36,36,36)",
              "ticks": "outside"
             }
            },
            "marker": {
             "colorbar": {
              "outlinewidth": 1,
              "tickcolor": "rgb(36,36,36)",
              "ticks": "outside"
             }
            },
            "type": "scatter3d"
           }
          ],
          "scattercarpet": [
           {
            "marker": {
             "colorbar": {
              "outlinewidth": 1,
              "tickcolor": "rgb(36,36,36)",
              "ticks": "outside"
             }
            },
            "type": "scattercarpet"
           }
          ],
          "scattergeo": [
           {
            "marker": {
             "colorbar": {
              "outlinewidth": 1,
              "tickcolor": "rgb(36,36,36)",
              "ticks": "outside"
             }
            },
            "type": "scattergeo"
           }
          ],
          "scattergl": [
           {
            "marker": {
             "colorbar": {
              "outlinewidth": 1,
              "tickcolor": "rgb(36,36,36)",
              "ticks": "outside"
             }
            },
            "type": "scattergl"
           }
          ],
          "scattermapbox": [
           {
            "marker": {
             "colorbar": {
              "outlinewidth": 1,
              "tickcolor": "rgb(36,36,36)",
              "ticks": "outside"
             }
            },
            "type": "scattermapbox"
           }
          ],
          "scatterpolar": [
           {
            "marker": {
             "colorbar": {
              "outlinewidth": 1,
              "tickcolor": "rgb(36,36,36)",
              "ticks": "outside"
             }
            },
            "type": "scatterpolar"
           }
          ],
          "scatterpolargl": [
           {
            "marker": {
             "colorbar": {
              "outlinewidth": 1,
              "tickcolor": "rgb(36,36,36)",
              "ticks": "outside"
             }
            },
            "type": "scatterpolargl"
           }
          ],
          "scatterternary": [
           {
            "marker": {
             "colorbar": {
              "outlinewidth": 1,
              "tickcolor": "rgb(36,36,36)",
              "ticks": "outside"
             }
            },
            "type": "scatterternary"
           }
          ],
          "surface": [
           {
            "colorbar": {
             "outlinewidth": 1,
             "tickcolor": "rgb(36,36,36)",
             "ticks": "outside"
            },
            "colorscale": [
             [
              0,
              "#440154"
             ],
             [
              0.1111111111111111,
              "#482878"
             ],
             [
              0.2222222222222222,
              "#3e4989"
             ],
             [
              0.3333333333333333,
              "#31688e"
             ],
             [
              0.4444444444444444,
              "#26828e"
             ],
             [
              0.5555555555555556,
              "#1f9e89"
             ],
             [
              0.6666666666666666,
              "#35b779"
             ],
             [
              0.7777777777777778,
              "#6ece58"
             ],
             [
              0.8888888888888888,
              "#b5de2b"
             ],
             [
              1,
              "#fde725"
             ]
            ],
            "type": "surface"
           }
          ],
          "table": [
           {
            "cells": {
             "fill": {
              "color": "rgb(237,237,237)"
             },
             "line": {
              "color": "white"
             }
            },
            "header": {
             "fill": {
              "color": "rgb(217,217,217)"
             },
             "line": {
              "color": "white"
             }
            },
            "type": "table"
           }
          ]
         },
         "layout": {
          "annotationdefaults": {
           "arrowhead": 0,
           "arrowwidth": 1
          },
          "autotypenumbers": "strict",
          "coloraxis": {
           "colorbar": {
            "outlinewidth": 1,
            "tickcolor": "rgb(36,36,36)",
            "ticks": "outside"
           }
          },
          "colorscale": {
           "diverging": [
            [
             0,
             "rgb(103,0,31)"
            ],
            [
             0.1,
             "rgb(178,24,43)"
            ],
            [
             0.2,
             "rgb(214,96,77)"
            ],
            [
             0.3,
             "rgb(244,165,130)"
            ],
            [
             0.4,
             "rgb(253,219,199)"
            ],
            [
             0.5,
             "rgb(247,247,247)"
            ],
            [
             0.6,
             "rgb(209,229,240)"
            ],
            [
             0.7,
             "rgb(146,197,222)"
            ],
            [
             0.8,
             "rgb(67,147,195)"
            ],
            [
             0.9,
             "rgb(33,102,172)"
            ],
            [
             1,
             "rgb(5,48,97)"
            ]
           ],
           "sequential": [
            [
             0,
             "#440154"
            ],
            [
             0.1111111111111111,
             "#482878"
            ],
            [
             0.2222222222222222,
             "#3e4989"
            ],
            [
             0.3333333333333333,
             "#31688e"
            ],
            [
             0.4444444444444444,
             "#26828e"
            ],
            [
             0.5555555555555556,
             "#1f9e89"
            ],
            [
             0.6666666666666666,
             "#35b779"
            ],
            [
             0.7777777777777778,
             "#6ece58"
            ],
            [
             0.8888888888888888,
             "#b5de2b"
            ],
            [
             1,
             "#fde725"
            ]
           ],
           "sequentialminus": [
            [
             0,
             "#440154"
            ],
            [
             0.1111111111111111,
             "#482878"
            ],
            [
             0.2222222222222222,
             "#3e4989"
            ],
            [
             0.3333333333333333,
             "#31688e"
            ],
            [
             0.4444444444444444,
             "#26828e"
            ],
            [
             0.5555555555555556,
             "#1f9e89"
            ],
            [
             0.6666666666666666,
             "#35b779"
            ],
            [
             0.7777777777777778,
             "#6ece58"
            ],
            [
             0.8888888888888888,
             "#b5de2b"
            ],
            [
             1,
             "#fde725"
            ]
           ]
          },
          "colorway": [
           "#1F77B4",
           "#FF7F0E",
           "#2CA02C",
           "#D62728",
           "#9467BD",
           "#8C564B",
           "#E377C2",
           "#7F7F7F",
           "#BCBD22",
           "#17BECF"
          ],
          "font": {
           "color": "rgb(36,36,36)"
          },
          "geo": {
           "bgcolor": "white",
           "lakecolor": "white",
           "landcolor": "white",
           "showlakes": true,
           "showland": true,
           "subunitcolor": "white"
          },
          "hoverlabel": {
           "align": "left"
          },
          "hovermode": "closest",
          "mapbox": {
           "style": "light"
          },
          "paper_bgcolor": "white",
          "plot_bgcolor": "white",
          "polar": {
           "angularaxis": {
            "gridcolor": "rgb(232,232,232)",
            "linecolor": "rgb(36,36,36)",
            "showgrid": false,
            "showline": true,
            "ticks": "outside"
           },
           "bgcolor": "white",
           "radialaxis": {
            "gridcolor": "rgb(232,232,232)",
            "linecolor": "rgb(36,36,36)",
            "showgrid": false,
            "showline": true,
            "ticks": "outside"
           }
          },
          "scene": {
           "xaxis": {
            "backgroundcolor": "white",
            "gridcolor": "rgb(232,232,232)",
            "gridwidth": 2,
            "linecolor": "rgb(36,36,36)",
            "showbackground": true,
            "showgrid": false,
            "showline": true,
            "ticks": "outside",
            "zeroline": false,
            "zerolinecolor": "rgb(36,36,36)"
           },
           "yaxis": {
            "backgroundcolor": "white",
            "gridcolor": "rgb(232,232,232)",
            "gridwidth": 2,
            "linecolor": "rgb(36,36,36)",
            "showbackground": true,
            "showgrid": false,
            "showline": true,
            "ticks": "outside",
            "zeroline": false,
            "zerolinecolor": "rgb(36,36,36)"
           },
           "zaxis": {
            "backgroundcolor": "white",
            "gridcolor": "rgb(232,232,232)",
            "gridwidth": 2,
            "linecolor": "rgb(36,36,36)",
            "showbackground": true,
            "showgrid": false,
            "showline": true,
            "ticks": "outside",
            "zeroline": false,
            "zerolinecolor": "rgb(36,36,36)"
           }
          },
          "shapedefaults": {
           "fillcolor": "black",
           "line": {
            "width": 0
           },
           "opacity": 0.3
          },
          "ternary": {
           "aaxis": {
            "gridcolor": "rgb(232,232,232)",
            "linecolor": "rgb(36,36,36)",
            "showgrid": false,
            "showline": true,
            "ticks": "outside"
           },
           "baxis": {
            "gridcolor": "rgb(232,232,232)",
            "linecolor": "rgb(36,36,36)",
            "showgrid": false,
            "showline": true,
            "ticks": "outside"
           },
           "bgcolor": "white",
           "caxis": {
            "gridcolor": "rgb(232,232,232)",
            "linecolor": "rgb(36,36,36)",
            "showgrid": false,
            "showline": true,
            "ticks": "outside"
           }
          },
          "title": {
           "x": 0.05
          },
          "xaxis": {
           "automargin": true,
           "gridcolor": "rgb(232,232,232)",
           "linecolor": "rgb(36,36,36)",
           "showgrid": false,
           "showline": true,
           "ticks": "outside",
           "title": {
            "standoff": 15
           },
           "zeroline": false,
           "zerolinecolor": "rgb(36,36,36)"
          },
          "yaxis": {
           "automargin": true,
           "gridcolor": "rgb(232,232,232)",
           "linecolor": "rgb(36,36,36)",
           "showgrid": false,
           "showline": true,
           "ticks": "outside",
           "title": {
            "standoff": 15
           },
           "zeroline": false,
           "zerolinecolor": "rgb(36,36,36)"
          }
         }
        },
        "title": {
         "font": {
          "color": "Black",
          "size": 22
         },
         "text": "<b>Intertopic Distance Map</b>",
         "x": 0.5,
         "xanchor": "center",
         "y": 0.95,
         "yanchor": "top"
        },
        "width": 650,
        "xaxis": {
         "anchor": "y",
         "domain": [
          0,
          1
         ],
         "range": [
          -9.737563276290894,
          -5.768065357208252
         ],
         "title": {
          "text": ""
         },
         "type": "linear",
         "visible": false
        },
        "yaxis": {
         "anchor": "x",
         "domain": [
          0,
          1
         ],
         "range": [
          -2.716805028915405,
          -0.7733940333127975
         ],
         "title": {
          "text": ""
         },
         "type": "linear",
         "visible": false
        }
       }
      },
      "image/png": "[encoded data removed]",
      "text/html": [
       "<div>                            <div id=\"c16ff861-b2c6-440d-a47f-22d0a5ca8ea2\" class=\"plotly-graph-div\" style=\"height:650px; width:650px;\"></div>            <script type=\"text/javascript\">                require([\"plotly\"], function(Plotly) {                    window.PLOTLYENV=window.PLOTLYENV || {};                                    if (document.getElementById(\"c16ff861-b2c6-440d-a47f-22d0a5ca8ea2\")) {                    Plotly.newPlot(                        \"c16ff861-b2c6-440d-a47f-22d0a5ca8ea2\",                        [{\"customdata\":[[0,\"children | dont | family | things | years\",22],[1,\"dont | things | people | think | worry\",10],[2,\"oh | good | fun | eat | polenta\",8],[3,\"jose | san | people | town | santa\",5]],\"hovertemplate\":\"<b>Topic %{customdata[0]}</b><br>%{customdata[1]}<br>Size: %{customdata[2]}\",\"legendgroup\":\"\",\"marker\":{\"color\":\"#B0BEC5\",\"size\":[22,10,8,5],\"sizemode\":\"area\",\"sizeref\":0.01375,\"symbol\":\"circle\",\"line\":{\"color\":\"DarkSlateGrey\",\"width\":2}},\"mode\":\"markers\",\"name\":\"\",\"orientation\":\"v\",\"showlegend\":false,\"x\":[-7.587475776672363,-6.785959243774414,-8.467446327209473,-8.258594512939453],\"xaxis\":\"x\",\"y\":[-2.3624391555786133,-2.109788179397583,-1.7882530689239502,-0.9098753333091736],\"yaxis\":\"y\",\"type\":\"scatter\"}],                        {\"template\":{\"data\":{\"barpolar\":[{\"marker\":{\"line\":{\"color\":\"white\",\"width\":0.5},\"pattern\":{\"fillmode\":\"overlay\",\"size\":10,\"solidity\":0.2}},\"type\":\"barpolar\"}],\"bar\":[{\"error_x\":{\"color\":\"rgb(36,36,36)\"},\"error_y\":{\"color\":\"rgb(36,36,36)\"},\"marker\":{\"line\":{\"color\":\"white\",\"width\":0.5},\"pattern\":{\"fillmode\":\"overlay\",\"size\":10,\"solidity\":0.2}},\"type\":\"bar\"}],\"carpet\":[{\"aaxis\":{\"endlinecolor\":\"rgb(36,36,36)\",\"gridcolor\":\"white\",\"linecolor\":\"white\",\"minorgridcolor\":\"white\",\"startlinecolor\":\"rgb(36,36,36)\"},\"baxis\":{\"endlinecolor\":\"rgb(36,36,36)\",\"gridcolor\":\"white\",\"linecolor\":\"white\",\"minorgridcolor\":\"white\",\"startlinecolor\":\"rgb(36,36,36)\"},\"type\":\"carpet\"}],\"choropleth\":[{\"colorbar\":{\"outlinewidth\":1,\"tickcolor\":\"rgb(36,36,36)\",\"ticks\":\"outside\"},\"type\":\"choropleth\"}],\"contourcarpet\":[{\"colorbar\":{\"outlinewidth\":1,\"tickcolor\":\"rgb(36,36,36)\",\"ticks\":\"outside\"},\"type\":\"contourcarpet\"}],\"contour\":[{\"colorbar\":{\"outlinewidth\":1,\"tickcolor\":\"rgb(36,36,36)\",\"ticks\":\"outside\"},\"colorscale\":[[0.0,\"#440154\"],[0.1111111111111111,\"#482878\"],[0.2222222222222222,\"#3e4989\"],[0.3333333333333333,\"#31688e\"],[0.4444444444444444,\"#26828e\"],[0.5555555555555556,\"#1f9e89\"],[0.6666666666666666,\"#35b779\"],[0.7777777777777778,\"#6ece58\"],[0.8888888888888888,\"#b5de2b\"],[1.0,\"#fde725\"]],\"type\":\"contour\"}],\"heatmapgl\":[{\"colorbar\":{\"outlinewidth\":1,\"tickcolor\":\"rgb(36,36,36)\",\"ticks\":\"outside\"},\"colorscale\":[[0.0,\"#440154\"],[0.1111111111111111,\"#482878\"],[0.2222222222222222,\"#3e4989\"],[0.3333333333333333,\"#31688e\"],[0.4444444444444444,\"#26828e\"],[0.5555555555555556,\"#1f9e89\"],[0.6666666666666666,\"#35b779\"],[0.7777777777777778,\"#6ece58\"],[0.8888888888888888,\"#b5de2b\"],[1.0,\"#fde725\"]],\"type\":\"heatmapgl\"}],\"heatmap\":[{\"colorbar\":{\"outlinewidth\":1,\"tickcolor\":\"rgb(36,36,36)\",\"ticks\":\"outside\"},\"colorscale\":[[0.0,\"#440154\"],[0.1111111111111111,\"#482878\"],[0.2222222222222222,\"#3e4989\"],[0.3333333333333333,\"#31688e\"],[0.4444444444444444,\"#26828e\"],[0.5555555555555556,\"#1f9e89\"],[0.6666666666666666,\"#35b779\"],[0.7777777777777778,\"#6ece58\"],[0.8888888888888888,\"#b5de2b\"],[1.0,\"#fde725\"]],\"type\":\"heatmap\"}],\"histogram2dcontour\":[{\"colorbar\":{\"outlinewidth\":1,\"tickcolor\":\"rgb(36,36,36)\",\"ticks\":\"outside\"},\"colorscale\":[[0.0,\"#440154\"],[0.1111111111111111,\"#482878\"],[0.2222222222222222,\"#3e4989\"],[0.3333333333333333,\"#31688e\"],[0.4444444444444444,\"#26828e\"],[0.5555555555555556,\"#1f9e89\"],[0.6666666666666666,\"#35b779\"],[0.7777777777777778,\"#6ece58\"],[0.8888888888888888,\"#b5de2b\"],[1.0,\"#fde725\"]],\"type\":\"histogram2dcontour\"}],\"histogram2d\":[{\"colorbar\":{\"outlinewidth\":1,\"tickcolor\":\"rgb(36,36,36)\",\"ticks\":\"outside\"},\"colorscale\":[[0.0,\"#440154\"],[0.1111111111111111,\"#482878\"],[0.2222222222222222,\"#3e4989\"],[0.3333333333333333,\"#31688e\"],[0.4444444444444444,\"#26828e\"],[0.5555555555555556,\"#1f9e89\"],[0.6666666666666666,\"#35b779\"],[0.7777777777777778,\"#6ece58\"],[0.8888888888888888,\"#b5de2b\"],[1.0,\"#fde725\"]],\"type\":\"histogram2d\"}],\"histogram\":[{\"marker\":{\"line\":{\"color\":\"white\",\"width\":0.6}},\"type\":\"histogram\"}],\"mesh3d\":[{\"colorbar\":{\"outlinewidth\":1,\"tickcolor\":\"rgb(36,36,36)\",\"ticks\":\"outside\"},\"type\":\"mesh3d\"}],\"parcoords\":[{\"line\":{\"colorbar\":{\"outlinewidth\":1,\"tickcolor\":\"rgb(36,36,36)\",\"ticks\":\"outside\"}},\"type\":\"parcoords\"}],\"pie\":[{\"automargin\":true,\"type\":\"pie\"}],\"scatter3d\":[{\"line\":{\"colorbar\":{\"outlinewidth\":1,\"tickcolor\":\"rgb(36,36,36)\",\"ticks\":\"outside\"}},\"marker\":{\"colorbar\":{\"outlinewidth\":1,\"tickcolor\":\"rgb(36,36,36)\",\"ticks\":\"outside\"}},\"type\":\"scatter3d\"}],\"scattercarpet\":[{\"marker\":{\"colorbar\":{\"outlinewidth\":1,\"tickcolor\":\"rgb(36,36,36)\",\"ticks\":\"outside\"}},\"type\":\"scattercarpet\"}],\"scattergeo\":[{\"marker\":{\"colorbar\":{\"outlinewidth\":1,\"tickcolor\":\"rgb(36,36,36)\",\"ticks\":\"outside\"}},\"type\":\"scattergeo\"}],\"scattergl\":[{\"marker\":{\"colorbar\":{\"outlinewidth\":1,\"tickcolor\":\"rgb(36,36,36)\",\"ticks\":\"outside\"}},\"type\":\"scattergl\"}],\"scattermapbox\":[{\"marker\":{\"colorbar\":{\"outlinewidth\":1,\"tickcolor\":\"rgb(36,36,36)\",\"ticks\":\"outside\"}},\"type\":\"scattermapbox\"}],\"scatterpolargl\":[{\"marker\":{\"colorbar\":{\"outlinewidth\":1,\"tickcolor\":\"rgb(36,36,36)\",\"ticks\":\"outside\"}},\"type\":\"scatterpolargl\"}],\"scatterpolar\":[{\"marker\":{\"colorbar\":{\"outlinewidth\":1,\"tickcolor\":\"rgb(36,36,36)\",\"ticks\":\"outside\"}},\"type\":\"scatterpolar\"}],\"scatter\":[{\"fillpattern\":{\"fillmode\":\"overlay\",\"size\":10,\"solidity\":0.2},\"type\":\"scatter\"}],\"scatterternary\":[{\"marker\":{\"colorbar\":{\"outlinewidth\":1,\"tickcolor\":\"rgb(36,36,36)\",\"ticks\":\"outside\"}},\"type\":\"scatterternary\"}],\"surface\":[{\"colorbar\":{\"outlinewidth\":1,\"tickcolor\":\"rgb(36,36,36)\",\"ticks\":\"outside\"},\"colorscale\":[[0.0,\"#440154\"],[0.1111111111111111,\"#482878\"],[0.2222222222222222,\"#3e4989\"],[0.3333333333333333,\"#31688e\"],[0.4444444444444444,\"#26828e\"],[0.5555555555555556,\"#1f9e89\"],[0.6666666666666666,\"#35b779\"],[0.7777777777777778,\"#6ece58\"],[0.8888888888888888,\"#b5de2b\"],[1.0,\"#fde725\"]],\"type\":\"surface\"}],\"table\":[{\"cells\":{\"fill\":{\"color\":\"rgb(237,237,237)\"},\"line\":{\"color\":\"white\"}},\"header\":{\"fill\":{\"color\":\"rgb(217,217,217)\"},\"line\":{\"color\":\"white\"}},\"type\":\"table\"}]},\"layout\":{\"annotationdefaults\":{\"arrowhead\":0,\"arrowwidth\":1},\"autotypenumbers\":\"strict\",\"coloraxis\":{\"colorbar\":{\"outlinewidth\":1,\"tickcolor\":\"rgb(36,36,36)\",\"ticks\":\"outside\"}},\"colorscale\":{\"diverging\":[[0.0,\"rgb(103,0,31)\"],[0.1,\"rgb(178,24,43)\"],[0.2,\"rgb(214,96,77)\"],[0.3,\"rgb(244,165,130)\"],[0.4,\"rgb(253,219,199)\"],[0.5,\"rgb(247,247,247)\"],[0.6,\"rgb(209,229,240)\"],[0.7,\"rgb(146,197,222)\"],[0.8,\"rgb(67,147,195)\"],[0.9,\"rgb(33,102,172)\"],[1.0,\"rgb(5,48,97)\"]],\"sequential\":[[0.0,\"#440154\"],[0.1111111111111111,\"#482878\"],[0.2222222222222222,\"#3e4989\"],[0.3333333333333333,\"#31688e\"],[0.4444444444444444,\"#26828e\"],[0.5555555555555556,\"#1f9e89\"],[0.6666666666666666,\"#35b779\"],[0.7777777777777778,\"#6ece58\"],[0.8888888888888888,\"#b5de2b\"],[1.0,\"#fde725\"]],\"sequentialminus\":[[0.0,\"#440154\"],[0.1111111111111111,\"#482878\"],[0.2222222222222222,\"#3e4989\"],[0.3333333333333333,\"#31688e\"],[0.4444444444444444,\"#26828e\"],[0.5555555555555556,\"#1f9e89\"],[0.6666666666666666,\"#35b779\"],[0.7777777777777778,\"#6ece58\"],[0.8888888888888888,\"#b5de2b\"],[1.0,\"#fde725\"]]},\"colorway\":[\"#1F77B4\",\"#FF7F0E\",\"#2CA02C\",\"#D62728\",\"#9467BD\",\"#8C564B\",\"#E377C2\",\"#7F7F7F\",\"#BCBD22\",\"#17BECF\"],\"font\":{\"color\":\"rgb(36,36,36)\"},\"geo\":{\"bgcolor\":\"white\",\"lakecolor\":\"white\",\"landcolor\":\"white\",\"showlakes\":true,\"showland\":true,\"subunitcolor\":\"white\"},\"hoverlabel\":{\"align\":\"left\"},\"hovermode\":\"closest\",\"mapbox\":{\"style\":\"light\"},\"paper_bgcolor\":\"white\",\"plot_bgcolor\":\"white\",\"polar\":{\"angularaxis\":{\"gridcolor\":\"rgb(232,232,232)\",\"linecolor\":\"rgb(36,36,36)\",\"showgrid\":false,\"showline\":true,\"ticks\":\"outside\"},\"bgcolor\":\"white\",\"radialaxis\":{\"gridcolor\":\"rgb(232,232,232)\",\"linecolor\":\"rgb(36,36,36)\",\"showgrid\":false,\"showline\":true,\"ticks\":\"outside\"}},\"scene\":{\"xaxis\":{\"backgroundcolor\":\"white\",\"gridcolor\":\"rgb(232,232,232)\",\"gridwidth\":2,\"linecolor\":\"rgb(36,36,36)\",\"showbackground\":true,\"showgrid\":false,\"showline\":true,\"ticks\":\"outside\",\"zeroline\":false,\"zerolinecolor\":\"rgb(36,36,36)\"},\"yaxis\":{\"backgroundcolor\":\"white\",\"gridcolor\":\"rgb(232,232,232)\",\"gridwidth\":2,\"linecolor\":\"rgb(36,36,36)\",\"showbackground\":true,\"showgrid\":false,\"showline\":true,\"ticks\":\"outside\",\"zeroline\":false,\"zerolinecolor\":\"rgb(36,36,36)\"},\"zaxis\":{\"backgroundcolor\":\"white\",\"gridcolor\":\"rgb(232,232,232)\",\"gridwidth\":2,\"linecolor\":\"rgb(36,36,36)\",\"showbackground\":true,\"showgrid\":false,\"showline\":true,\"ticks\":\"outside\",\"zeroline\":false,\"zerolinecolor\":\"rgb(36,36,36)\"}},\"shapedefaults\":{\"fillcolor\":\"black\",\"line\":{\"width\":0},\"opacity\":0.3},\"ternary\":{\"aaxis\":{\"gridcolor\":\"rgb(232,232,232)\",\"linecolor\":\"rgb(36,36,36)\",\"showgrid\":false,\"showline\":true,\"ticks\":\"outside\"},\"baxis\":{\"gridcolor\":\"rgb(232,232,232)\",\"linecolor\":\"rgb(36,36,36)\",\"showgrid\":false,\"showline\":true,\"ticks\":\"outside\"},\"bgcolor\":\"white\",\"caxis\":{\"gridcolor\":\"rgb(232,232,232)\",\"linecolor\":\"rgb(36,36,36)\",\"showgrid\":false,\"showline\":true,\"ticks\":\"outside\"}},\"title\":{\"x\":0.05},\"xaxis\":{\"automargin\":true,\"gridcolor\":\"rgb(232,232,232)\",\"linecolor\":\"rgb(36,36,36)\",\"showgrid\":false,\"showline\":true,\"ticks\":\"outside\",\"title\":{\"standoff\":15},\"zeroline\":false,\"zerolinecolor\":\"rgb(36,36,36)\"},\"yaxis\":{\"automargin\":true,\"gridcolor\":\"rgb(232,232,232)\",\"linecolor\":\"rgb(36,36,36)\",\"showgrid\":false,\"showline\":true,\"ticks\":\"outside\",\"title\":{\"standoff\":15},\"zeroline\":false,\"zerolinecolor\":\"rgb(36,36,36)\"}}},\"xaxis\":{\"anchor\":\"y\",\"domain\":[0.0,1.0],\"title\":{\"text\":\"\"},\"visible\":false,\"range\":[-9.737563276290894,-5.768065357208252]},\"yaxis\":{\"anchor\":\"x\",\"domain\":[0.0,1.0],\"title\":{\"text\":\"\"},\"visible\":false,\"range\":[-2.716805028915405,-0.7733940333127975]},\"legend\":{\"tracegroupgap\":0,\"itemsizing\":\"constant\"},\"margin\":{\"t\":60},\"title\":{\"font\":{\"size\":22,\"color\":\"Black\"},\"text\":\"<b>Intertopic Distance Map</b>\",\"y\":0.95,\"x\":0.5,\"xanchor\":\"center\",\"yanchor\":\"top\"},\"hoverlabel\":{\"font\":{\"size\":16,\"family\":\"Rockwell\"},\"bgcolor\":\"white\"},\"width\":650,\"height\":650,\"sliders\":[{\"active\":0,\"pad\":{\"t\":50},\"steps\":[{\"args\":[{\"marker.color\":[[\"red\",\"#B0BEC5\",\"#B0BEC5\",\"#B0BEC5\"]]}],\"label\":\"Topic 0\",\"method\":\"update\"},{\"args\":[{\"marker.color\":[[\"#B0BEC5\",\"red\",\"#B0BEC5\",\"#B0BEC5\"]]}],\"label\":\"Topic 1\",\"method\":\"update\"},{\"args\":[{\"marker.color\":[[\"#B0BEC5\",\"#B0BEC5\",\"red\",\"#B0BEC5\"]]}],\"label\":\"Topic 2\",\"method\":\"update\"},{\"args\":[{\"marker.color\":[[\"#B0BEC5\",\"#B0BEC5\",\"#B0BEC5\",\"red\"]]}],\"label\":\"Topic 3\",\"method\":\"update\"}]}],\"shapes\":[{\"line\":{\"color\":\"#CFD8DC\",\"width\":2},\"type\":\"line\",\"x0\":-7.752814316749573,\"x1\":-7.752814316749573,\"y0\":-2.716805028915405,\"y1\":-0.7733940333127975},{\"line\":{\"color\":\"#9E9E9E\",\"width\":2},\"type\":\"line\",\"x0\":-9.737563276290894,\"x1\":-5.768065357208252,\"y0\":-1.7450995311141013,\"y1\":-1.7450995311141013}],\"annotations\":[{\"showarrow\":false,\"text\":\"D1\",\"x\":-9.737563276290894,\"y\":-1.7450995311141013,\"yshift\":10},{\"showarrow\":false,\"text\":\"D2\",\"x\":-7.752814316749573,\"xshift\":10,\"y\":-0.7733940333127975}]},                        {\"responsive\": true}                    ).then(function(){\n",
       "                            \n",
       "var gd = document.getElementById('c16ff861-b2c6-440d-a47f-22d0a5ca8ea2');\n",
       "var x = new MutationObserver(function (mutations, observer) {{\n",
       "        var display = window.getComputedStyle(gd).display;\n",
       "        if (!display || display === 'none') {{\n",
       "            console.log([gd, 'removed!']);\n",
       "            Plotly.purge(gd);\n",
       "            observer.disconnect();\n",
       "        }}\n",
       "}});\n",
       "\n",
       "// Listen for the removal of the full notebook cells\n",
       "var notebookContainer = gd.closest('#notebook-container');\n",
       "if (notebookContainer) {{\n",
       "    x.observe(notebookContainer, {childList: true});\n",
       "}}\n",
       "\n",
       "// Listen for the clearing of the current output cell\n",
       "var outputEl = gd.closest('.output');\n",
       "if (outputEl) {{\n",
       "    x.observe(outputEl, {childList: true});\n",
       "}}\n",
       "\n",
       "                        })                };                });            </script>        </div>"
      ]
     },
     "metadata": {},
     "output_type": "display_data"
    }
   ],
   "source": [
    "topic_model.visualize_topics()"
   ]
  },
  {
   "cell_type": "code",
   "execution_count": null,
   "id": "55894787-5521-4495-9f15-3e8289573e06",
   "metadata": {
    "tags": []
   },
   "outputs": [],
   "source": [
    "result = topic_model.get_document_info(docs)\n",
    "result.drop([\"Top_n_words\", \"Representative_document\"], axis=1, inplace=True)\n",
    "result\n"
   ]
  },
  {
   "cell_type": "code",
   "execution_count": null,
   "id": "629d0e10-20ab-482c-8913-0342cac17d0f",
   "metadata": {
    "tags": []
   },
   "outputs": [],
   "source": [
    "docs[0]"
   ]
  },
  {
   "cell_type": "code",
   "execution_count": null,
   "id": "65fc2cd9-7807-4dd3-9c89-8158b9af005f",
   "metadata": {
    "tags": []
   },
   "outputs": [],
   "source": [
    "topic_model.get_topic_info(0)"
   ]
  },
  {
   "cell_type": "code",
   "execution_count": null,
   "id": "ca5c6973-46c2-49fe-9e10-1066df52661a",
   "metadata": {
    "tags": []
   },
   "outputs": [],
   "source": [
    "df_p2 = pd.read_csv(\"transcripts/mr-mao.csv\")\n",
    "podcast2 = df_p2[\"Transcript\"].to_list()\n",
    "podcast2 = [re.sub(\"Q: |Mr. Mao: \", \"\", text) for text in podcast2]"
   ]
  }
 ],
 "metadata": {
  "kernelspec": {
   "display_name": "Python 3 (ipykernel)",
   "language": "python",
   "name": "python3"
  },
  "language_info": {
   "codemirror_mode": {
    "name": "ipython",
    "version": 3
   },
   "file_extension": ".py",
   "mimetype": "text/x-python",
   "name": "python",
   "nbconvert_exporter": "python",
   "pygments_lexer": "ipython3",
   "version": "3.9.16"
  }
 },
 "nbformat": 4,
 "nbformat_minor": 5
}
